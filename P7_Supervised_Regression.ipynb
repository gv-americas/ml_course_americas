{
  "cells": [
    {
      "attachments": {},
      "cell_type": "markdown",
      "metadata": {
        "id": "-wO0Szy68-0_"
      },
      "source": [
        "## Downloading data and plotting scripts\n",
        "\n",
        "The `curl` command downloads the repository data used for the course. If you are on Google Colaboratory session, you will also need to download the plotting scripts from Geovariances.\n"
      ]
    },
    {
      "cell_type": "code",
      "execution_count": null,
      "metadata": {
        "colab": {
          "base_uri": "https://localhost:8080/"
        },
        "id": "Sle6QTh685PW",
        "outputId": "1b484ef0-ff54-43b3-d199-528bc81d7cb6"
      },
      "outputs": [],
      "source": [
        "# Downloads dataset from GitHub\n",
        "!curl -o phosphate_assay_sampled_geomet.csv https://raw.githubusercontent.com/gv-americas/ml_course_americas/main/phosphate_assay_sampled_geomet.csv\n",
        "\n",
        "# If you are in a Google Colab session, make sure to also download the GeoVariances module for plotting!\n",
        "#!curl -o plotting_gv.py https://raw.githubusercontent.com/gv-americas/ml_course_americas/main/plotting_gv.py\n",
        "\n",
        "# Download the StandardScaler model\n",
        "#!curl -o std_scaler.bin https://raw.githubusercontent.com/gv-americas/ml_course_americas/main/std_scaler.bin"
      ]
    },
    {
      "cell_type": "markdown",
      "metadata": {
        "id": "KHWv9QAm9jxf"
      },
      "source": [
        "## Importing four libraries:\n",
        "\n",
        "**Pandas**: used for data manipulation and analysis.\n",
        "\n",
        "**Numpy**: used for scientific computing and working with arrays.\n",
        "\n",
        "**Matplotlib**: used for data visualization and creating plots.\n",
        "\n",
        "**Plotting_gv**: a custom plotting library created by GV Americas, which contains additional plotting functions and custom styles."
      ]
    },
    {
      "cell_type": "code",
      "execution_count": null,
      "metadata": {
        "id": "LZRa5rgd9CVP"
      },
      "outputs": [],
      "source": [
        "import pandas as pd\n",
        "import numpy as np\n",
        "import matplotlib.pyplot as plt\n",
        "import plotting_gv as gv"
      ]
    },
    {
      "attachments": {},
      "cell_type": "markdown",
      "metadata": {
        "id": "G0rb5HFz9AXa"
      },
      "source": [
        "## Reading data with Pandas"
      ]
    },
    {
      "cell_type": "code",
      "execution_count": null,
      "metadata": {
        "colab": {
          "base_uri": "https://localhost:8080/",
          "height": 423
        },
        "id": "a-Nuv_db85PX",
        "outputId": "3a7d7e82-b78c-4355-8f4e-2e4e777c3c6b"
      },
      "outputs": [],
      "source": [
        "data = pd.read_csv('phosphate_assay_sampled_geomet.csv')\n",
        "\n",
        "data"
      ]
    },
    {
      "attachments": {},
      "cell_type": "markdown",
      "metadata": {
        "id": "9UmCTixB9pst"
      },
      "source": [
        "# Data preprocessing analysis: cleaning and processing\n",
        "\n",
        "## Clean dataframe with `dataframe.dropna()`"
      ]
    },
    {
      "cell_type": "code",
      "execution_count": null,
      "metadata": {
        "id": "ONFhG7_w85PZ",
        "outputId": "81746384-b8ef-4088-ea0f-1fc17f06d055"
      },
      "outputs": [],
      "source": [
        "data0 = data.dropna()\n",
        "\n",
        "data0.shape[0]"
      ]
    },
    {
      "attachments": {},
      "cell_type": "markdown",
      "metadata": {
        "id": "89uY5m9s9s-M"
      },
      "source": [
        "## Declaring variables to filter data"
      ]
    },
    {
      "cell_type": "code",
      "execution_count": null,
      "metadata": {
        "id": "cnUAUNDw85PZ"
      },
      "outputs": [],
      "source": [
        "coords = ['x', 'y', 'z']\n",
        "\n",
        "lito_var = ['ALT']\n",
        "\n",
        "variables =  ['AL2O3', 'CAO', 'FE2O3', 'MGO',  'P2O5', 'SIO2', 'TIO2', 'NB2O5', 'BAO']\n",
        "\n",
        "gmt = ['Consumo_coletor_(g/t)', 'MASSA_T']"
      ]
    },
    {
      "attachments": {},
      "cell_type": "markdown",
      "metadata": {
        "id": "o01u-wPK9wgu"
      },
      "source": [
        "## Flagging outliers with `gv.flag_outliers()`"
      ]
    },
    {
      "cell_type": "code",
      "execution_count": null,
      "metadata": {
        "id": "Td7gJ6RW85Pa",
        "outputId": "bbb425fc-4fa6-47ac-ef30-52c53390bb87"
      },
      "outputs": [],
      "source": [
        "gv.flag_outliers(data, 'NB2O5', remove_outliers=False)"
      ]
    },
    {
      "attachments": {},
      "cell_type": "markdown",
      "metadata": {
        "id": "ojS5WlTt9_Z6"
      },
      "source": [
        "# Exploratory data analysis\n",
        "\n",
        "## Scatter matrix with `gv.scatter_matrix()`"
      ]
    },
    {
      "cell_type": "code",
      "execution_count": null,
      "metadata": {
        "id": "vYk60BI285Pa",
        "outputId": "c58ae7c0-ca2e-413c-8e8f-e7789eaa258c"
      },
      "outputs": [],
      "source": [
        "gv.scatter_matrix(data[variables+gmt], figsize=(30,30))"
      ]
    },
    {
      "attachments": {},
      "cell_type": "markdown",
      "metadata": {
        "id": "4wr6qIvk-FL-"
      },
      "source": [
        "## Correlation Matrix with `gv.correlation_matrix()`"
      ]
    },
    {
      "cell_type": "code",
      "execution_count": null,
      "metadata": {
        "id": "pqY6z2yh85Pb",
        "outputId": "f1c81f63-2953-4007-92cc-61516851e930"
      },
      "outputs": [],
      "source": [
        "gv.correlation_matrix(data[variables+gmt], fsize=(15,15))"
      ]
    },
    {
      "attachments": {},
      "cell_type": "markdown",
      "metadata": {
        "id": "xBuAaxWA-K4n"
      },
      "source": [
        "## Splitting features (X) and target (y)"
      ]
    },
    {
      "cell_type": "code",
      "execution_count": null,
      "metadata": {
        "id": "tjpeLiP085Pb"
      },
      "outputs": [],
      "source": [
        "X = data0[variables].values #declarando as variáveis ou features\n",
        "y = data0[gmt[0]] #declarando a target gmt[0] ou gmt[1]"
      ]
    },
    {
      "attachments": {},
      "cell_type": "markdown",
      "metadata": {
        "id": "vLT8hlRi-b0P"
      },
      "source": [
        "## Split train, test samples with `sklearn.model_selection`"
      ]
    },
    {
      "cell_type": "code",
      "execution_count": null,
      "metadata": {
        "id": "aQzRn34-85Pn"
      },
      "outputs": [],
      "source": [
        "from sklearn.model_selection import train_test_split\n",
        "\n",
        "\n",
        "X_train, X_test, y_train, y_test = train_test_split(\n",
        "    X, # X features, independent variables\n",
        "    y, # y target, dependet variable\n",
        "    test_size=0.3, #fração de treino e teste\n",
        "    shuffle=True, #embaralha os dados: evita que a divisão dos dados fique tendenciosa a uma classe\n",
        "    random_state=100, #semente aleatória: garante a repoducibilidade dos resultados, ou seja, a divisão dos dados será sempre a mesma\n",
        "    )\n"
      ]
    },
    {
      "cell_type": "code",
      "execution_count": null,
      "metadata": {
        "id": "hND-uvSG85Po",
        "outputId": "31a7f10c-556b-429b-aafc-8b53d0219163"
      },
      "outputs": [],
      "source": [
        "print('Fração de treino:')\n",
        "len(X_train)"
      ]
    },
    {
      "cell_type": "code",
      "execution_count": null,
      "metadata": {
        "id": "x4BP2gVO85Po",
        "outputId": "47a11df8-8b21-45b9-b476-cc42fcab7d03"
      },
      "outputs": [],
      "source": [
        "print('Fração de validação:')\n",
        "len(X_test)"
      ]
    },
    {
      "attachments": {},
      "cell_type": "markdown",
      "metadata": {
        "id": "kXXz0RT--jE5"
      },
      "source": [
        "# Data transformation: `StandardScaler()` using Sklearn.preprocessing\n",
        "\n",
        "$$ z = \\frac{x-\\mu}{\\sigma}$$\n",
        "\n",
        "Where $\\mu$ is the mean of the training samples, and $\\sigma$ is the standard deviation of the samples. Documentation can be found on [scikit-learn website](https://scikit-learn.org/stable/modules/generated/sklearn.preprocessing.StandardScaler.html)."
      ]
    },
    {
      "cell_type": "code",
      "execution_count": null,
      "metadata": {
        "id": "kdoOH8FA85Pp"
      },
      "outputs": [],
      "source": [
        "from sklearn.preprocessing import StandardScaler\n",
        "from joblib import load\n",
        "\n",
        "scaler = load(\"std_scaler.bin\")\n",
        "\n",
        "# só precisamos transformar o X, ou seja, as features onde serão treinados e validados os modelos\n",
        "scaler.fit(X_train)\n",
        "X_train = scaler.transform(X_train)\n",
        "X_test = scaler.transform(X_test)"
      ]
    },
    {
      "attachments": {},
      "cell_type": "markdown",
      "metadata": {
        "id": "OSxGCRt085Pp"
      },
      "source": [
        "## KNN Regressor\n",
        "\n",
        "Documentation can be found on [scikit-learn website](https://scikit-learn.org/stable/modules/generated/sklearn.neighbors.KNeighborsRegressor.html)"
      ]
    },
    {
      "cell_type": "code",
      "execution_count": null,
      "metadata": {
        "id": "tOm3lOcM85Pq"
      },
      "outputs": [],
      "source": [
        "from sklearn.neighbors import KNeighborsRegressor\n"
      ]
    },
    {
      "cell_type": "code",
      "execution_count": null,
      "metadata": {
        "id": "BDuAcFBP85Pq"
      },
      "outputs": [],
      "source": [
        "nn = 50 #número de vizinhos\n",
        "\n",
        "\n",
        "knn = KNeighborsRegressor(\n",
        "    n_neighbors=nn, #numero de vizinhos a ser considerados\n",
        "    weights='distance', #como ele vai ponderar a proximidade das amostras (pesos), nesse caso distancia euclidiana\n",
        "    p=2 #p=2 usa a distância euclidiana, weights é como ele calcula os pesos para os vizinhos\n",
        "    ) \n",
        "\n",
        "knn.fit(X_train, y_train) #aplicando o modelo nos dados de treino\n",
        "\n",
        "y_pred = knn.predict(X_test) #prevendo os valores a partir do modelo nos dados de teste"
      ]
    },
    {
      "attachments": {},
      "cell_type": "markdown",
      "metadata": {
        "id": "G2DLMFox-p9E"
      },
      "source": [
        "## Validating KNN regressor model with `gv.validate_regression()`\n",
        "\n",
        "It compares the model predictions with the true values and evaluates how well the model is making predictions.\n",
        "\n",
        "Regression validation is an essential part of data analysis and machine learning model development. It is a powerful tool that helps to evaluate the quality and performance of models, enabling you to make adjustments and improvements to obtain more accurate predictions.\n",
        "\n",
        "This plot calculates the statistics to evaluate the performance of the regression model. These statistics include:\n",
        "mean absolute deviation (MAE);\n",
        "\n",
        "*   mean absolute deviation (MAE): the average of the absolute differences between each prediction and the corresponding true value...performance of the model!\n",
        "*   mean squared error (MSE): the average of the squares of the differences...penalizes larger errors!\n",
        "*   coefficient of determination (R²): how well the model fits the data!\n",
        "\n",
        "\n",
        "The graph \"grade x error\" allows you to see how the errors are distributed across the range of true values, and to identify any patterns or trends in the errors."
      ]
    },
    {
      "cell_type": "code",
      "execution_count": null,
      "metadata": {
        "id": "mlJLjGJJ85Pr",
        "outputId": "23cb0521-c72e-4bbf-a20d-dba1db618f70"
      },
      "outputs": [],
      "source": [
        "gv.validate_regression(y_pred, y_test, title='Validating KNN Regressor')"
      ]
    },
    {
      "attachments": {},
      "cell_type": "markdown",
      "metadata": {
        "id": "H4XDHcMy85Pr"
      },
      "source": [
        "## SVM\n",
        "\n",
        "Documentation can be found on [scikit-learn website](https://scikit-learn.org/stable/modules/generated/sklearn.svm.SVR.html)\n",
        "\n",
        "## Linear and RBF SVR: support vector regression"
      ]
    },
    {
      "cell_type": "code",
      "execution_count": null,
      "metadata": {
        "id": "29DpYN8K85Ps"
      },
      "outputs": [],
      "source": [
        "from sklearn.svm import SVR"
      ]
    },
    {
      "cell_type": "code",
      "execution_count": null,
      "metadata": {
        "id": "Xu-sXSpC85Ps"
      },
      "outputs": [],
      "source": [
        "svm = SVR(\n",
        "kernel='rbf', #kernel a ser usado para a construção dos hiperplanos..\n",
        "C=1, #penaliza os pontos que estão do lado errado do hiperplano, quanto maior C mais pontos sao penalizados, ou mais rigoroso.\n",
        "gamma='scale', #habilitar se o kernel for rbf!\n",
        ")\n",
        "svm.fit(X_train,y_train)\n",
        "\n",
        "y_pred = svm.predict(X_test)"
      ]
    },
    {
      "attachments": {},
      "cell_type": "markdown",
      "metadata": {
        "id": "DGPFMPOcCkaD"
      },
      "source": [
        "## Validating SVM regressor model with `gv.validate_regression()`\n"
      ]
    },
    {
      "cell_type": "code",
      "execution_count": null,
      "metadata": {
        "id": "AIKeur3t85Ps",
        "outputId": "9d5afd6f-9a58-4d81-bcb0-4d756f6957cd"
      },
      "outputs": [],
      "source": [
        "gv.validate_regression(y_pred, y_test, title='Validating SVM Regressor')"
      ]
    },
    {
      "attachments": {},
      "cell_type": "markdown",
      "metadata": {
        "id": "KAoFp2Pd85Ps"
      },
      "source": [
        "## Decision Tree Regressor\n",
        "\n",
        "Documentation can be found on [`scikit-learn`](https://scikit-learn.org/stable/modules/generated/sklearn.tree.DecisionTreeRegressor.html)"
      ]
    },
    {
      "cell_type": "code",
      "execution_count": null,
      "metadata": {
        "id": "83erE8L_85Pt"
      },
      "outputs": [],
      "source": [
        "from sklearn.tree import DecisionTreeRegressor"
      ]
    },
    {
      "cell_type": "code",
      "execution_count": null,
      "metadata": {
        "id": "KqV7Vn9S85Pt"
      },
      "outputs": [],
      "source": [
        "tree = DecisionTreeRegressor(\n",
        "random_state=100,\n",
        "max_depth=8,\n",
        "min_samples_split=100\n",
        ")\n",
        "\n",
        "tree.fit(X_train, y_train)\n",
        "\n",
        "y_pred = tree.predict(X_test)\n"
      ]
    },
    {
      "attachments": {},
      "cell_type": "markdown",
      "metadata": {
        "id": "aJqiXKSdCnDR"
      },
      "source": [
        "## Validating DTrees regressor model with `gv.validate_regression()`"
      ]
    },
    {
      "cell_type": "code",
      "execution_count": null,
      "metadata": {
        "id": "HOXoDWTQ85Pt",
        "outputId": "d1e0870d-a76d-4db4-9e74-7fa1fab11e3a"
      },
      "outputs": [],
      "source": [
        "gv.validate_regression(y_pred, y_test, title='Validating Decision Tree Regressor')"
      ]
    },
    {
      "attachments": {},
      "cell_type": "markdown",
      "metadata": {
        "id": "jrXR5Liq85Pt"
      },
      "source": [
        "## Random Forest Regressor\n",
        "\n",
        "Documentation can be found on [scikit-learn website](https://scikit-learn.org/stable/modules/generated/sklearn.ensemble.RandomForestRegressor.html)"
      ]
    },
    {
      "cell_type": "code",
      "execution_count": null,
      "metadata": {
        "id": "7i6mIi7d85Pu"
      },
      "outputs": [],
      "source": [
        "from sklearn.ensemble import RandomForestRegressor"
      ]
    },
    {
      "cell_type": "code",
      "execution_count": null,
      "metadata": {
        "id": "Vy9B-v_385Pu"
      },
      "outputs": [],
      "source": [
        "rf = RandomForestRegressor(\n",
        "n_estimators=50,\n",
        "max_depth=6,\n",
        "min_samples_split=10,\n",
        "random_state=100,\n",
        ")\n",
        "\n",
        "rf.fit(X_train,y_train)\n",
        "\n",
        "y_pred = rf.predict(X_test)"
      ]
    },
    {
      "attachments": {},
      "cell_type": "markdown",
      "metadata": {
        "id": "uLjbQpryCp3x"
      },
      "source": [
        "## Validating RF regressor model with `gv.validate_regression()`\n"
      ]
    },
    {
      "cell_type": "code",
      "execution_count": null,
      "metadata": {
        "id": "ByUhg_PY85Pu",
        "outputId": "b29881c3-9f79-4cca-f25a-b70100abd919"
      },
      "outputs": [],
      "source": [
        "gv.validate_regression(y_pred, y_test, title='Validating RF Regressor')"
      ]
    },
    {
      "attachments": {},
      "cell_type": "markdown",
      "metadata": {
        "id": "bXPQqeD5CuhR"
      },
      "source": [
        "## Which input features are most important in predicting the target variable for Random Forest Model\n",
        "\n",
        "Note: Feature importance provides a way to identify which features have the most predictive power for a given target variable, and can be useful for optimizing model performance or gaining insights into the relationships between features and the target variable."
      ]
    },
    {
      "cell_type": "code",
      "execution_count": null,
      "metadata": {
        "id": "vzpvVz_085Pu",
        "outputId": "e7d7d35b-8d3e-4689-dc8f-89648e36f8c1"
      },
      "outputs": [],
      "source": [
        "gv.features_importance(rf, X_test, variables, y_test, clf=False)"
      ]
    },
    {
      "attachments": {},
      "cell_type": "markdown",
      "metadata": {
        "id": "N1ygVZUJCvVN"
      },
      "source": [
        "## Model evaluation with K-Folds\n",
        "\n",
        "The purpose of this plot is to visualize the performance of a model when evaluated with a k-fold cross-validation strategy.\n",
        "\n",
        "The x-axis represents the different folds used in the cross-validation (1 to k), while the y-axis represents the performance metric chosen to evaluate the model.\n",
        "\n",
        "Each box in the plot represents the distribution of scores obtained for the corresponding fold. \n",
        "\n",
        "This plot can help to understand the variability of the model's performance across different folds, and whether the model is overfitting or underfitting.\n",
        "\n",
        "If the performance is consistent across all folds, the model is likely to generalize well to new data. \n",
        "\n",
        "If the performance is highly variable, the model may need to be improved or re-evaluated with a different strategy."
      ]
    },
    {
      "cell_type": "code",
      "execution_count": null,
      "metadata": {
        "id": "rlKkZQvi85Pv",
        "outputId": "d01d48b6-c871-4aad-9c3b-d0e88ae3a678"
      },
      "outputs": [],
      "source": [
        "gv.evaluate_kfolds(X_train, y_train, 10, 5, rf, clf=False)"
      ]
    },
    {
      "attachments": {},
      "cell_type": "markdown",
      "metadata": {
        "id": "VocVaUBTC5Le"
      },
      "source": [
        "# Practice\n",
        "\n",
        "In this exercise, you will reproduce the supervised learning process presented in the notebook, but with a new set of variables!"
      ]
    },
    {
      "cell_type": "markdown",
      "metadata": {
        "id": "c9hXR_1GC_13"
      },
      "source": [
        "Perform a statistical analysis of the data using a scatter matrix and a correlation matrix to understand the distributions and their correlations."
      ]
    },
    {
      "cell_type": "code",
      "execution_count": null,
      "metadata": {
        "id": "pRBxOGxiC71F"
      },
      "outputs": [],
      "source": [
        "## code"
      ]
    },
    {
      "cell_type": "markdown",
      "metadata": {
        "id": "s2swkPGQDGIf"
      },
      "source": [
        "Define your features to be used for training the model and your geometalurgical target variable. \n",
        "\n",
        "Note: try not to use the same target variable as the one used in the group exercise to obtain different tests."
      ]
    },
    {
      "cell_type": "code",
      "execution_count": null,
      "metadata": {
        "id": "tWA9bdpCDFh1"
      },
      "outputs": [],
      "source": [
        "## code"
      ]
    },
    {
      "cell_type": "markdown",
      "metadata": {
        "id": "Iw9qdgpgDPCF"
      },
      "source": [
        "Preprocess the data by applying standardization with **StandardScaler()**.\n",
        "\n",
        "Remember... only for your features! \n",
        "\n",
        "And... don't forget to apply it to your test and train variables.\n"
      ]
    },
    {
      "cell_type": "code",
      "execution_count": null,
      "metadata": {
        "id": "cjtjK3KQDPP7"
      },
      "outputs": [],
      "source": [
        "## code"
      ]
    },
    {
      "cell_type": "markdown",
      "metadata": {
        "id": "2_uq2IjIDT6T"
      },
      "source": [
        "Choose one of the algorithms worked on and explained, and train your model, then perform its validations! \n",
        "\n",
        "Remember... training the model is done only on your training data, while the validations are performed on the test data!\n"
      ]
    },
    {
      "cell_type": "code",
      "execution_count": null,
      "metadata": {
        "id": "bC2LDIgWDUgG"
      },
      "outputs": [],
      "source": [
        "## code"
      ]
    },
    {
      "cell_type": "markdown",
      "metadata": {
        "id": "RUSf54U6DWex"
      },
      "source": [
        "Plot a regression validation of your model with **gv.validate_regression()**."
      ]
    },
    {
      "cell_type": "code",
      "execution_count": null,
      "metadata": {
        "id": "e8xevICADdI8"
      },
      "outputs": [],
      "source": [
        "## code"
      ]
    }
  ],
  "metadata": {
    "colab": {
      "provenance": []
    },
    "kernelspec": {
      "display_name": ".venv",
      "language": "python",
      "name": "python3"
    },
    "language_info": {
      "codemirror_mode": {
        "name": "ipython",
        "version": 3
      },
      "file_extension": ".py",
      "mimetype": "text/x-python",
      "name": "python",
      "nbconvert_exporter": "python",
      "pygments_lexer": "ipython3",
      "version": "3.10.10"
    },
    "orig_nbformat": 4,
    "vscode": {
      "interpreter": {
        "hash": "3b693c35aaa3f440c2e2dc6c27786710da90ea3e1d973858722b914326c9afee"
      }
    }
  },
  "nbformat": 4,
  "nbformat_minor": 0
}
