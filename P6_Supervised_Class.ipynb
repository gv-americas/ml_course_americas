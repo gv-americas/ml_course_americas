{
  "cells": [
    {
      "cell_type": "markdown",
      "metadata": {
        "id": "na17G3hEpkv1"
      },
      "source": [
        "# Cloning the ML Course repository from GV-Americas\n",
        "\n",
        "**!git clone** downloads the repository with all notebooks and files inside it and creates a copy in the current directory.\n",
        "\n",
        "**!%cd** allows you to import modules within it: **plotting_gv**!"
      ]
    },
    {
      "cell_type": "code",
      "execution_count": null,
      "metadata": {
        "colab": {
          "base_uri": "https://localhost:8080/"
        },
        "id": "v-f0Nj9IltaC",
        "outputId": "e6301150-beed-4ddb-86a2-7c0bbfc52834"
      },
      "outputs": [
        {
          "name": "stdout",
          "output_type": "stream",
          "text": [
            "Cloning into 'ml_course_americas'...\n",
            "remote: Enumerating objects: 81, done.\u001b[K\n",
            "remote: Counting objects: 100% (81/81), done.\u001b[K\n",
            "remote: Compressing objects: 100% (58/58), done.\u001b[K\n",
            "remote: Total 81 (delta 46), reused 39 (delta 23), pack-reused 0\u001b[K\n",
            "Unpacking objects: 100% (81/81), 4.47 MiB | 1018.00 KiB/s, done.\n"
          ]
        }
      ],
      "source": [
        "!git clone https://github.com/gv-americas/ml_course_americas.git\n",
        "\n",
        "import sys\n",
        "\n",
        "sys.path.append('/content/ml_course_americas')"
      ]
    },
    {
      "cell_type": "markdown",
      "metadata": {
        "id": "1dRIwrk3ppjx"
      },
      "source": [
        "## Importing four libraries:\n",
        "\n",
        "**Pandas**: used for data manipulation and analysis.\n",
        "\n",
        "**Numpy**: used for scientific computing and working with arrays.\n",
        "\n",
        "**Matplotlib**: used for data visualization and creating plots.\n",
        "\n",
        "**Plotting_gv**: a custom plotting library created by GV Americas, which contains additional plotting functions and custom styles."
      ]
    },
    {
      "cell_type": "code",
      "execution_count": null,
      "metadata": {
        "id": "EpkVT_9ppk6O"
      },
      "outputs": [],
      "source": [
        "import pandas as pd\n",
        "import numpy as np\n",
        "import matplotlib.pyplot as plt\n",
        "import plotting_gv as gv"
      ]
    },
    {
      "cell_type": "markdown",
      "metadata": {
        "id": "L2PqOxtXpqWe"
      },
      "source": [
        "# Upload data clustered with Google Colab files"
      ]
    },
    {
      "cell_type": "code",
      "execution_count": null,
      "metadata": {
        "colab": {
          "base_uri": "https://localhost:8080/",
          "height": 73
        },
        "id": "sQf2e0dVltaD",
        "outputId": "e17bbfe9-1b51-47a1-aa9b-623d7d96fcd3"
      },
      "outputs": [
        {
          "data": {
            "text/html": [
              "\n",
              "     <input type=\"file\" id=\"files-af426258-ba42-4709-872e-d3d1e9548e85\" name=\"files[]\" multiple disabled\n",
              "        style=\"border:none\" />\n",
              "     <output id=\"result-af426258-ba42-4709-872e-d3d1e9548e85\">\n",
              "      Upload widget is only available when the cell has been executed in the\n",
              "      current browser session. Please rerun this cell to enable.\n",
              "      </output>\n",
              "      <script>// Copyright 2017 Google LLC\n",
              "//\n",
              "// Licensed under the Apache License, Version 2.0 (the \"License\");\n",
              "// you may not use this file except in compliance with the License.\n",
              "// You may obtain a copy of the License at\n",
              "//\n",
              "//      http://www.apache.org/licenses/LICENSE-2.0\n",
              "//\n",
              "// Unless required by applicable law or agreed to in writing, software\n",
              "// distributed under the License is distributed on an \"AS IS\" BASIS,\n",
              "// WITHOUT WARRANTIES OR CONDITIONS OF ANY KIND, either express or implied.\n",
              "// See the License for the specific language governing permissions and\n",
              "// limitations under the License.\n",
              "\n",
              "/**\n",
              " * @fileoverview Helpers for google.colab Python module.\n",
              " */\n",
              "(function(scope) {\n",
              "function span(text, styleAttributes = {}) {\n",
              "  const element = document.createElement('span');\n",
              "  element.textContent = text;\n",
              "  for (const key of Object.keys(styleAttributes)) {\n",
              "    element.style[key] = styleAttributes[key];\n",
              "  }\n",
              "  return element;\n",
              "}\n",
              "\n",
              "// Max number of bytes which will be uploaded at a time.\n",
              "const MAX_PAYLOAD_SIZE = 100 * 1024;\n",
              "\n",
              "function _uploadFiles(inputId, outputId) {\n",
              "  const steps = uploadFilesStep(inputId, outputId);\n",
              "  const outputElement = document.getElementById(outputId);\n",
              "  // Cache steps on the outputElement to make it available for the next call\n",
              "  // to uploadFilesContinue from Python.\n",
              "  outputElement.steps = steps;\n",
              "\n",
              "  return _uploadFilesContinue(outputId);\n",
              "}\n",
              "\n",
              "// This is roughly an async generator (not supported in the browser yet),\n",
              "// where there are multiple asynchronous steps and the Python side is going\n",
              "// to poll for completion of each step.\n",
              "// This uses a Promise to block the python side on completion of each step,\n",
              "// then passes the result of the previous step as the input to the next step.\n",
              "function _uploadFilesContinue(outputId) {\n",
              "  const outputElement = document.getElementById(outputId);\n",
              "  const steps = outputElement.steps;\n",
              "\n",
              "  const next = steps.next(outputElement.lastPromiseValue);\n",
              "  return Promise.resolve(next.value.promise).then((value) => {\n",
              "    // Cache the last promise value to make it available to the next\n",
              "    // step of the generator.\n",
              "    outputElement.lastPromiseValue = value;\n",
              "    return next.value.response;\n",
              "  });\n",
              "}\n",
              "\n",
              "/**\n",
              " * Generator function which is called between each async step of the upload\n",
              " * process.\n",
              " * @param {string} inputId Element ID of the input file picker element.\n",
              " * @param {string} outputId Element ID of the output display.\n",
              " * @return {!Iterable<!Object>} Iterable of next steps.\n",
              " */\n",
              "function* uploadFilesStep(inputId, outputId) {\n",
              "  const inputElement = document.getElementById(inputId);\n",
              "  inputElement.disabled = false;\n",
              "\n",
              "  const outputElement = document.getElementById(outputId);\n",
              "  outputElement.innerHTML = '';\n",
              "\n",
              "  const pickedPromise = new Promise((resolve) => {\n",
              "    inputElement.addEventListener('change', (e) => {\n",
              "      resolve(e.target.files);\n",
              "    });\n",
              "  });\n",
              "\n",
              "  const cancel = document.createElement('button');\n",
              "  inputElement.parentElement.appendChild(cancel);\n",
              "  cancel.textContent = 'Cancel upload';\n",
              "  const cancelPromise = new Promise((resolve) => {\n",
              "    cancel.onclick = () => {\n",
              "      resolve(null);\n",
              "    };\n",
              "  });\n",
              "\n",
              "  // Wait for the user to pick the files.\n",
              "  const files = yield {\n",
              "    promise: Promise.race([pickedPromise, cancelPromise]),\n",
              "    response: {\n",
              "      action: 'starting',\n",
              "    }\n",
              "  };\n",
              "\n",
              "  cancel.remove();\n",
              "\n",
              "  // Disable the input element since further picks are not allowed.\n",
              "  inputElement.disabled = true;\n",
              "\n",
              "  if (!files) {\n",
              "    return {\n",
              "      response: {\n",
              "        action: 'complete',\n",
              "      }\n",
              "    };\n",
              "  }\n",
              "\n",
              "  for (const file of files) {\n",
              "    const li = document.createElement('li');\n",
              "    li.append(span(file.name, {fontWeight: 'bold'}));\n",
              "    li.append(span(\n",
              "        `(${file.type || 'n/a'}) - ${file.size} bytes, ` +\n",
              "        `last modified: ${\n",
              "            file.lastModifiedDate ? file.lastModifiedDate.toLocaleDateString() :\n",
              "                                    'n/a'} - `));\n",
              "    const percent = span('0% done');\n",
              "    li.appendChild(percent);\n",
              "\n",
              "    outputElement.appendChild(li);\n",
              "\n",
              "    const fileDataPromise = new Promise((resolve) => {\n",
              "      const reader = new FileReader();\n",
              "      reader.onload = (e) => {\n",
              "        resolve(e.target.result);\n",
              "      };\n",
              "      reader.readAsArrayBuffer(file);\n",
              "    });\n",
              "    // Wait for the data to be ready.\n",
              "    let fileData = yield {\n",
              "      promise: fileDataPromise,\n",
              "      response: {\n",
              "        action: 'continue',\n",
              "      }\n",
              "    };\n",
              "\n",
              "    // Use a chunked sending to avoid message size limits. See b/62115660.\n",
              "    let position = 0;\n",
              "    do {\n",
              "      const length = Math.min(fileData.byteLength - position, MAX_PAYLOAD_SIZE);\n",
              "      const chunk = new Uint8Array(fileData, position, length);\n",
              "      position += length;\n",
              "\n",
              "      const base64 = btoa(String.fromCharCode.apply(null, chunk));\n",
              "      yield {\n",
              "        response: {\n",
              "          action: 'append',\n",
              "          file: file.name,\n",
              "          data: base64,\n",
              "        },\n",
              "      };\n",
              "\n",
              "      let percentDone = fileData.byteLength === 0 ?\n",
              "          100 :\n",
              "          Math.round((position / fileData.byteLength) * 100);\n",
              "      percent.textContent = `${percentDone}% done`;\n",
              "\n",
              "    } while (position < fileData.byteLength);\n",
              "  }\n",
              "\n",
              "  // All done.\n",
              "  yield {\n",
              "    response: {\n",
              "      action: 'complete',\n",
              "    }\n",
              "  };\n",
              "}\n",
              "\n",
              "scope.google = scope.google || {};\n",
              "scope.google.colab = scope.google.colab || {};\n",
              "scope.google.colab._files = {\n",
              "  _uploadFiles,\n",
              "  _uploadFilesContinue,\n",
              "};\n",
              "})(self);\n",
              "</script> "
            ],
            "text/plain": [
              "<IPython.core.display.HTML object>"
            ]
          },
          "metadata": {},
          "output_type": "display_data"
        },
        {
          "name": "stdout",
          "output_type": "stream",
          "text": [
            "Saving phosphate_assay_sampled_geomet_clustered.csv to phosphate_assay_sampled_geomet_clustered.csv\n"
          ]
        }
      ],
      "source": [
        "from google.colab import files\n",
        "\n",
        "uploaded = files.upload()    # \n",
        "\n",
        "filename = list(uploaded.keys())[0]   #"
      ]
    },
    {
      "cell_type": "markdown",
      "metadata": {
        "id": "fTB4Izgu4Nuq"
      },
      "source": [
        "# Reading data with Pandas"
      ]
    },
    {
      "cell_type": "code",
      "execution_count": null,
      "metadata": {
        "colab": {
          "base_uri": "https://localhost:8080/"
        },
        "id": "asXkMpP1p8pM",
        "outputId": "ae52bc19-b5a0-4384-b9d5-971c85002049"
      },
      "outputs": [
        {
          "data": {
            "text/plain": [
              "Index(['Unnamed: 0', 'Name', 'X', 'Y', 'Z', 'Depth From', 'Depth To', 'Length',\n",
              "       'AL2O3', 'ALT', 'BAO', 'CAO', 'Consumo_coletor_(g/t)', 'FE2O3',\n",
              "       'MASSA_T', 'MGO', 'NB2O5', 'P2O5', 'SIO2', 'TIO2', 'kmeans_5k',\n",
              "       'aggl_5k', 'kmeans_2k', 'aggl_2k', 'kmeans_3k', 'aggl_3k', 'kmeans_4k',\n",
              "       'aggl_4k', 'kmeans_6k', 'aggl_6k'],\n",
              "      dtype='object')"
            ]
          },
          "execution_count": 4,
          "metadata": {},
          "output_type": "execute_result"
        }
      ],
      "source": [
        "data = pd.read_csv(filename)\n",
        "\n",
        "#data.head(5)\n",
        "data.columns"
      ]
    },
    {
      "cell_type": "markdown",
      "metadata": {
        "id": "PBuhFMWl4WGK"
      },
      "source": [
        "# Data preprocessing analysis: cleaning and processing\n",
        "\n",
        "# Clean dataframe with dataframe.dropna()"
      ]
    },
    {
      "cell_type": "code",
      "execution_count": null,
      "metadata": {
        "id": "HjqRZ-96ltaI"
      },
      "outputs": [],
      "source": [
        "data0 = data.dropna()"
      ]
    },
    {
      "cell_type": "markdown",
      "metadata": {
        "id": "1RjTEdyS4fm8"
      },
      "source": [
        "# Declaring variables to filter data"
      ]
    },
    {
      "cell_type": "code",
      "execution_count": null,
      "metadata": {
        "id": "IKGqNgJ7ltaJ"
      },
      "outputs": [],
      "source": [
        "coords = ['X', 'Y', 'Z']\n",
        "\n",
        "cat_var = ['ALT']\n",
        "\n",
        "variables =  ['AL2O3', 'BAO', 'CAO', 'FE2O3', 'MGO', 'NB2O5', 'P2O5', 'SIO2', 'TIO2']\n",
        "\n",
        "clusters = ['aggl_5k','kmeans_3k', 'aggl_3k', 'kmeans_4k', 'aggl_4k', 'kmeans_5k', 'kmeans_2k', 'aggl_2k', 'kmeans_6k', 'aggl_6k']"
      ]
    },
    {
      "cell_type": "markdown",
      "metadata": {
        "id": "k6KxYHaO4j4J"
      },
      "source": [
        "# Define the target to be supervised!"
      ]
    },
    {
      "cell_type": "code",
      "execution_count": null,
      "metadata": {
        "id": "e5ztq09HltaJ"
      },
      "outputs": [],
      "source": [
        "target = 'kmeans_5k'"
      ]
    },
    {
      "cell_type": "markdown",
      "metadata": {
        "id": "EE3L4s6M4otW"
      },
      "source": [
        "# Splitting features (X) and target (y)"
      ]
    },
    {
      "cell_type": "code",
      "execution_count": null,
      "metadata": {
        "id": "QHAeyIKEltaJ"
      },
      "outputs": [],
      "source": [
        "X = data0[variables].values #declarando as variáveis ou features\n",
        "y = data0[target].values # declarando qual será a classe alvo do modelo"
      ]
    },
    {
      "cell_type": "markdown",
      "metadata": {
        "id": "dlQpvadU43BB"
      },
      "source": [
        "# Counting target categories"
      ]
    },
    {
      "cell_type": "code",
      "execution_count": null,
      "metadata": {
        "colab": {
          "base_uri": "https://localhost:8080/"
        },
        "id": "sZim8lB9ltaJ",
        "outputId": "37ae834b-01a7-438e-9c23-631542cd84fe"
      },
      "outputs": [
        {
          "data": {
            "text/plain": [
              "1.0    1147\n",
              "3.0     957\n",
              "4.0     710\n",
              "2.0     597\n",
              "0.0     184\n",
              "Name: kmeans_5k, dtype: int64"
            ]
          },
          "execution_count": 9,
          "metadata": {},
          "output_type": "execute_result"
        }
      ],
      "source": [
        "data['kmeans_5k'].value_counts()"
      ]
    },
    {
      "cell_type": "markdown",
      "metadata": {
        "id": "jqfaZgLV4-UJ"
      },
      "source": [
        "# Features samples size"
      ]
    },
    {
      "cell_type": "code",
      "execution_count": null,
      "metadata": {
        "colab": {
          "base_uri": "https://localhost:8080/"
        },
        "id": "8P3L7eNgltaJ",
        "outputId": "5372503d-d0da-4a25-c076-5446692a46fd"
      },
      "outputs": [
        {
          "data": {
            "text/plain": [
              "3595"
            ]
          },
          "execution_count": 10,
          "metadata": {},
          "output_type": "execute_result"
        }
      ],
      "source": [
        "len(X)"
      ]
    },
    {
      "cell_type": "markdown",
      "metadata": {
        "id": "nYShdnoF5GoX"
      },
      "source": [
        "# Split train, test samples with sklearn.model_selection"
      ]
    },
    {
      "cell_type": "code",
      "execution_count": null,
      "metadata": {
        "id": "K3Ml3HqMltaK"
      },
      "outputs": [],
      "source": [
        "from sklearn.model_selection import train_test_split\n",
        "\n",
        "\n",
        "X_train, X_test, y_train, y_test = train_test_split(\n",
        "    X, # X features, independent variables\n",
        "    y, # y target, dependet variable\n",
        "    test_size=0.3, #fração de treino e teste\n",
        "    shuffle=True, #embaralha os dados: evita que a divisão dos dados fique tendenciosa a uma classe \"pra nao ficar na mesma ordem\"\n",
        "    random_state=100, #semente aleatória: garante a repoducibilidade dos resultados, ou seja, a divisão dos dados será sempre a mesma\n",
        "    stratify=y) #separa treino e teste com a mesma proporção ## muito bom, explicar!\n"
      ]
    },
    {
      "cell_type": "markdown",
      "metadata": {
        "id": "wEv_W68h5OdT"
      },
      "source": [
        "# Train size"
      ]
    },
    {
      "cell_type": "code",
      "execution_count": null,
      "metadata": {
        "id": "Ro1DOWr-ltaK",
        "outputId": "976ae16f-38ba-4119-fac8-8f8652bcd312"
      },
      "outputs": [
        {
          "name": "stdout",
          "output_type": "stream",
          "text": [
            "Fração de treino:\n"
          ]
        },
        {
          "data": {
            "text/plain": [
              "2516"
            ]
          },
          "execution_count": 10,
          "metadata": {},
          "output_type": "execute_result"
        }
      ],
      "source": [
        "print('Fração de treino:')\n",
        "len(X_train)"
      ]
    },
    {
      "cell_type": "markdown",
      "metadata": {
        "id": "BivFvOX45Qj9"
      },
      "source": [
        "# Test size"
      ]
    },
    {
      "cell_type": "code",
      "execution_count": null,
      "metadata": {
        "id": "CDOS0LVPltaK",
        "outputId": "cfa2f27e-4f73-493c-e227-5d3cb1e966b7"
      },
      "outputs": [
        {
          "name": "stdout",
          "output_type": "stream",
          "text": [
            "Fração de validação:\n"
          ]
        },
        {
          "data": {
            "text/plain": [
              "1079"
            ]
          },
          "execution_count": 11,
          "metadata": {},
          "output_type": "execute_result"
        }
      ],
      "source": [
        "print('Fração de validação:')\n",
        "len(X_test)"
      ]
    },
    {
      "cell_type": "markdown",
      "metadata": {
        "id": "Bglp5vOf5VCX"
      },
      "source": [
        "# Data transformation: StandardScaler() using Sklearn.preprocessing\n",
        "\n",
        "z = (x - u) / s\n",
        "\n",
        "where u is the mean of the training samples, and s is the standard deviation of the samples.\n",
        "\n",
        "https://scikit-learn.org/stable/modules/generated/sklearn.preprocessing.StandardScaler.html\n",
        "\n",
        "\n",
        "**Note: The transformation will be applied only on X/features!**"
      ]
    },
    {
      "cell_type": "code",
      "execution_count": null,
      "metadata": {
        "id": "G-1LuCchltaK"
      },
      "outputs": [],
      "source": [
        "from sklearn.preprocessing import StandardScaler\n",
        "\n",
        "scaler = StandardScaler()\n",
        "\n",
        "# só precisamos transformar o X, ou seja, as features onde serão treinados e validados os modelos\n",
        "scaler.fit(X_train)\n",
        "X_train = scaler.transform(X_train)\n",
        "X_test = scaler.transform(X_test)\n"
      ]
    },
    {
      "cell_type": "markdown",
      "metadata": {
        "id": "v9vQBn4V5y1G"
      },
      "source": [
        "# Training models"
      ]
    },
    {
      "cell_type": "markdown",
      "metadata": {
        "id": "XluIhYSOltaK"
      },
      "source": [
        "## KNN Classifier\n",
        "https://scikit-learn.org/stable/modules/generated/sklearn.neighbors.KNeighborsClassifier.html"
      ]
    },
    {
      "cell_type": "code",
      "execution_count": null,
      "metadata": {
        "id": "2IF1YoQwltaL"
      },
      "outputs": [],
      "source": [
        "from sklearn.neighbors import KNeighborsClassifier    "
      ]
    },
    {
      "cell_type": "code",
      "execution_count": null,
      "metadata": {
        "id": "R0M29k9UltaM"
      },
      "outputs": [],
      "source": [
        "nn = 50 #número de vizinhos\n",
        "\n",
        "\n",
        "knn = KNeighborsClassifier(\n",
        "    n_neighbors=nn, #numero de vizinhos a ser considerados\n",
        "    weights='distance', #como ele vai ponderar a proximidade das amostras (pesos), nesse caso distancia euclidiana\n",
        "    p=2 #p=2 usa a distância euclidiana, weights é como ele calcula os pesos para os vizinhos\n",
        "    ) \n",
        "\n",
        "knn.fit(X_train, y_train) #aplicando o modelo nos dados de treino\n",
        "\n",
        "y_pred = knn.predict(X_test) #prevendo os valores a partir do modelo nos dados de teste\n",
        "\n"
      ]
    },
    {
      "cell_type": "markdown",
      "metadata": {
        "id": "eg3w2IX756nT"
      },
      "source": [
        "# Validating KNN model with confusion matrix and classification report\n"
      ]
    },
    {
      "cell_type": "code",
      "execution_count": null,
      "metadata": {
        "id": "dhdIKoDmltaM",
        "outputId": "03e13290-64a1-43e4-e1c0-9ba38cfb7f0d"
      },
      "outputs": [
        {
          "name": "stdout",
          "output_type": "stream",
          "text": [
            "              precision    recall  f1-score   support\n",
            "\n",
            "         0.0       1.00      0.34      0.51        50\n",
            "         1.0       0.97      0.98      0.97       339\n",
            "         2.0       0.93      0.99      0.96       220\n",
            "         3.0       0.96      0.99      0.98       289\n",
            "         4.0       0.90      0.94      0.92       181\n",
            "\n",
            "    accuracy                           0.95      1079\n",
            "   macro avg       0.95      0.85      0.87      1079\n",
            "weighted avg       0.95      0.95      0.94      1079\n",
            "\n"
          ]
        },
        {
          "data": {
            "image/png": "[encoded data removed]",
            "text/plain": [
              "<Figure size 720x720 with 1 Axes>"
            ]
          },
          "metadata": {
            "needs_background": "light"
          },
          "output_type": "display_data"
        }
      ],
      "source": [
        "gv.confusion_matrix_plot(knn, y_test, y_pred, f'Confusion Matrix KNN {target}', report=True )"
      ]
    },
    {
      "cell_type": "markdown",
      "metadata": {
        "id": "crzRqqp6ltaM"
      },
      "source": [
        "## SVM\n",
        "\n",
        "https://scikit-learn.org/stable/modules/svm.html"
      ]
    },
    {
      "cell_type": "markdown",
      "metadata": {
        "id": "qrSkXtSTltaM"
      },
      "source": [
        "## Linear and RBF SVC: support vector classification"
      ]
    },
    {
      "cell_type": "code",
      "execution_count": null,
      "metadata": {
        "id": "VZqPOwNQltaM"
      },
      "outputs": [],
      "source": [
        "from sklearn.svm import SVC"
      ]
    },
    {
      "cell_type": "code",
      "execution_count": null,
      "metadata": {
        "id": "bW1PfpGnltaN"
      },
      "outputs": [],
      "source": [
        "svm = SVC(\n",
        "kernel='linear', #kernel a ser usado para a construção dos hiperplanos..\n",
        "C=1, #penaliza os pontos que estão do lado errado do hiperplano, quanto maior C mais pontos sao penalizados, ou mais rigoroso.\n",
        "#gamma='scale', #habilitar se o kernel for rbf!\n",
        "class_weight='balanced', # calcula automaticamente os balanços entre as classes (pode passar manualmente em dicionário)\n",
        "random_state=100, #reproducibilidade dos resultados\n",
        "probability=True) #retorna as probabilidades de cada classe\n",
        "\n",
        "svm.fit(X_train,y_train)\n",
        "\n",
        "y_pred = svm.predict(X_test)"
      ]
    },
    {
      "cell_type": "markdown",
      "metadata": {
        "id": "Y8ckuUTW6CHi"
      },
      "source": [
        "# Validating SVM model with confusion matrix and classification report\n"
      ]
    },
    {
      "cell_type": "code",
      "execution_count": null,
      "metadata": {
        "id": "2mJn5uqmltaN",
        "outputId": "74aad2b8-fc13-46d8-9775-f5db30700eac"
      },
      "outputs": [
        {
          "name": "stdout",
          "output_type": "stream",
          "text": [
            "              precision    recall  f1-score   support\n",
            "\n",
            "         0.0       0.85      1.00      0.92        50\n",
            "         1.0       1.00      0.96      0.98       339\n",
            "         2.0       0.94      1.00      0.97       220\n",
            "         3.0       0.99      0.99      0.99       289\n",
            "         4.0       1.00      0.95      0.97       181\n",
            "\n",
            "    accuracy                           0.98      1079\n",
            "   macro avg       0.96      0.98      0.97      1079\n",
            "weighted avg       0.98      0.98      0.98      1079\n",
            "\n"
          ]
        },
        {
          "data": {
            "image/png": "[encoded data removed]",
            "text/plain": [
              "<Figure size 720x720 with 1 Axes>"
            ]
          },
          "metadata": {
            "needs_background": "light"
          },
          "output_type": "display_data"
        }
      ],
      "source": [
        "gv.confusion_matrix_plot(svm, y_test, y_pred, f'Confusion Matrix SVM {target}', report=True)"
      ]
    },
    {
      "cell_type": "markdown",
      "metadata": {
        "id": "FbvIYBwYltaN"
      },
      "source": [
        "## Decision Trees\n",
        "\n",
        "https://scikit-learn.org/stable/modules/tree.html"
      ]
    },
    {
      "cell_type": "code",
      "execution_count": null,
      "metadata": {
        "id": "TeD5iOB2ltaN"
      },
      "outputs": [],
      "source": [
        "from sklearn.tree import DecisionTreeClassifier"
      ]
    },
    {
      "cell_type": "code",
      "execution_count": null,
      "metadata": {
        "id": "aFsSyJZnltaN"
      },
      "outputs": [],
      "source": [
        "tree = DecisionTreeClassifier(\n",
        "random_state=100,\n",
        "criterion='gini',\n",
        "max_depth=8,\n",
        "min_samples_split=100\n",
        ")\n",
        "\n",
        "tree.fit(X_train, y_train)\n",
        "\n",
        "y_pred = tree.predict(X_test)\n"
      ]
    },
    {
      "cell_type": "markdown",
      "metadata": {
        "id": "K0YdwcpC6tKW"
      },
      "source": [
        "# Validating Decision Trees model with confusion matrix and classification report\n"
      ]
    },
    {
      "cell_type": "code",
      "execution_count": null,
      "metadata": {
        "id": "3j9AH0oJltaN",
        "outputId": "96418995-afe4-469a-8748-851b4874a8e1"
      },
      "outputs": [
        {
          "name": "stdout",
          "output_type": "stream",
          "text": [
            "              precision    recall  f1-score   support\n",
            "\n",
            "         0.0       0.85      0.68      0.76        50\n",
            "         1.0       0.95      0.92      0.94       339\n",
            "         2.0       0.87      0.88      0.88       220\n",
            "         3.0       0.97      0.98      0.97       289\n",
            "         4.0       0.88      0.95      0.91       181\n",
            "\n",
            "    accuracy                           0.92      1079\n",
            "   macro avg       0.90      0.88      0.89      1079\n",
            "weighted avg       0.92      0.92      0.92      1079\n",
            "\n"
          ]
        },
        {
          "data": {
            "image/png": "[encoded data removed]",
            "text/plain": [
              "<Figure size 720x720 with 1 Axes>"
            ]
          },
          "metadata": {
            "needs_background": "light"
          },
          "output_type": "display_data"
        }
      ],
      "source": [
        "gv.confusion_matrix_plot(tree, y_test, y_pred, f'Confusion Matrix Decision Tree {target}', report=True )\n"
      ]
    },
    {
      "cell_type": "markdown",
      "metadata": {
        "id": "eUVd41hMltaN"
      },
      "source": [
        "## Random Forests\n",
        "\n",
        "https://scikit-learn.org/stable/modules/generated/sklearn.ensemble.RandomForestClassifier.html"
      ]
    },
    {
      "cell_type": "code",
      "execution_count": null,
      "metadata": {
        "id": "egsevlu1ltaN"
      },
      "outputs": [],
      "source": [
        "from sklearn.ensemble import RandomForestClassifier"
      ]
    },
    {
      "cell_type": "code",
      "execution_count": null,
      "metadata": {
        "id": "_h6udkjIltaN"
      },
      "outputs": [],
      "source": [
        "rf = RandomForestClassifier(\n",
        "n_estimators=300,\n",
        "max_depth=8,\n",
        "min_samples_split=5,\n",
        "random_state=100,\n",
        ")\n",
        "\n",
        "rf.fit(X_train,y_train)\n",
        "\n",
        "y_pred = rf.predict(X_test)"
      ]
    },
    {
      "cell_type": "markdown",
      "metadata": {
        "id": "bDxuWiRU6v6P"
      },
      "source": [
        "# Validating Random Forest model with confusion matrix and classification report\n"
      ]
    },
    {
      "cell_type": "code",
      "execution_count": null,
      "metadata": {
        "id": "5wVxu4ExltaO",
        "outputId": "30bc8b3f-71e9-4f0c-8f96-d8588f56a1e1"
      },
      "outputs": [
        {
          "name": "stdout",
          "output_type": "stream",
          "text": [
            "              precision    recall  f1-score   support\n",
            "\n",
            "         0.0       0.95      0.76      0.84        50\n",
            "         1.0       0.98      0.98      0.98       339\n",
            "         2.0       0.94      0.97      0.96       220\n",
            "         3.0       0.98      0.99      0.99       289\n",
            "         4.0       0.96      0.95      0.95       181\n",
            "\n",
            "    accuracy                           0.97      1079\n",
            "   macro avg       0.96      0.93      0.94      1079\n",
            "weighted avg       0.97      0.97      0.97      1079\n",
            "\n"
          ]
        },
        {
          "data": {
            "image/png": "[encoded data removed]",
            "text/plain": [
              "<Figure size 720x720 with 1 Axes>"
            ]
          },
          "metadata": {
            "needs_background": "light"
          },
          "output_type": "display_data"
        }
      ],
      "source": [
        "gv.confusion_matrix_plot(rf, y_test, y_pred, f'Confusion Matrix RandomForest {target}', report=True )\n"
      ]
    },
    {
      "cell_type": "markdown",
      "metadata": {
        "id": "bxipOJKE6y0u"
      },
      "source": [
        "# Which input features are most important in predicting the target variable for Random Forest Model\n",
        "\n",
        "Note: Feature importance provides a way to identify which features have the most predictive power for a given target variable, and can be useful for optimizing model performance or gaining insights into the relationships between features and the target variable."
      ]
    },
    {
      "cell_type": "code",
      "execution_count": null,
      "metadata": {
        "id": "X7FSL4-_ltaO",
        "outputId": "2521f716-5e16-4576-fa75-201131c95ae1"
      },
      "outputs": [
        {
          "data": {
            "image/png": "[encoded data removed]",
            "text/plain": [
              "<Figure size 1080x576 with 2 Axes>"
            ]
          },
          "metadata": {
            "needs_background": "light"
          },
          "output_type": "display_data"
        }
      ],
      "source": [
        "gv.features_importance(rf, X_test, variables, y_test, clf=True)"
      ]
    },
    {
      "cell_type": "markdown",
      "metadata": {
        "id": "q3rZBthW7pAj"
      },
      "source": [
        "# Model evaluation with K-Folds\n",
        "\n",
        "The purpose of this plot is to visualize the performance of a model when evaluated with a k-fold cross-validation strategy.\n",
        "\n",
        "The x-axis represents the different folds used in the cross-validation (1 to k), while the y-axis represents the performance metric chosen to evaluate the model.\n",
        "\n",
        "Each box in the plot represents the distribution of scores obtained for the corresponding fold. \n",
        "\n",
        "This plot can help to understand the variability of the model's performance across different folds, and whether the model is overfitting or underfitting.\n",
        "\n",
        "If the performance is consistent across all folds, the model is likely to generalize well to new data. \n",
        "\n",
        "If the performance is highly variable, the model may need to be improved or re-evaluated with a different strategy."
      ]
    },
    {
      "cell_type": "code",
      "execution_count": null,
      "metadata": {
        "id": "ZHX8yWtgltaO",
        "outputId": "17ffb7e4-978a-442d-cc1a-54a71cdecb65"
      },
      "outputs": [
        {
          "data": {
            "image/png": "[encoded data removed]",
            "text/plain": [
              "<Figure size 1008x864 with 1 Axes>"
            ]
          },
          "metadata": {
            "needs_background": "light"
          },
          "output_type": "display_data"
        }
      ],
      "source": [
        "gv.evaluate_kfolds(X_train, y_train, 10, 5, rf, classcore='balanced accuracy')"
      ]
    },
    {
      "cell_type": "markdown",
      "metadata": {
        "id": "-tbAMlA5vn_8"
      },
      "source": [
        "# Practice\n",
        "\n",
        "In this exercise, you will reproduce the supervised learning process presented in the notebook, but with a new set of variables!"
      ]
    },
    {
      "cell_type": "markdown",
      "metadata": {
        "id": "WihjFFgywYqC"
      },
      "source": [
        "Perform a statistical analysis of the data using a scatter matrix and a correlation matrix to understand the distributions and their correlations."
      ]
    },
    {
      "cell_type": "code",
      "execution_count": null,
      "metadata": {
        "id": "GOIeSutRltaO"
      },
      "outputs": [],
      "source": [
        "## code"
      ]
    },
    {
      "cell_type": "code",
      "execution_count": null,
      "metadata": {
        "id": "6UvlxmqAw2_R"
      },
      "outputs": [],
      "source": [
        "## code"
      ]
    },
    {
      "cell_type": "markdown",
      "metadata": {
        "id": "frWwYQvJwcTo"
      },
      "source": [
        "Define your features to be used for training the model and your target variable. \n",
        "\n",
        "Note: try not to use the same target variable as the one used in the group exercise to obtain different tests."
      ]
    },
    {
      "cell_type": "code",
      "execution_count": null,
      "metadata": {
        "id": "AG-y08CHwtBp"
      },
      "outputs": [],
      "source": [
        "## code"
      ]
    },
    {
      "cell_type": "markdown",
      "metadata": {
        "id": "YeLcdpZew6s6"
      },
      "source": [
        "Count the categories of the target variable."
      ]
    },
    {
      "cell_type": "code",
      "execution_count": null,
      "metadata": {
        "id": "xdB7bol8w684"
      },
      "outputs": [],
      "source": [
        "## code"
      ]
    },
    {
      "cell_type": "markdown",
      "metadata": {
        "id": "-44tH6Vsycy5"
      },
      "source": [
        "Split the train and test sets after the discussions made based on your analysis.\n",
        "\n",
        "Train, test set split!"
      ]
    },
    {
      "cell_type": "code",
      "execution_count": null,
      "metadata": {
        "id": "K6XHzUUkyc6q"
      },
      "outputs": [],
      "source": [
        "## code"
      ]
    },
    {
      "cell_type": "markdown",
      "metadata": {
        "id": "tMMBH7aMwuvT"
      },
      "source": [
        "Preprocess the data by applying standardization with **StandardScaler()**.\n",
        "\n",
        "Remember... only for your features! \n",
        "\n",
        "And... don't forget to apply it to your test and train variables.\n"
      ]
    },
    {
      "cell_type": "code",
      "execution_count": null,
      "metadata": {
        "id": "mubTNuUFwuD-"
      },
      "outputs": [],
      "source": [
        "## code"
      ]
    },
    {
      "cell_type": "markdown",
      "metadata": {
        "id": "LDieBtOkw4vf"
      },
      "source": [
        "Choose one of the algorithms worked on and explained, and train your model, then perform its validations! \n",
        "\n",
        "Remember... training the model is done only on your training data, while the validations are performed on the test data!\n"
      ]
    },
    {
      "cell_type": "code",
      "execution_count": null,
      "metadata": {
        "id": "YzMDz6QGzX4n"
      },
      "outputs": [],
      "source": [
        "## code"
      ]
    },
    {
      "cell_type": "markdown",
      "metadata": {
        "id": "zAUAxPr8zqjV"
      },
      "source": [
        "Plot a confusion matrix and the respective classification report of your model with **gv.confusion_matrix_plot()**."
      ]
    },
    {
      "cell_type": "code",
      "execution_count": null,
      "metadata": {
        "id": "zeIuMUjbz3Gl"
      },
      "outputs": [],
      "source": [
        "## code"
      ]
    },
    {
      "cell_type": "markdown",
      "metadata": {
        "id": "H5-NQ814z6CS"
      },
      "source": [
        "If there is time and interest, understand the importance of the variables used in the model with **gv.feature_importance()** and perform a cross-validation by k-folds using **gv.evalute_kfolds()** to understand the performance of your model and if it has a biased modeling.\n",
        "\n",
        "\n",
        "\n"
      ]
    },
    {
      "cell_type": "code",
      "execution_count": null,
      "metadata": {
        "id": "4acRMU2g0Tvu"
      },
      "outputs": [],
      "source": [
        "## code"
      ]
    }
  ],
  "metadata": {
    "colab": {
      "provenance": []
    },
    "kernelspec": {
      "display_name": "Python 3.10.9 64-bit (microsoft store)",
      "language": "python",
      "name": "python3"
    },
    "language_info": {
      "codemirror_mode": {
        "name": "ipython",
        "version": 3
      },
      "file_extension": ".py",
      "mimetype": "text/x-python",
      "name": "python",
      "nbconvert_exporter": "python",
      "pygments_lexer": "ipython3",
      "version": "3.10.10"
    },
    "orig_nbformat": 4,
    "vscode": {
      "interpreter": {
        "hash": "9e35676d33e03a9093a17dc7760f2b2aa4960ff6d3c0d7dc06348afdc0ca22c8"
      }
    }
  },
  "nbformat": 4,
  "nbformat_minor": 0
}
