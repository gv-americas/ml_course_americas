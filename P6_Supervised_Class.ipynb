{
  "cells": [
    {
      "attachments": {},
      "cell_type": "markdown",
      "metadata": {},
      "source": [
        "<center><img src = \"https://www.geoilenergy.com/images/software/index/geovariances_logo.png\" width=\"20%\"></center>"
      ]
    },
    {
      "attachments": {},
      "cell_type": "markdown",
      "metadata": {
        "id": "na17G3hEpkv1"
      },
      "source": [
        "## **Downloading data and plotting scripts**\n",
        "\n",
        "The `curl` command downloads the repository data used for the course. If you are on Google Colaboratory session, you will also need to download the plotting scripts from Geovariances.\n"
      ]
    },
    {
      "cell_type": "code",
      "execution_count": null,
      "metadata": {
        "colab": {
          "base_uri": "https://localhost:8080/"
        },
        "id": "v-f0Nj9IltaC",
        "outputId": "e6301150-beed-4ddb-86a2-7c0bbfc52834"
      },
      "outputs": [],
      "source": [
        "# Downloads dataset from GitHub\n",
        "!curl -o phosphate_assay_sampled_geomet.csv https://raw.githubusercontent.com/gv-americas/ml_course_americas/main/phosphate_assay_sampled_geomet.csv\n",
        "\n",
        "# If you are in a Google Colab session, make sure to also download the GeoVariances module for plotting!\n",
        "# !curl -o plotting_gv.py https://raw.githubusercontent.com/gv-americas/ml_course_americas/main/plotting_gv.py"
      ]
    },
    {
      "attachments": {},
      "cell_type": "markdown",
      "metadata": {
        "id": "1dRIwrk3ppjx"
      },
      "source": [
        "## **Importing four libraries:**\n",
        "\n",
        "<details>\n",
        "<summary><strong>libraries</strong></summary>\n",
        "\n",
        "**Pandas:** used for data manipulation and analysis.\n",
        "\n",
        "**Numpy:** Used for scientific computing and working with arrays.\n",
        "\n",
        "**Matplotlib:** Used for data visualization and creating plots.\n",
        "\n",
        "**Plotting_gv:** A custom plotting library created by GV Americas, which contains additional plotting functions and custom styles."
      ]
    },
    {
      "cell_type": "code",
      "execution_count": null,
      "metadata": {
        "id": "EpkVT_9ppk6O"
      },
      "outputs": [],
      "source": [
        "import pandas as pd\n",
        "import numpy as np\n",
        "import matplotlib.pyplot as plt\n",
        "import plotting_gv as gv"
      ]
    },
    {
      "attachments": {},
      "cell_type": "markdown",
      "metadata": {
        "id": "L2PqOxtXpqWe"
      },
      "source": [
        "## **Upload data clustered with Google Colab files**"
      ]
    },
    {
      "cell_type": "code",
      "execution_count": null,
      "metadata": {
        "colab": {
          "base_uri": "https://localhost:8080/",
          "height": 73
        },
        "id": "sQf2e0dVltaD",
        "outputId": "e17bbfe9-1b51-47a1-aa9b-623d7d96fcd3"
      },
      "outputs": [],
      "source": [
        "if 'google.colab' in str(get_ipython()):\n",
        "    from google.colab import files\n",
        "    uploaded = files.upload()\n",
        "    filename = list(uploaded.keys())[0]\n",
        "else:\n",
        "    filename = \"phosphate_assay_sampled_geomet_clustered.csv\""
      ]
    },
    {
      "attachments": {},
      "cell_type": "markdown",
      "metadata": {
        "id": "fTB4Izgu4Nuq"
      },
      "source": [
        "## **Reading data with Pandas**"
      ]
    },
    {
      "cell_type": "code",
      "execution_count": null,
      "metadata": {
        "colab": {
          "base_uri": "https://localhost:8080/"
        },
        "id": "asXkMpP1p8pM",
        "outputId": "ae52bc19-b5a0-4384-b9d5-971c85002049"
      },
      "outputs": [],
      "source": [
        "data = pd.read_csv(filename)\n",
        "\n",
        "#data.head(5)\n",
        "data.columns"
      ]
    },
    {
      "attachments": {},
      "cell_type": "markdown",
      "metadata": {
        "id": "PBuhFMWl4WGK"
      },
      "source": [
        "# **Data preprocessing analysis: cleaning and processing**\n",
        "\n",
        "## **Clean dataframe with `dataframe.dropna()`**"
      ]
    },
    {
      "cell_type": "code",
      "execution_count": null,
      "metadata": {
        "id": "HjqRZ-96ltaI"
      },
      "outputs": [],
      "source": [
        "data0 = data.dropna()"
      ]
    },
    {
      "attachments": {},
      "cell_type": "markdown",
      "metadata": {
        "id": "1RjTEdyS4fm8"
      },
      "source": [
        "## **Declaring variables to filter data**"
      ]
    },
    {
      "cell_type": "code",
      "execution_count": null,
      "metadata": {
        "id": "IKGqNgJ7ltaJ"
      },
      "outputs": [],
      "source": [
        "coords = ['X', 'Y', 'Z']\n",
        "\n",
        "cat_var = ['ALT']\n",
        "\n",
        "variables =  ['AL2O3', 'BAO', 'CAO', 'FE2O3', 'MGO', 'NB2O5', 'P2O5', 'SIO2', 'TIO2']\n",
        "\n",
        "clusters = ['aggl_5k','kmeans_3k', 'aggl_3k', 'kmeans_4k', 'aggl_4k', 'kmeans_5k', 'kmeans_2k', 'aggl_2k', 'kmeans_6k', 'aggl_6k']\n",
        "\n",
        "geomet = [\"Reagente\", \"Recuperacao\"]"
      ]
    },
    {
      "attachments": {},
      "cell_type": "markdown",
      "metadata": {
        "id": "k6KxYHaO4j4J"
      },
      "source": [
        "## **Define the target to be supervised!**"
      ]
    },
    {
      "cell_type": "code",
      "execution_count": null,
      "metadata": {
        "id": "e5ztq09HltaJ"
      },
      "outputs": [],
      "source": [
        "target = 'kmeans_5k'"
      ]
    },
    {
      "attachments": {},
      "cell_type": "markdown",
      "metadata": {
        "id": "EE3L4s6M4otW"
      },
      "source": [
        "## **Splitting features (X) and target (y)**"
      ]
    },
    {
      "cell_type": "code",
      "execution_count": null,
      "metadata": {
        "id": "QHAeyIKEltaJ"
      },
      "outputs": [],
      "source": [
        "X = data0[variables].values #declaring variable or features\n",
        "y = data0[target].values # declaring what will be the target class of the model"
      ]
    },
    {
      "attachments": {},
      "cell_type": "markdown",
      "metadata": {
        "id": "dlQpvadU43BB"
      },
      "source": [
        "## **Counting target categories**"
      ]
    },
    {
      "cell_type": "code",
      "execution_count": null,
      "metadata": {
        "colab": {
          "base_uri": "https://localhost:8080/"
        },
        "id": "sZim8lB9ltaJ",
        "outputId": "37ae834b-01a7-438e-9c23-631542cd84fe"
      },
      "outputs": [],
      "source": [
        "data['kmeans_5k'].value_counts()"
      ]
    },
    {
      "attachments": {},
      "cell_type": "markdown",
      "metadata": {
        "id": "jqfaZgLV4-UJ"
      },
      "source": [
        "## **Features samples size**"
      ]
    },
    {
      "cell_type": "code",
      "execution_count": null,
      "metadata": {
        "colab": {
          "base_uri": "https://localhost:8080/"
        },
        "id": "8P3L7eNgltaJ",
        "outputId": "5372503d-d0da-4a25-c076-5446692a46fd"
      },
      "outputs": [],
      "source": [
        "len(X)"
      ]
    },
    {
      "attachments": {},
      "cell_type": "markdown",
      "metadata": {
        "id": "nYShdnoF5GoX"
      },
      "source": [
        "# **Split train, test samples with sklearn.model_selection**"
      ]
    },
    {
      "cell_type": "code",
      "execution_count": null,
      "metadata": {
        "id": "K3Ml3HqMltaK"
      },
      "outputs": [],
      "source": [
        "from sklearn.model_selection import train_test_split\n",
        "\n",
        "\n",
        "X_train, X_test, y_train, y_test = train_test_split(\n",
        "    X, # X features, independent variables\n",
        "    y, # y target, dependet variable\n",
        "    test_size=0.3, #fraction of training and testing data\n",
        "    shuffle=True, #shuffles the data: prevents the data split from being biased towards a particular class or order\n",
        "    random_state=100, #random seed: ensures reproducibility of results, i.e., the data split will always be the same\n",
        "    stratify=y) #separates training and testing data with the same proportion of classes. \"It is always good to make this clear.\"\n"
      ]
    },
    {
      "cell_type": "code",
      "execution_count": null,
      "metadata": {
        "id": "Ro1DOWr-ltaK",
        "outputId": "976ae16f-38ba-4119-fac8-8f8652bcd312"
      },
      "outputs": [],
      "source": [
        "print('fraction of training:')\n",
        "len(X_train)"
      ]
    },
    {
      "cell_type": "code",
      "execution_count": null,
      "metadata": {
        "id": "CDOS0LVPltaK",
        "outputId": "cfa2f27e-4f73-493c-e227-5d3cb1e966b7"
      },
      "outputs": [],
      "source": [
        "print('fraction of validating')\n",
        "len(X_test)"
      ]
    },
    {
      "attachments": {},
      "cell_type": "markdown",
      "metadata": {
        "id": "Bglp5vOf5VCX"
      },
      "source": [
        "# **Data transformation: `StandardScaler()` using Sklearn.preprocessing**\n",
        "<details>\n",
        "<summary>\n",
        "\n",
        "$$ z = \\frac{x-\\mu}{\\sigma}$$\n",
        "</summary>\n",
        "\n",
        "Where $\\mu$ is the mean of the training samples, and $\\sigma$ is the standard deviation of the samples. Documentation can be found on [scikit-learn website](https://scikit-learn.org/stable/modules/generated/sklearn.preprocessing.StandardScaler.html)\n",
        "\n",
        "\n",
        "**Note: The transformation will be applied only on X/features!**\n",
        "</details>"
      ]
    },
    {
      "cell_type": "code",
      "execution_count": null,
      "metadata": {
        "id": "G-1LuCchltaK"
      },
      "outputs": [],
      "source": [
        "from sklearn.preprocessing import StandardScaler\n",
        "\n",
        "scaler = StandardScaler()\n",
        "\n",
        "# We only need to transform the X, that is, the features where the models will be trained and validated\n",
        "scaler.fit(X_train)\n",
        "X_train = scaler.transform(X_train)\n",
        "X_test = scaler.transform(X_test)\n",
        "#These transformations ensure that the data is on the same scale and improve the accuracy of machine learning algorithms."
      ]
    },
    {
      "attachments": {},
      "cell_type": "markdown",
      "metadata": {
        "id": "v9vQBn4V5y1G"
      },
      "source": [
        "## **Training models**"
      ]
    },
    {
      "attachments": {},
      "cell_type": "markdown",
      "metadata": {
        "id": "XluIhYSOltaK"
      },
      "source": [
        "### **KNN Classifier**\n",
        "Documentation can be found on [scikit-learn website](https://scikit-learn.org/stable/modules/generated/sklearn.neighbors.KNeighborsClassifier.html)"
      ]
    },
    {
      "cell_type": "code",
      "execution_count": null,
      "metadata": {
        "id": "2IF1YoQwltaL"
      },
      "outputs": [],
      "source": [
        "from sklearn.neighbors import KNeighborsClassifier    "
      ]
    },
    {
      "cell_type": "code",
      "execution_count": null,
      "metadata": {
        "id": "R0M29k9UltaM"
      },
      "outputs": [],
      "source": [
        "nn = 50 #number of neighbors\n",
        "\n",
        "\n",
        "knn = KNeighborsClassifier(\n",
        "    n_neighbors=nn, #number of neighbors to be considered\n",
        "    weights='distance',  #how it will weigh the proximity of samples (weights), in this case, Euclidean distance\n",
        "    p=2 #p=2 uses Euclidean distance, weights is how it calculates weights for neighbors\n",
        "    ) \n",
        "\n",
        "knn.fit(X_train, y_train) #applying the model to the training data\n",
        "\n",
        "y_pred = knn.predict(X_test) #predicting values from the model on the test data\n",
        "\n"
      ]
    },
    {
      "attachments": {},
      "cell_type": "markdown",
      "metadata": {
        "id": "eg3w2IX756nT"
      },
      "source": [
        "## **Validating KNN model with confusion matrix and classification report**\n"
      ]
    },
    {
      "cell_type": "code",
      "execution_count": null,
      "metadata": {
        "id": "dhdIKoDmltaM",
        "outputId": "03e13290-64a1-43e4-e1c0-9ba38cfb7f0d"
      },
      "outputs": [],
      "source": [
        "gv.confusion_matrix_plot(knn, y_test, y_pred, f'Confusion Matrix KNN {target}', report=True )"
      ]
    },
    {
      "attachments": {},
      "cell_type": "markdown",
      "metadata": {
        "id": "crzRqqp6ltaM"
      },
      "source": [
        "## **SVM**\n",
        "\n",
        "Documentation can be found on [scikit-learn website](https://scikit-learn.org/stable/modules/svm.html)"
      ]
    },
    {
      "attachments": {},
      "cell_type": "markdown",
      "metadata": {
        "id": "qrSkXtSTltaM"
      },
      "source": [
        "## **Linear and RBF SVC: support vector classification**"
      ]
    },
    {
      "cell_type": "code",
      "execution_count": null,
      "metadata": {
        "id": "VZqPOwNQltaM"
      },
      "outputs": [],
      "source": [
        "from sklearn.svm import SVC"
      ]
    },
    {
      "cell_type": "code",
      "execution_count": null,
      "metadata": {
        "id": "bW1PfpGnltaN"
      },
      "outputs": [],
      "source": [
        "svm = SVC(\n",
        "kernel='linear', #kernel to be used for constructing the hyperplanes.\n",
        "C=1, #penalizes points that are on the wrong side of the hyperplane, the higher C the more points are penalized or the more rigorous it is.\n",
        "gamma='scale', #enable if the kernel is rbf!\n",
        "class_weight='balanced', #calculates class balances automatically (can be passed manually as a dictionary)\n",
        "random_state=100, #reproducibility of results\n",
        "probability=True) #returns the probabilities of each class\n",
        "svm.fit(X_train,y_train)\n",
        "\n",
        "y_pred = svm.predict(X_test)"
      ]
    },
    {
      "attachments": {},
      "cell_type": "markdown",
      "metadata": {
        "id": "Y8ckuUTW6CHi"
      },
      "source": [
        "## **Validating SVM model with confusion matrix and classification report**\n"
      ]
    },
    {
      "cell_type": "code",
      "execution_count": null,
      "metadata": {
        "id": "2mJn5uqmltaN",
        "outputId": "74aad2b8-fc13-46d8-9775-f5db30700eac"
      },
      "outputs": [],
      "source": [
        "gv.confusion_matrix_plot(svm, y_test, y_pred, f'Confusion Matrix SVM {target}', report=True)"
      ]
    },
    {
      "attachments": {},
      "cell_type": "markdown",
      "metadata": {
        "id": "FbvIYBwYltaN"
      },
      "source": [
        "## **Decision Trees**\n",
        "\n",
        "Documentation can be found on [scikit-learn website](https://scikit-learn.org/stable/modules/tree.html)"
      ]
    },
    {
      "cell_type": "code",
      "execution_count": null,
      "metadata": {
        "id": "TeD5iOB2ltaN"
      },
      "outputs": [],
      "source": [
        "from sklearn.tree import DecisionTreeClassifier"
      ]
    },
    {
      "cell_type": "code",
      "execution_count": null,
      "metadata": {
        "id": "aFsSyJZnltaN"
      },
      "outputs": [],
      "source": [
        "tree = DecisionTreeClassifier(\n",
        "random_state=100,\n",
        "criterion='gini',\n",
        "max_depth=8,\n",
        "min_samples_split=100\n",
        ")\n",
        "\n",
        "tree.fit(X_train, y_train)\n",
        "\n",
        "y_pred = tree.predict(X_test)\n"
      ]
    },
    {
      "attachments": {},
      "cell_type": "markdown",
      "metadata": {
        "id": "K0YdwcpC6tKW"
      },
      "source": [
        "## **Validating Decision Trees model with confusion matrix and classification report**\n"
      ]
    },
    {
      "cell_type": "code",
      "execution_count": null,
      "metadata": {
        "id": "3j9AH0oJltaN",
        "outputId": "96418995-afe4-469a-8748-851b4874a8e1"
      },
      "outputs": [],
      "source": [
        "gv.confusion_matrix_plot(tree, y_test, y_pred, f'Confusion Matrix Decision Tree {target}', report=True )\n"
      ]
    },
    {
      "attachments": {},
      "cell_type": "markdown",
      "metadata": {
        "id": "eUVd41hMltaN"
      },
      "source": [
        "## **Random Forests**\n",
        "\n",
        "Documentation can be found on [scikit-learn website](https://scikit-learn.org/stable/modules/generated/sklearn.ensemble.RandomForestClassifier.html)"
      ]
    },
    {
      "cell_type": "code",
      "execution_count": null,
      "metadata": {
        "id": "egsevlu1ltaN"
      },
      "outputs": [],
      "source": [
        "from sklearn.ensemble import RandomForestClassifier"
      ]
    },
    {
      "cell_type": "code",
      "execution_count": null,
      "metadata": {
        "id": "_h6udkjIltaN"
      },
      "outputs": [],
      "source": [
        "rf = RandomForestClassifier(\n",
        "n_estimators=300,\n",
        "max_depth=8,\n",
        "min_samples_split=5,\n",
        "random_state=100,\n",
        ")\n",
        "\n",
        "rf.fit(X_train,y_train)\n",
        "\n",
        "y_pred = rf.predict(X_test)"
      ]
    },
    {
      "attachments": {},
      "cell_type": "markdown",
      "metadata": {
        "id": "bDxuWiRU6v6P"
      },
      "source": [
        "## **Validating Random Forest model with confusion matrix and classification report**\n"
      ]
    },
    {
      "cell_type": "code",
      "execution_count": null,
      "metadata": {
        "id": "5wVxu4ExltaO",
        "outputId": "30bc8b3f-71e9-4f0c-8f96-d8588f56a1e1"
      },
      "outputs": [],
      "source": [
        "gv.confusion_matrix_plot(rf, y_test, y_pred, f'Confusion Matrix RandomForest {target}', report=True )\n"
      ]
    },
    {
      "attachments": {},
      "cell_type": "markdown",
      "metadata": {
        "id": "bxipOJKE6y0u"
      },
      "source": [
        "## **Which input features are most important in predicting the target variable for Random Forest Model**\n",
        "<details>\n",
        "<summary>Note:</summary> Feature importance provides a way to identify which features have the most predictive power for a given target variable, and can be useful for optimizing model performance or gaining insights into the relationships between features and the target variable.\n",
        "</details>"
      ]
    },
    {
      "cell_type": "code",
      "execution_count": null,
      "metadata": {
        "id": "X7FSL4-_ltaO",
        "outputId": "2521f716-5e16-4576-fa75-201131c95ae1"
      },
      "outputs": [],
      "source": [
        "gv.features_importance(rf, X_test, variables, y_test, clf=True)"
      ]
    },
    {
      "attachments": {},
      "cell_type": "markdown",
      "metadata": {
        "id": "q3rZBthW7pAj"
      },
      "source": [
        "## **Model evaluation with K-Folds**\n",
        "<details>\n",
        "<summary>\n",
        "The purpose of this plot is to visualize the performance of a model when evaluated with a k-fold cross-validation strategy.</summary>\n",
        "\n",
        "The x-axis represents the different folds used in the cross-validation (1 to k), while the y-axis represents the performance metric chosen to evaluate the model.\n",
        "\n",
        "Each box in the plot represents the distribution of scores obtained for the corresponding fold. \n",
        "\n",
        "This plot can help to understand the variability of the model's performance across different folds, and whether the model is overfitting or underfitting.\n",
        "\n",
        "If the performance is consistent across all folds, the model is likely to generalize well to new data. \n",
        "\n",
        "If the performance is highly variable, the model may need to be improved or re-evaluated with a different strategy.\n",
        "</details>"
      ]
    },
    {
      "cell_type": "code",
      "execution_count": null,
      "metadata": {
        "id": "ZHX8yWtgltaO",
        "outputId": "17ffb7e4-978a-442d-cc1a-54a71cdecb65"
      },
      "outputs": [],
      "source": [
        "gv.evaluate_kfolds(X_train, y_train, 10, 5, rf, classcore='balanced_accuracy')"
      ]
    },
    {
      "attachments": {},
      "cell_type": "markdown",
      "metadata": {
        "id": "-tbAMlA5vn_8"
      },
      "source": [
        "# **Practice**\n",
        "\n",
        "<details>\n",
        "    <summary><strong><u>Supervised learning process</u></strong>\n",
        "    </summary>\n",
        "\n",
        "1) In this exercise, you will reproduce the supervised learning process presented in the notebook, but with a new set of variables!\n",
        "<details>\n",
        "    <summary>&#128161;</summary>\n",
        "  \n",
        "new_variables =  [...]\n",
        "\n",
        "X = data0[new_variables].values #declaring variable or features\n",
        "  \n",
        "</details>"
      ]
    },
    {
      "cell_type": "code",
      "execution_count": null,
      "metadata": {},
      "outputs": [],
      "source": [
        "## code"
      ]
    },
    {
      "attachments": {},
      "cell_type": "markdown",
      "metadata": {
        "id": "WihjFFgywYqC"
      },
      "source": [
        "\n",
        "<details>\n",
        "    <summary><strong><u>Statistical analysis</u></strong>\n",
        "    </summary>\n",
        "\n",
        "2) Perform a statistical analysis of the data to understand the distributions and their correlations.\n",
        "\n",
        "<details>\n",
        "    <summary>&#128161;</summary>\n",
        "  \n",
        "Use  \"scatter matrix\" and \"correlation matrix\"\n",
        "\n",
        "</details>  "
      ]
    },
    {
      "cell_type": "code",
      "execution_count": null,
      "metadata": {
        "id": "GOIeSutRltaO"
      },
      "outputs": [],
      "source": [
        "## code"
      ]
    },
    {
      "attachments": {},
      "cell_type": "markdown",
      "metadata": {
        "id": "frWwYQvJwcTo"
      },
      "source": [
        "\n",
        "<details>\n",
        "    <summary><strong><u>Defining features</u></strong>\n",
        "    </summary>\n",
        "    \n",
        "3) Define your features to be used for training the model and your geometalurgical target variable. \n",
        "\n",
        "<details>\n",
        "    <summary>&#128161;</summary>\n",
        "\n",
        "new_target = [...]\n",
        "\n",
        "y = data0[new_target].values # declaring what will be the target class of the model  \n",
        "\n",
        "Note: try not to use the same target variable as the one used in the group exercise to obtain different tests.\n",
        "</details>"
      ]
    },
    {
      "cell_type": "code",
      "execution_count": null,
      "metadata": {
        "id": "AG-y08CHwtBp"
      },
      "outputs": [],
      "source": [
        "## code"
      ]
    },
    {
      "attachments": {},
      "cell_type": "markdown",
      "metadata": {
        "id": "YeLcdpZew6s6"
      },
      "source": [
        "\n",
        "\n",
        "<details>\n",
        "    <summary><strong><u>Counting categories</u></strong>\n",
        "    </summary>\n",
        "    \n",
        "4) Count the categories of the target variable.\n",
        "<details>\n",
        "    <summary>&#128161;</summary>\n",
        "\n",
        "...value.counts()\n",
        "\n",
        "</details>"
      ]
    },
    {
      "cell_type": "code",
      "execution_count": null,
      "metadata": {
        "id": "xdB7bol8w684"
      },
      "outputs": [],
      "source": [
        "## code"
      ]
    },
    {
      "attachments": {},
      "cell_type": "markdown",
      "metadata": {
        "id": "-44tH6Vsycy5"
      },
      "source": [
        "\n",
        "\n",
        "\n",
        "\n",
        "<details>\n",
        "    <summary><strong><u>Train, test set split!</u></strong>\n",
        "    </summary>\n",
        "    \n",
        "5) Split the train and test sets after the discussions made based on your analysis.\n",
        "<details>\n",
        "    <summary>&#128161;</summary>\n",
        "\n",
        "X_train, X_test, y_train, y_test = train_test_split.....\n",
        "\n",
        "</details>"
      ]
    },
    {
      "cell_type": "code",
      "execution_count": null,
      "metadata": {
        "id": "K6XHzUUkyc6q"
      },
      "outputs": [],
      "source": [
        "## code"
      ]
    },
    {
      "attachments": {},
      "cell_type": "markdown",
      "metadata": {
        "id": "tMMBH7aMwuvT"
      },
      "source": [
        " \n",
        "<details>\n",
        "    <summary><strong><u>Standardization</u></strong>\n",
        "    </summary>\n",
        "    \n",
        "6) Preprocess the data by applying standardization.\n",
        "<details>\n",
        "    <summary>&#128161;</summary>\n",
        "\n",
        "with **StandardScaler()**.\n",
        "\n",
        "Remember... only for your features! \n",
        "\n",
        "And... don't forget to apply it to your test and train variables.\n",
        "\n",
        "</details>\n"
      ]
    },
    {
      "cell_type": "code",
      "execution_count": null,
      "metadata": {
        "id": "mubTNuUFwuD-"
      },
      "outputs": [],
      "source": [
        "## code"
      ]
    },
    {
      "attachments": {},
      "cell_type": "markdown",
      "metadata": {
        "id": "LDieBtOkw4vf"
      },
      "source": [
        " \n",
        "<details>\n",
        "    <summary><strong><u>Choosing algorithms</u></strong>\n",
        "    </summary>\n",
        "    \n",
        "7) Choose one of the algorithms worked on and explained, and train your model, then perform its validations!\n",
        "<details>\n",
        "    <summary>&#128161;</summary>\n",
        "\n",
        "Remember... training the model is done only on your training data, while the validations are performed on the test data!\n",
        "\n",
        "</details>\n"
      ]
    },
    {
      "cell_type": "code",
      "execution_count": null,
      "metadata": {
        "id": "YzMDz6QGzX4n"
      },
      "outputs": [],
      "source": [
        "## code"
      ]
    },
    {
      "attachments": {},
      "cell_type": "markdown",
      "metadata": {
        "id": "zAUAxPr8zqjV"
      },
      "source": [
        "<details>\n",
        "    <summary><strong><u>Confusion Matrix and Classification report</u></strong>\n",
        "    </summary>\n",
        "    \n",
        "8) Plot a confusion matrix and the respective classification report of your model\n",
        "<details>\n",
        "    <summary>&#128161;</summary>\n",
        "\n",
        "gv.confusion_matrix_plot(...)\n",
        "\n",
        "</details>"
      ]
    },
    {
      "cell_type": "code",
      "execution_count": null,
      "metadata": {
        "id": "zeIuMUjbz3Gl"
      },
      "outputs": [],
      "source": [
        "## code"
      ]
    }
  ],
  "metadata": {
    "colab": {
      "provenance": []
    },
    "kernelspec": {
      "display_name": ".venv",
      "language": "python",
      "name": "python3"
    },
    "language_info": {
      "codemirror_mode": {
        "name": "ipython",
        "version": 3
      },
      "file_extension": ".py",
      "mimetype": "text/x-python",
      "name": "python",
      "nbconvert_exporter": "python",
      "pygments_lexer": "ipython3",
      "version": "3.9.12"
    },
    "orig_nbformat": 4,
    "vscode": {
      "interpreter": {
        "hash": "3b693c35aaa3f440c2e2dc6c27786710da90ea3e1d973858722b914326c9afee"
      }
    }
  },
  "nbformat": 4,
  "nbformat_minor": 0
}
