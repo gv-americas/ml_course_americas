{
  "cells": [
    {
      "attachments": {},
      "cell_type": "markdown",
      "metadata": {
        "id": "QIzojTEU_LP1"
      },
      "source": [
        "<center>\n",
        "<img src = \"data:image/png;base64,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\"></center>"
      ]
    },
    {
      "attachments": {},
      "cell_type": "markdown",
      "metadata": {},
      "source": [
        "# **Introduction to Cluster Analysis!**\n",
        "## **Content:**\n",
        "\n",
        "1. Data preprocessing: data cleaning and transformation.\n",
        "2. Preliminary cluster analysis: dendrograms and elbow plots.\n",
        "3. Clustering with different scenarios.\n",
        "4. Calculation of clustering metrics: analysis and inference of groups using Davies-Bouldin and Silhouette coefficients.\n",
        "5. Comparative plos and visualize scenarios."
      ]
    },
    {
      "attachments": {},
      "cell_type": "markdown",
      "metadata": {},
      "source": []
    },
    {
      "attachments": {},
      "cell_type": "markdown",
      "metadata": {
        "id": "VYWmQ-DvWc9b"
      },
      "source": [
        "## **Downloading data and plotting scripts**\n",
        "\n",
        "The `curl` command downloads the repository data used for the course. If you are on Google Colaboratory session, you will also need to download the plotting scripts from Geovariances.\n"
      ]
    },
    {
      "cell_type": "code",
      "execution_count": null,
      "metadata": {
        "id": "MIxmskE0_LP2"
      },
      "outputs": [],
      "source": [
        "# Downloads dataset from GitHub\n",
        "!curl -o phosphate_assay_sampled_geomet.csv https://raw.githubusercontent.com/gv-americas/ml_course_americas/main/phosphate_assay_sampled_geomet.csv\n",
        "\n",
        "# If you are in a Google Colab session, make sure to also download the GeoVariances module for plotting!\n",
        "# !curl -o plotting_gv.py https://raw.githubusercontent.com/gv-americas/ml_course_americas/main/plotting_gv.py"
      ]
    },
    {
      "attachments": {},
      "cell_type": "markdown",
      "metadata": {
        "id": "rY0W5G5pWjXl"
      },
      "source": [
        "## **Importing four libraries:**\n",
        "<details>\n",
        "<summary><strong>libraries</strong></summary>\n",
        "\n",
        "**Pandas:** used for data manipulation and analysis.\n",
        "\n",
        "**Numpy:** Used for scientific computing and working with arrays.\n",
        "\n",
        "**Matplotlib:** Used for data visualization and creating plots.\n",
        "\n",
        "**Plotting_gv:** A custom plotting library created by GV Americas, which contains additional plotting functions and custom styles.\n",
        "\n",
        "</details>"
      ]
    },
    {
      "cell_type": "code",
      "execution_count": null,
      "metadata": {
        "id": "29oC4Qx2WP6y"
      },
      "outputs": [],
      "source": [
        "import pandas as pd\n",
        "import numpy as np\n",
        "import matplotlib.pyplot as plt\n",
        "import plotting_gv as gv"
      ]
    },
    {
      "attachments": {},
      "cell_type": "markdown",
      "metadata": {
        "id": "NS4a4t5tW4ar"
      },
      "source": [
        "## **Reading data with Pandas**"
      ]
    },
    {
      "cell_type": "code",
      "execution_count": null,
      "metadata": {
        "colab": {
          "base_uri": "https://localhost:8080/",
          "height": 423
        },
        "id": "xNWhYaNF_LP3",
        "outputId": "06bb7859-cf07-4ee0-ac3b-8c7fbffe6412"
      },
      "outputs": [],
      "source": [
        "data = pd.read_csv('phosphate_assay_sampled_geomet.csv')\n",
        "data"
      ]
    },
    {
      "attachments": {},
      "cell_type": "markdown",
      "metadata": {
        "id": "9Fjd103IZ6z4"
      },
      "source": [
        "## **Recognizing data: display first few rows of our dataframe**"
      ]
    },
    {
      "cell_type": "code",
      "execution_count": null,
      "metadata": {
        "colab": {
          "base_uri": "https://localhost:8080/",
          "height": 206
        },
        "id": "FAWz4rEJ_LP3",
        "outputId": "1d5a96cf-3f94-4d6e-d4a7-8af08690fb59"
      },
      "outputs": [],
      "source": [
        "data.head(5)"
      ]
    },
    {
      "attachments": {},
      "cell_type": "markdown",
      "metadata": {
        "id": "FmydwAWAZ8Km"
      },
      "source": [
        "## **Printing dataframe columns**"
      ]
    },
    {
      "cell_type": "code",
      "execution_count": null,
      "metadata": {
        "colab": {
          "base_uri": "https://localhost:8080/"
        },
        "id": "Bvxy4mOu_LP3",
        "outputId": "6b438d7a-6c01-4d56-a53f-18d13605ceb3"
      },
      "outputs": [],
      "source": [
        "data.columns"
      ]
    },
    {
      "attachments": {},
      "cell_type": "markdown",
      "metadata": {
        "id": "bEz3dFoGaUu9"
      },
      "source": [
        "## **Declaring variables to filter data**"
      ]
    },
    {
      "cell_type": "code",
      "execution_count": null,
      "metadata": {
        "id": "ux3JD86z_LP4"
      },
      "outputs": [],
      "source": [
        "coords = ['X', 'Y', 'Z']\n",
        "\n",
        "cat_var = ['ALT']\n",
        "\n",
        "variables =  ['AL2O3', 'BAO', 'CAO', 'FE2O3', 'MGO', 'NB2O5', 'P2O5', 'SIO2', 'TIO2']\n",
        "\n",
        "geomet = [\"Reagente\", \"Recuperacao\"]"
      ]
    },
    {
      "attachments": {},
      "cell_type": "markdown",
      "metadata": {
        "id": "TWNdk2ng_LP4"
      },
      "source": [
        "# **Data preprocessing analysis: cleaning and processing**\n",
        "\n",
        "\n",
        "\n"
      ]
    },
    {
      "attachments": {},
      "cell_type": "markdown",
      "metadata": {
        "id": "U-3wkWegamig"
      },
      "source": [
        "## **Counting NaN values**"
      ]
    },
    {
      "cell_type": "code",
      "execution_count": null,
      "metadata": {
        "colab": {
          "base_uri": "https://localhost:8080/"
        },
        "id": "tpO61Za5_LP4",
        "outputId": "c2a9cb70-91fc-454a-dff7-62ff0231cf5e"
      },
      "outputs": [],
      "source": [
        "print('Counting NaN values for each variable:')\n",
        "print(data[variables].isnull().sum())"
      ]
    },
    {
      "attachments": {},
      "cell_type": "markdown",
      "metadata": {
        "id": "cryzbSWSaph-"
      },
      "source": [
        "## **Descriptive statistics: full dataset**"
      ]
    },
    {
      "cell_type": "code",
      "execution_count": null,
      "metadata": {
        "colab": {
          "base_uri": "https://localhost:8080/",
          "height": 337
        },
        "id": "2_zi1fs8_LP4",
        "outputId": "936988cc-455f-418d-d553-e5c30ca63250"
      },
      "outputs": [],
      "source": [
        "print('Full Data statistics:\\n')\n",
        "data[variables].describe().round(2)"
      ]
    },
    {
      "attachments": {},
      "cell_type": "markdown",
      "metadata": {
        "id": "jInRDc5Da0fF"
      },
      "source": [
        "## **Clean dataframe with `dataframe.dropna()`**\n",
        "\n",
        "\n",
        "\n"
      ]
    },
    {
      "cell_type": "code",
      "execution_count": null,
      "metadata": {
        "id": "O4Q7JL0X_LP4"
      },
      "outputs": [],
      "source": [
        "data0 = data.dropna(subset=variables)"
      ]
    },
    {
      "attachments": {},
      "cell_type": "markdown",
      "metadata": {
        "id": "7FLAPTboa5-q"
      },
      "source": [
        "## **Descriptive statistics: cleaned dataset**"
      ]
    },
    {
      "cell_type": "code",
      "execution_count": null,
      "metadata": {
        "colab": {
          "base_uri": "https://localhost:8080/",
          "height": 337
        },
        "id": "Cns-aE4Z_LP4",
        "outputId": "84007459-3e7d-49fa-faa8-fb4f70e114b0"
      },
      "outputs": [],
      "source": [
        "print('Cleaned Data statistics:\\n')\n",
        "data0[variables].describe().round(2)"
      ]
    },
    {
      "attachments": {},
      "cell_type": "markdown",
      "metadata": {
        "id": "jdGwsZBR_LP4"
      },
      "source": [
        "# **Data transformation: `StandardScaler()` using Sklearn.preprocessing**\n",
        "\n",
        "$$ z = \\frac{x-\\mu}{\\sigma}$$\n",
        "\n",
        "Where $\\mu$ is the mean of the training samples, and $\\sigma$ is the standard deviation of the samples. DOcumentation can be found on [scikit-learn website](https://scikit-learn.org/stable/modules/generated/sklearn.preprocessing.StandardScaler.html)"
      ]
    },
    {
      "cell_type": "code",
      "execution_count": null,
      "metadata": {
        "id": "n95ljOUR_LP4"
      },
      "outputs": [],
      "source": [
        "from sklearn.preprocessing import StandardScaler\n",
        "\n",
        "x = data0[variables]\n",
        "\n",
        "scaler = StandardScaler()\n",
        "x_std = scaler.fit(x).transform(x)"
      ]
    },
    {
      "attachments": {},
      "cell_type": "markdown",
      "metadata": {
        "id": "2BhvETO5_LP5"
      },
      "source": [
        "# **Preliminary cluster analysis: dendogram and elbow plot**"
      ]
    },
    {
      "attachments": {},
      "cell_type": "markdown",
      "metadata": {
        "id": "psnWcm4zbpDb"
      },
      "source": [
        "## **Dendogram using `scipy.cluster.dendogram`**\n",
        "\n",
        "Documentation can be found on [SciPy website](https://docs.scipy.org/doc/scipy/reference/generated/scipy.cluster.hierarchy.dendrogram.html)"
      ]
    },
    {
      "cell_type": "code",
      "execution_count": null,
      "metadata": {
        "colab": {
          "base_uri": "https://localhost:8080/",
          "height": 472
        },
        "id": "3dUfZvaG_LP5",
        "outputId": "60fb8e27-4f0d-49c2-fbcd-2503eba69842"
      },
      "outputs": [],
      "source": [
        "gv.dendogram(x_std, method='ward')"
      ]
    },
    {
      "attachments": {},
      "cell_type": "markdown",
      "metadata": {
        "id": "VwHruMEBcJ2Y"
      },
      "source": [
        "## **Elbow plot using KMeans Inertia**\n",
        "\n",
        "Documentation can be found on [scikit-learn website](https://scikit-learn.org/stable/modules/generated/sklearn.cluster.KMeans.html)"
      ]
    },
    {
      "cell_type": "code",
      "execution_count": null,
      "metadata": {
        "colab": {
          "base_uri": "https://localhost:8080/",
          "height": 621
        },
        "id": "-ASv6pH-_LP5",
        "outputId": "ef155108-bbac-4259-fa42-4508349400e0"
      },
      "outputs": [],
      "source": [
        "gv.elbow_plot(2, 8, x_std)"
      ]
    },
    {
      "attachments": {},
      "cell_type": "markdown",
      "metadata": {
        "id": "yx3ocB32_LP5"
      },
      "source": [
        "# **KMeans: running the algorithm and understanding the parameters**\n",
        "\n",
        "Documentation can be found on [scikit-learn website](https://scikit-learn.org/stable/modules/generated/sklearn.cluster.KMeans.html)"
      ]
    },
    {
      "cell_type": "code",
      "execution_count": null,
      "metadata": {
        "id": "brqZiAKC_LP5"
      },
      "outputs": [],
      "source": [
        "from sklearn.cluster import KMeans\n",
        "\n",
        "kmeans = KMeans(n_clusters=5, init=\"k-means++\", n_init=300, random_state=1)\n",
        "\n",
        "kmeans.fit(x_std)\n",
        "data.loc[data0.index, \"kmeans_5k\"] = kmeans.labels_"
      ]
    },
    {
      "attachments": {},
      "cell_type": "markdown",
      "metadata": {
        "id": "z5Zf6Yf4dJdi"
      },
      "source": [
        "## **Visualize clusters**"
      ]
    },
    {
      "cell_type": "code",
      "execution_count": null,
      "metadata": {
        "colab": {
          "base_uri": "https://localhost:8080/",
          "height": 229
        },
        "id": "OTo5X7vu_LP5",
        "outputId": "bf3c4495-286b-4193-d4af-c8999e5be34b"
      },
      "outputs": [],
      "source": [
        "gv.locmap(data['X'], data['Z'], data['kmeans_5k'], cat=True,\n",
        "           figsize=(20,10), title='Cross section for clusters')"
      ]
    },
    {
      "attachments": {},
      "cell_type": "markdown",
      "metadata": {
        "id": "LhGpLHnU_LP6"
      },
      "source": [
        "## **Hierarchichal Agglomerative: running the algorithm and understanding the parameters**\n",
        "\n",
        "Documentation can be found on [scikit-learn website](https://scikit-learn.org/stable/modules/generated/sklearn.cluster.AgglomerativeClustering.html)"
      ]
    },
    {
      "cell_type": "code",
      "execution_count": null,
      "metadata": {
        "id": "2XGpd-ht_LP6"
      },
      "outputs": [],
      "source": [
        "from sklearn.cluster import AgglomerativeClustering\n",
        "\n",
        "\n",
        "aggl = AgglomerativeClustering(\n",
        "    n_clusters=5, \n",
        "    affinity='euclidean', \n",
        "    linkage='ward',\n",
        "    )\n",
        "\n",
        "\n",
        "aggl.fit(x_std)  \n",
        "\n",
        "\n",
        "data.loc[data0.index, 'aggl_5k'] = kmeans.labels_"
      ]
    },
    {
      "attachments": {},
      "cell_type": "markdown",
      "metadata": {
        "id": "NMWF5imidRVF"
      },
      "source": [
        "## **Visualize clusters**"
      ]
    },
    {
      "cell_type": "code",
      "execution_count": null,
      "metadata": {
        "colab": {
          "base_uri": "https://localhost:8080/",
          "height": 229
        },
        "id": "vYVUaGFC_LP6",
        "outputId": "89bb586c-9e0d-448b-e5a0-05eddd5c3f51"
      },
      "outputs": [],
      "source": [
        "gv.locmap(data['X'], data['Z'], data['aggl_5k'], cat=True,\n",
        "           figsize=(20,10), title='Cross section for clusters')"
      ]
    },
    {
      "attachments": {},
      "cell_type": "markdown",
      "metadata": {
        "id": "2Hcw5fQudlJB"
      },
      "source": [
        "# **Generating different scenarios with KMeans and Agglomerative: calculating performance metrics**"
      ]
    },
    {
      "cell_type": "code",
      "execution_count": null,
      "metadata": {
        "colab": {
          "base_uri": "https://localhost:8080/"
        },
        "id": "IMO05vPf_LP6",
        "outputId": "3ce29181-79d3-4238-99e3-d9554272d8c9"
      },
      "outputs": [],
      "source": [
        "from sklearn.metrics import davies_bouldin_score, silhouette_score\n",
        "\n",
        "# Create empty lists to store the Davies-Bouldin and Silhouette scores for KMeans and Agglomerative clustering.\n",
        "\n",
        "db_km = []\n",
        "sl_km = []\n",
        "\n",
        "sl_ag = []\n",
        "db_ag = []\n",
        "\n",
        "# Define the range of cluster numbers to evaluate. In this example, the min and max cluster numbers are defined beforehand, and np.arange() is used to create an array of cluster numbers to evaluate.\n",
        "min = 2\n",
        "max = 7\n",
        "\n",
        "n_clus = np.arange(min, max, 1)\n",
        "\n",
        "# Loop through each cluster number in the n_clus array.\n",
        "\n",
        "for i in n_clus:\n",
        "    # Run KMeans clustering for the current number of clusters, and append the resulting labels to the data DataFrame, with the column name kmeans_{i}k.\n",
        "    print(f\"Running KMeans for {i}clusters...\")\n",
        "    cluster = KMeans(n_clusters=i, algorithm=\"full\")\n",
        "    cluster.fit(x_std)\n",
        "    labels_km = cluster.labels_\n",
        "    data.loc[data0.index, f\"kmeans_{i}k\"] = labels_km\n",
        "\n",
        "    # Calculate the Silhouette and Davies-Bouldin scores for the KMeans clustering, and append them to the corresponding lists.\n",
        "    sl_km.append(silhouette_score(x_std, labels_km))\n",
        "    db_km.append(davies_bouldin_score(x_std, labels_km))\n",
        "\n",
        "    # Run Agglomerative clustering for the current number of clusters, and append the resulting labels to the data DataFrame, with the column name aggl_{i}k.\n",
        "    print(f\"Running Agglomerative for {i}clusters...\")\n",
        "    aggl = AgglomerativeClustering(n_clusters=i, affinity=\"euclidean\", linkage=\"ward\")\n",
        "    aggl.fit(x_std)\n",
        "    labels_ag = aggl.labels_\n",
        "    data.loc[data0.index, f\"aggl_{i}k\"] = labels_ag\n",
        "\n",
        "    # Calculate the Silhouette and Davies-Bouldin scores for the Agglomerative clustering, and append them to the corresponding lists.\n",
        "    sl_ag.append(silhouette_score(x_std, labels_ag))\n",
        "    db_ag.append(davies_bouldin_score(x_std, labels_ag))\n",
        "\n",
        "\n",
        "print(\n",
        "    \"Ready, the clusters were calculated and inserted in your dataframe and the metrics were accumulated in the lists!\"\n",
        ")\n"
      ]
    },
    {
      "attachments": {},
      "cell_type": "markdown",
      "metadata": {
        "id": "QuGx3F9XfZy9"
      },
      "source": [
        "## **Plotting metrics for scenario analysis**"
      ]
    },
    {
      "cell_type": "code",
      "execution_count": null,
      "metadata": {
        "colab": {
          "base_uri": "https://localhost:8080/",
          "height": 365
        },
        "id": "gWX5rbMg_LP6",
        "outputId": "2db8e659-39ff-4bd7-84a0-1d39d7f3f0e3"
      },
      "outputs": [],
      "source": [
        "gv.cluster_metrics(n_clus, sl_km, sl_ag, db_km, db_ag)"
      ]
    },
    {
      "attachments": {},
      "cell_type": "markdown",
      "metadata": {
        "id": "yBNq9LUTfjOT"
      },
      "source": [
        "## **Comparative plots**"
      ]
    },
    {
      "cell_type": "code",
      "execution_count": null,
      "metadata": {
        "colab": {
          "base_uri": "https://localhost:8080/",
          "height": 512
        },
        "id": "yTMwVDQR_LP7",
        "outputId": "8178f276-c2ab-4439-ce35-6bd337ecdf09"
      },
      "outputs": [],
      "source": [
        "gv.cat1_in_cat2(data['ALT'], data['kmeans_5k'], title=\"CAT1 in CAT2\")"
      ]
    },
    {
      "cell_type": "code",
      "execution_count": null,
      "metadata": {
        "colab": {
          "base_uri": "https://localhost:8080/",
          "height": 512
        },
        "id": "3bp9VRll_LP7",
        "outputId": "49bb5db7-6d25-4cb5-e4b9-97a26db9ea0f"
      },
      "outputs": [],
      "source": [
        "gv.cat1_in_cat2(data['ALT'], data['aggl_5k'], title=\"CAT1 in CAT2\")"
      ]
    },
    {
      "attachments": {},
      "cell_type": "markdown",
      "metadata": {
        "id": "7G4glAJmfm-S"
      },
      "source": [
        "## **Understanding clusters distributions for each variable with boxplots**"
      ]
    },
    {
      "cell_type": "code",
      "execution_count": null,
      "metadata": {
        "colab": {
          "base_uri": "https://localhost:8080/",
          "height": 1000
        },
        "id": "sVNA9djH_LP7",
        "outputId": "92a82f1a-cb57-4571-f9aa-5d269f130267"
      },
      "outputs": [],
      "source": [
        "gv.boxplots(data[variables], variables, data['kmeans_5k'], 'Clusters distributions')"
      ]
    },
    {
      "attachments": {},
      "cell_type": "markdown",
      "metadata": {
        "id": "mO5zk_OTftZA"
      },
      "source": [
        "## **Download data clustered for supervised learning!**"
      ]
    },
    {
      "cell_type": "code",
      "execution_count": null,
      "metadata": {
        "colab": {
          "base_uri": "https://localhost:8080/",
          "height": 17
        },
        "id": "-2LCMKsok0g6",
        "outputId": "35071b75-602c-417e-bbe7-210b49d6ec43"
      },
      "outputs": [],
      "source": [
        "data.to_csv('phosphate_assay_sampled_geomet_clustered.csv', index=False)\n",
        "\n",
        "if 'google.colab' in str(get_ipython()):\n",
        "  from google.colab import files\n",
        "  files.download(\"phosphate_assay_sampled_geomet_clustered.csv\")"
      ]
    },
    {
      "attachments": {},
      "cell_type": "markdown",
      "metadata": {
        "id": "r0311LwMlxI0"
      },
      "source": [
        "# **Practice**"
      ]
    },
    {
      "cell_type": "markdown",
      "metadata": {
        "id": "arRnaApNoEIF"
      },
      "source": [
        "In this exercise, you will reproduce the clustering process presented in the notebook, but with a new set of variables that will be defined based on their correlations. \n",
        "\n",
        "Remember: a good correlation coefficient is expected to lead to meaningful clustering results.\n",
        "\n",
        "\n"
      ]
    },
    {
      "attachments": {},
      "cell_type": "markdown",
      "metadata": {
        "id": "I89uzaHGoYra"
      },
      "source": [
        "<details>\n",
        "    <summary><strong><u>Understanding distributions</u></strong></summary>\n",
        "1) Generate a scatter matrix and a correlation matrix to understand the distributions and correlations of the variables.\n",
        "<details>\n",
        "    <summary>&#128161;</summary>\n",
        "  \n",
        "gv.boxplots(\"parameters here\")\n",
        "  \n",
        "</details>\n"
      ]
    },
    {
      "cell_type": "code",
      "execution_count": null,
      "metadata": {
        "id": "mIPN71EUlymg"
      },
      "outputs": [],
      "source": [
        "## code"
      ]
    },
    {
      "attachments": {},
      "cell_type": "markdown",
      "metadata": {
        "id": "v83FyElMoe1e"
      },
      "source": [
        "Define a new set of variables to be used in the cluster analysis based on their correlations.\n",
        "\n",
        "<details>\n",
        "    <summary><strong><u>Understanding distributions</u></strong></summary>\n",
        "2) Generate a scatter matrix and a correlation matrix to understand the distributions and correlations of the variables.\n",
        "<details>\n",
        "    <summary>&#128161;</summary>\n",
        "  \n",
        "gv.boxplots(\"parameters here\")\n",
        "  \n",
        "</details>\n"
      ]
    },
    {
      "cell_type": "code",
      "execution_count": null,
      "metadata": {
        "id": "rRk70yLIobi3"
      },
      "outputs": [],
      "source": [
        "## code"
      ]
    },
    {
      "attachments": {},
      "cell_type": "markdown",
      "metadata": {
        "id": "KkheHBBJopwT"
      },
      "source": [
        "<details>\n",
        "    <summary><strong><u>Understanding distributions</u></strong></summary>\n",
        "1) Preprocess the data by applying standardization\n",
        "<details>\n",
        "    <summary>&#128161;</summary>\n",
        "  \n",
        "StandardScaler()\n",
        "  \n",
        "</details>\n"
      ]
    },
    {
      "cell_type": "code",
      "execution_count": null,
      "metadata": {
        "id": "jX7GTaczoecw"
      },
      "outputs": [],
      "source": [
        "## code   "
      ]
    },
    {
      "attachments": {},
      "cell_type": "markdown",
      "metadata": {
        "id": "jzlf9B4vouKL"
      },
      "source": [
        "\n",
        "\n",
        "<details>\n",
        "    <summary><strong><u>Understanding distributions</u></strong></summary>\n",
        "1) Reproduce the clustering process from the preprocessing step to the final analyses:\n",
        "<details>\n",
        "    <summary>&#128161;</summary>\n",
        "  \n",
        "gv.elbow plot() and gv.dendrogram() to analyze the results\n",
        "  \n",
        "</details>\n"
      ]
    },
    {
      "cell_type": "code",
      "execution_count": null,
      "metadata": {
        "id": "RPT21wm2oz2H"
      },
      "outputs": [],
      "source": [
        "## code"
      ]
    },
    {
      "cell_type": "markdown",
      "metadata": {
        "id": "Nbh6NC73o0VD"
      },
      "source": [
        "Generate different scenarios with the same script provided, changing only the number of desired groups."
      ]
    },
    {
      "cell_type": "code",
      "execution_count": null,
      "metadata": {
        "id": "aTgtq3k8o1tv"
      },
      "outputs": [],
      "source": [
        "## code"
      ]
    },
    {
      "attachments": {},
      "cell_type": "markdown",
      "metadata": {
        "id": "PLdd7V3fo3nH"
      },
      "source": [
        "<details>\n",
        "    <summary><strong><u>Understanding distributions</u></strong></summary>\n",
        "1) Plot the performance metrics through the cluster metrics\n",
        "<details>\n",
        "    <summary>&#128161;</summary>\n",
        "  \n",
        "gv.clustermetrics(), horizontal sections with gv.locmap() and visualize the distributions with gv.boxplots()\n",
        "  \n",
        "</details>\n"
      ]
    },
    {
      "cell_type": "code",
      "execution_count": null,
      "metadata": {
        "id": "fjBlmzuSo4D_"
      },
      "outputs": [],
      "source": [
        "## code"
      ]
    },
    {
      "attachments": {},
      "cell_type": "markdown",
      "metadata": {},
      "source": [
        "<center>\n",
        "<img src = \"data:image/png;base64,iVBORw0KGgoAAAANSUhEUgAAAOEAAADhCAMAAAAJbSJIAAABPlBMVEX///8QaoJKQDehxCj//v8AZX4AWHMAYnv7/f0AYHoOaYJKQDYAZ38YbYR4pLHF2d9gk6RIPTcAZYM2eozU4OUAZ4Pw9/jq8fKjyCdANCq50NcAU2+91tqgvMYAZIVFODdDOC6Qtb/b6Os6LiJVkV7z8vKFrbpZkqJGhZdsnqutx88lc4lzpkdpnlGoySCVvS5MQzVTTjRDMzhXVjS7uLXS0M54cGpbUkxSSUDm5ONPi50rd3M/g2tfl1dMimUfcXiGsjyPtzZ7qUMze3AYbn309+tuoE8jdHaHq0+cr06txsUtenCVmXPX4NuJohyRi4lSUyKrp6dbhXldXzU5KSeNlYaDlS9rdjAwYEeKoy3Jx8U1dltTaTJmfS9jZjRRSCZsY19BimuJoCdpby+VryN8jDCvq6eGgXx0bmmalpEsmM0XAAANB0lEQVR4nO2dC3fayBWAxUPSCAvxEAgBFiBhA5Ic47djYsfPJm23jZu6teu0SdNdJ978/z/QGT1AMgJhI49wznxnzx5jCNLHvTP3jswZURSBQCAQCAQCgUAgEAgEAoFAIBAIBAKBQCAQCAQCgbBQpOF/6YBf/mQASapYSFLcpxIpoFLKGR19MOiZ2QRvkTXF3qArGLlSBcR9enMB3QxV75k8y9IQPpNwyfA8/AXL0abY7Sgv0xNIy2peTNAszfOJSWRgTGmO5c1up/bCLDWlm+VYNjPR7QE0xyV6ainu054RoKkiw9Ez27nwHJMVcos/B2nKIMNOzsvpZGha7JQWNl1hdQM53WQfHz1fJNls11jYQNYGLD2P3VBSVBbRERgmRyfmit/IkUuolQVreYAhck8dfYFwJnRcIMncgI8iP73wtGiARVGU1EjG35gjl9fiVrNZFrln8EOwCWUBMhXoHB/N/BIE14s9jJrIPpsegs7W4hWsmc8xAn2KtBpnk6NEPoUGwOrxKXairYETFQcxtThA4J5vivEr9iqxGHaed47xKQ7wK6YpFcMQHCl28Y9FY/YVfBRwAoXZUcMzyYxgFLyCUg+zIATvZZzOc7Wik6EHEsYWNYdzlnHIcCq+Lhz0YjBM8Dy+LtyIQxDmaReXIBDjMcywuIJYwz/N2MCiiIduPCGEZPE0b1pcIYRBNLAYKvEZ0nkcrRsY4G9nhpg40rQS0YXtJ8HmMBjG0c+MDDsYDJ9nGGaKjUajWCyi/5UnJwmtY+jc1OiX9plG5s3h0ZrFq7eHbxLlxgRLvofhko0edZZmisdHJ33ZJSX3T89WfkkUy+WAF2OYakDU9b548Sq1nvIjr8v9tbfHxcaYJA7DaItFprgy5je0PDk65/2SmRdnmCmuyYF+jmXq9NVh1jsocRhGOQ4zmbXgAHok5dNX5xflcsayLJ7/4dkNo7xMmqHfhQki1uXTtZX3F2VYSd7/EYNhhNWisTKLoD0oU/2ztbUz+U+rz2/458gMy7/M6DdMWFn+C4ZLNX+NbKZpnE2bZQIdP1xi6GlWLyISzJzPmqMj/vbx2f2g4d+L0RgWTx4bwdTVP3YxGFL/jCZNy28eFULYzl1vNF8f4DDceR/FAjFTnqVSuL1q/+76ZrNZaO1h+fPMwb8iMbzoh7mloNiH2283NzdXmxvNQiGZrP7AIUilr44jUCweTp5Ikd3t9c329mbTBtpBv2Sy/QmLIXX/7ygMJyWpLPdvYUZubVlRewCGeo/Y+c/F3IqZi9Ngv9T11QYM2pgbonWPR5Ba3X47d8EovwmO4PV2UOgc2juYDKm9z3OPxHJQSyr3vzSbk/QgVSy1ArHz31eNOQ0bAetC+cNGc2mKYOsrLkFqdf/mf3PmaeN0zFD+tjUxPxFLVWxJSlGXrdvsfHn6PkBwWoJCCq8xzaSI3eaXV0FXwmYmM1YN5V8LhWkpiq3cO+xt/Xo4T5423j0wlO+mZihK0iS2eQax297ov5kjio2ThzHcDDOs4iqGNuBr87eTOYZi+eEo/C1kEEJDLAunETvt5vXZlD8whHDsD2HoLANLBZ5lxYj0fmHj7t1Tq2L5rb/e322E5Si2pnvETrWwvb7yxNmmfOQzlK/CQ/gVtyBFfW01vzxVsey7gCFfb4UJJtuYRyHiU2tp65u88pREzRz7Vr/98BzFtqrwAu5bhcLtkxTL576J5tvUbtQCz/WZh+y2knC2WV95/IzqH4Z3oSmKuZ0Z8aOaLGz21985fzWZHdq3sPgSPs3sY+xIvYB92A5v9NfPLh7Z3XiHoXwdKriEv1K47Fah4nZ//fT9oxSLh94k3Q6dZqqXcQnCVRRUbF715f5h8RGJ6m27Z+hmCriuPwWxut+yFeWjwO8VBOO7Uho6jSZxLnzH2W3BM2xu9GWYqbOWjcaKJ4Q34R13jDmK+NiGM0Fh8w6e9NvMbGEsj64jyncztGsx5igC1n14Gs3ND3JKPvtlltFY9i7vQyvFUjKGds3PahKNpMLGLfqqzyyjsTxa/M5QKfBdIp3MLgriUqH5DZ74OpxUQxy9f7vvhy/sY2pm/Oy0rJPZurHCcnJYnparxXNPsQ9d2Ff34paz+Vi1Tqf55c7Kv7PDzETH8pv+KEdvwwRjn2WGXNqKhc1bdPqyfPK/zPg30hD0e++F4LBFU2s/lhVFEOCro7j1OWU5rvePjhtjkuWGJ0XRPDq92i/hvvY0DVcxubX9wQ4S+trdIe2xzDSK52eeflT+vBXSzsSxrJ/M6p6jWFiyw5iyvna3dnR4fJwoNorZ4/Ojk5QnQ+XrsGm0FduCIhhXcakAw+gRgSXh5OzsBLYx/mtPH5LTDZeSC1AI/az+7igmC4WbvneFa32Zwo98N/nPoE4uLFgEEcOxiFrxb6mpXxsNi2BraTf+HT/GAZdDReh4PdkRjsHpgtXFKRN+wMeRYqG5fd0PdJT7YSum6u8LKgjZSbY8jpvf7sYCKaduN8MELxelkwniIDkKI3QsXMFAeiTXU9fb0/+UDcvg97glpgPu26NCXigUtrauPv96Z/vd3f5WCPFbqr7eXYBthaYCdl5XfSddaDaTm9uQzeSUr8o4tO4XOUNdDvaqD0+8YJFMhvRprdc7C7uloA/wfWnMcQZa7RcRQJvVy3YrXMlPe38B25gp7N5XH+XY3n8hCToC7O7N7Niq7n9/OQk6AjomZ3FstfZ3XqKfxcGP1+3pk06r3br/9NLy08/uj/12uxVcJqpQ7+WGbwQ4+P77frXaao1SFv5crSa//vj0E+jZgNXdncv7vf3XNvtf7++/7x78NHpDwOqBw8/nRiAQCAQCgUDABLDuYxTtSg4s0MJQU/Imn0iYXbUU4Xb+ecy7rk4GqHzdFFRFFcw604tuk3Raj+yt5kMT68O7FGhKthfZGwsLEsOKyKqeh1LMG91HD+hyDz7qBZofIqHG4NpTMy7E7IR9USUJ+B9O2Urt4ZPo4XBKTo89DzwP7WdB0AsfnMET0ZjAWxNIqshyWcGVr6CH/MDafDMnDj+S0kBznmT5bq2TR+/X0yjDZHmhQlFde3wDY8BzXE+p9UpoWisB1YQPDfewtS7NcaaO3mm5y7Os+0xuQLMJff4bYBn1oD1DKwNOV5VO1ly2D2ayeVhMekxeotISPdzcUBDhJ14SuQF8Us+yIpJmNJUXFJ0bSFTCyn9J58SOoghmlsvB5+u1vNlRVHgAK8pA4ERUp9CdPBTrxwEnIKtltmvU1N78m3+pTMDcCfKcpaaJ1q6wWjabQweV1DoKeMfdKrbCwzlKM1n7Q9d6liHXYdE7KjB+WWQIdEawMq8iMDm0/6to3QkBCHXrEB2mYz8rwRlBRz8ClYP/VhKtrfYlY27DDhOwoabBOPVj2draN8+Vhq+GEddo51klAVNLH24cq9uGo41kLUODcev+smNoj7QKjRQ0btgVSKZpZyToMhJViWw/Wm8MK4KOkIAVDetgAxrAxHPTMk2JaOtG3bRPkhZ8p2gbwqnZnWMsQ9F0546aZVh3j2e9S4cdxsjg3GdqcORUeN2+venchjXPOKzkISZbqZhm3sGsa5TKjba8V2kNxckYnvEys/zAcPRiZKjxw2LkGLqvVzgo1xvd9qHDdZ2D9lABUxk9mp32fXMpgKsBna5o2Z7gole8nzNloD23QRd2dmn4f+Ao+wxHxQcZ5oaRGTOEbwvEUeuqJ4YHFQyrWaa7tfnLBaB6pr8eIsOEt43zG3LWrM7YsyL8URjtUB1syEw1NF3DNCWYXh2YnehWkt0I9lFcZvw720JDyfQtClTPSavWvumgB0ufwFvnOUrhCYbDURBgSIl54I40lR2zAcu8GIGi7p+1oCHVNSueEV7yfAaivUmsUa9UslagS6NxHGgoZfPuwyBDgR8a5B72x4hlLoKFAKzuiic/kGHO2f8dpQqA1ZF246Q4txKRsqpi38oAiMNPOcgwDd/PLUdBhrnRTvPSIOH+U2mordFRFI1Kl+m6t0CVaiLKQ8Gpw5JiosNkxZz9iOk6r4PtjhObGueMlUovKIZpTTTtz0dSAwxhrVWttwQSVWJF65Wg1IPVwp5kVDaSCRUoDGPqqqp29Gyd7gDUiNRha6V0zLpV3XI801UMVay7955Ka/Rw622D4TvLOUOgmYeGdtemZRndyNU6JsONVwtK6tZhq6Z0RBUFlMurhtpl4Oyl1VGrp9c7EV1TkYx8tshxtCjUnOs0tS7sllHrbT2CjTh8tufJGH3gZHaa0gSeYdiBoQ+Qj2dq7jmdN+y0GQZ6ZJGhOfxknPSuDViO4/MoVpWOyXKsfZhSHjbk2Sg32kd3DfeuVoDku/QG/M/Cl6e9D9CT6NIa8F5fGz4A1mU8IAHg+d3wlehIbt/jPYzn1z8Pi/29TAKBQCAQCAQCgUAgEAgEAoFAIBAIBAKBQCAQCAQCgUDAwP8BItJ+4Rr95r8AAAAASUVORK5CYII=\"></center>"
      ]
    },
    {
      "cell_type": "markdown",
      "metadata": {},
      "source": []
    }
  ],
  "metadata": {
    "colab": {
      "provenance": []
    },
    "kernelspec": {
      "display_name": ".venv",
      "language": "python",
      "name": "python3"
    },
    "language_info": {
      "codemirror_mode": {
        "name": "ipython",
        "version": 3
      },
      "file_extension": ".py",
      "mimetype": "text/x-python",
      "name": "python",
      "nbconvert_exporter": "python",
      "pygments_lexer": "ipython3",
      "version": "3.10.10"
    },
    "orig_nbformat": 4,
    "vscode": {
      "interpreter": {
        "hash": "3b693c35aaa3f440c2e2dc6c27786710da90ea3e1d973858722b914326c9afee"
      }
    }
  },
  "nbformat": 4,
  "nbformat_minor": 0
}
