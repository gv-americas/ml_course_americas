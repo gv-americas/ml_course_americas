{
  "cells": [
    {
      "cell_type": "markdown",
      "metadata": {
        "id": "mOjlAadn7FgC"
      },
      "source": [
        "# **Introduction to Python Programming!**\n",
        "\n",
        "\n",
        "## **Course content:**\n",
        "\n",
        "1.   Python basics: sintax, properties, indetation and data types\n",
        "2.   Operations in Python\n",
        "3.   Data structures: lists, tuples and dictionaries\n",
        "4.   Flow control: if...else, while loops, for loops and list comprehension\n",
        "5.   Python functions: returning data as a result\n",
        "6.   Lambda functions: small anonymous function\n",
        "\n",
        "\n",
        "\n",
        "\n",
        "\n",
        "\n",
        "\n",
        "\n",
        "\n",
        "\n"
      ]
    },
    {
      "attachments": {},
      "cell_type": "markdown",
      "metadata": {
        "id": "vlgztaE-EzVu"
      },
      "source": [
        "### **Syntax**\n",
        "Execute python **syntax** in the command line:\n",
        "\n",
        "<details>\n",
        "    <summary>More about syntax</summary>\n",
        "Overall, proper syntax is essential to writing functional and efficient Python code. It's important to follow the guidelines and rules of Python syntax to avoid syntax errors and ensure the readability and maintainability of your code.\n",
        "\n",
        "</details>"
      ]
    },
    {
      "cell_type": "code",
      "execution_count": null,
      "metadata": {
        "colab": {
          "base_uri": "https://localhost:8080/"
        },
        "id": "XN8zLGHb6ExA",
        "outputId": "088e07e7-3fe4-4d03-f7c9-5cd7aeae87a1"
      },
      "outputs": [],
      "source": [
        "print(\"Machine Learning Course\") #The print function is used to output messages to the console or terminal"
      ]
    },
    {
      "attachments": {},
      "cell_type": "markdown",
      "metadata": {
        "id": "nRCAYZB7E-yt"
      },
      "source": [
        "### **Comments** \n",
        "in one line and more than one\n",
        "<details>\n",
        "    <summary>More about comments</summary>\n",
        "Comments are important in programming because they allow you to explain your code in plain language. Adding comments to your code can make it more readable, understandable, and maintainable\n",
        "</details>"
      ]
    },
    {
      "cell_type": "code",
      "execution_count": null,
      "metadata": {
        "colab": {
          "base_uri": "https://localhost:8080/"
        },
        "id": "J3neYoRICs9I",
        "outputId": "ad8b8a6d-587f-4163-e97f-05b053af0f3c"
      },
      "outputs": [],
      "source": [
        "#this is a comment\n",
        "print(\"Hello world!\")"
      ]
    },
    {
      "cell_type": "code",
      "execution_count": null,
      "metadata": {
        "colab": {
          "base_uri": "https://localhost:8080/"
        },
        "id": "Y9kyGAxODEiA",
        "outputId": "a3ecbc12-cc75-4d6c-ae48-6017dcdb166c"
      },
      "outputs": [],
      "source": [
        "\"\"\"\n",
        "This is a comment\n",
        "written in\n",
        "more than just one line\n",
        "\"\"\"\n",
        "print('Go ahead: python basics!')"
      ]
    },
    {
      "attachments": {},
      "cell_type": "markdown",
      "metadata": {
        "id": "nwb1laFrFK1C"
      },
      "source": [
        "### **Indentation:** \n",
        "Python uses indentation to run different blocks of code/command lines\n",
        "\n",
        "Refers to the **spaces at the beginning of a code line**!\n",
        "<details>\n",
        "    <summary>More about identation</summary>\n",
        "In Python, indentation refers to the whitespace at the beginning of a line of code that is used to indicate the block of code that the line belongs to. In Python, indentation is not optional, but rather required by the language syntax.\n",
        "\n",
        "The most common use of indentation in Python is to define code blocks, such as loops, conditionals, and functions. Code blocks in Python are defined by their indentation level, and all the lines of code that belong to the same block must be indented at the same level. \n",
        "    \n",
        "\n",
        "</details>"
      ]
    },
    {
      "cell_type": "code",
      "execution_count": null,
      "metadata": {
        "colab": {
          "base_uri": "https://localhost:8080/"
        },
        "id": "Qt84IOePDLHL",
        "outputId": "2d0acd9c-6baf-4d2b-a678-8b4b2d859912"
      },
      "outputs": [],
      "source": [
        "if 2 > 1:\n",
        "  print('Python indetation')"
      ]
    },
    {
      "attachments": {},
      "cell_type": "markdown",
      "metadata": {
        "id": "lQMmbdE3FqDZ"
      },
      "source": [
        "## **Creating variables**: \n",
        "A variable is created at the moment you assign a value to it using just one equal!\n"
      ]
    },
    {
      "cell_type": "code",
      "execution_count": null,
      "metadata": {
        "colab": {
          "base_uri": "https://localhost:8080/"
        },
        "id": "ymBMwIN7DgfU",
        "outputId": "8dcc9310-3a70-4a1d-d252-8eb636e755c6"
      },
      "outputs": [],
      "source": [
        "x = 10\n",
        "\n",
        "y = \"Pedro\"\n",
        "\n",
        "print(x)\n",
        "\n",
        "print(y)"
      ]
    },
    {
      "cell_type": "markdown",
      "metadata": {
        "id": "9Qb5tXI1Gef8"
      },
      "source": [
        "You can also assingn **many values** to **multiple variables** and **output** these multiple values:"
      ]
    },
    {
      "cell_type": "code",
      "execution_count": null,
      "metadata": {
        "colab": {
          "base_uri": "https://localhost:8080/"
        },
        "id": "F0etUiggGcXj",
        "outputId": "0f9d2d92-cebd-4d83-e7e1-7a42ca0fb674"
      },
      "outputs": [],
      "source": [
        "x, y, z = 10, 5.2, 'Pedro'\n",
        "\n",
        "print(x, y, z)"
      ]
    },
    {
      "attachments": {},
      "cell_type": "markdown",
      "metadata": {
        "id": "BJdq90xzGbPC"
      },
      "source": [
        "### **Data Types**:\n",
        "\n",
        "**Numeric values:** integers (int), floating numbers (float)\n",
        "\n",
        "**Boolean values:** True or False (bool)\n",
        "\n",
        "**Text values:** strings (str)\n"
      ]
    },
    {
      "cell_type": "code",
      "execution_count": null,
      "metadata": {
        "colab": {
          "base_uri": "https://localhost:8080/"
        },
        "id": "nQiaFmKUDumT",
        "outputId": "151d6de5-ea2f-444b-93df-98f0f1d90594"
      },
      "outputs": [],
      "source": [
        "x = 10\n",
        "y = 5.2\n",
        "z = 'string'\n",
        "\n",
        "print(type(x), type(y), type(z))"
      ]
    },
    {
      "cell_type": "code",
      "execution_count": null,
      "metadata": {
        "colab": {
          "base_uri": "https://localhost:8080/"
        },
        "id": "gu7NE9ppEC5j",
        "outputId": "0b993659-d693-4741-ce14-cd14e2616215"
      },
      "outputs": [],
      "source": [
        "x = int(10)\n",
        "y = float(5.2)\n",
        "z = str(3)\n",
        "\n",
        "print(type(x), type(y), type(z))"
      ]
    },
    {
      "cell_type": "code",
      "execution_count": null,
      "metadata": {
        "colab": {
          "base_uri": "https://localhost:8080/"
        },
        "id": "T-jfVloCEQtM",
        "outputId": "9fbd42c9-0792-4b1f-ba05-7173da1ffd1a"
      },
      "outputs": [],
      "source": [
        "booleano = True\n"
      ]
    },
    {
      "cell_type": "code",
      "execution_count": null,
      "metadata": {
        "colab": {
          "base_uri": "https://localhost:8080/"
        },
        "id": "QSe34DEuXXlv",
        "outputId": "d665df40-7ecc-4a2f-e8d6-c6484dd71367"
      },
      "outputs": [],
      "source": [
        "2 == 2"
      ]
    },
    {
      "cell_type": "code",
      "execution_count": null,
      "metadata": {
        "colab": {
          "base_uri": "https://localhost:8080/"
        },
        "id": "HW2HQ-31XZlI",
        "outputId": "4fe26637-1ed5-4187-a6bf-039f132067d8"
      },
      "outputs": [],
      "source": [
        "2 != 3"
      ]
    },
    {
      "cell_type": "code",
      "execution_count": null,
      "metadata": {
        "colab": {
          "base_uri": "https://localhost:8080/"
        },
        "id": "LxbjJXRnXfHq",
        "outputId": "137c03d4-bd58-42e6-ed25-9cf1d43b9f49"
      },
      "outputs": [],
      "source": [
        "2 != 3 and 2 > 3"
      ]
    },
    {
      "attachments": {},
      "cell_type": "markdown",
      "metadata": {
        "id": "7AXqSpA7z5AZ"
      },
      "source": [
        "# **Pratice 1**\n",
        "\n",
        "<details>\n",
        "    <summary><strong><u>Syntax and Variables</u></strong></summary>\n",
        "1) Write a program that prints a sentence or word written by you;\n",
        "\n",
        "<details>\n",
        "    <summary>&#128161;</summary>\n",
        "  \n",
        "    word = ...\n",
        "  \n",
        "    print(...)\n",
        "  \n",
        "</details>\n",
        "\n",
        "2) Create three variables (one with an integer number, another floating number and the last one with a string) and print the values;\n",
        "\n",
        "<details>\n",
        "    <summary>&#128161;</summary>\n",
        "  \n",
        "  \n",
        "    v1 = ...\n",
        "\n",
        "    v2 = ...\n",
        "\n",
        "    v3 = ...\n",
        "  \n",
        "    print...\n",
        "</details>\n",
        "\n",
        "3) Confirm if the variable types created in the previous exercise are correct.\n",
        "\n",
        "\n",
        "<details>\n",
        "    <summary>&#128161;</summary>\n",
        "  \n",
        "  \n",
        "    v1... \"int\"\n",
        "\n",
        "    v2... \"float\"\n",
        "\n",
        "    v3... \"str\"\n",
        "\n",
        "    \"type\"\n",
        "</details>"
      ]
    },
    {
      "attachments": {},
      "cell_type": "markdown",
      "metadata": {
        "id": "f8o6qrTGIOfd"
      },
      "source": [
        "### **Basic operations**: \n",
        "python can simple perform operations on variables and values\n"
      ]
    },
    {
      "cell_type": "code",
      "execution_count": null,
      "metadata": {
        "colab": {
          "base_uri": "https://localhost:8080/"
        },
        "id": "018hAkISErdM",
        "outputId": "3ca7e5ec-f67d-47e9-f8d6-06596a5d7399"
      },
      "outputs": [],
      "source": [
        "2 + 2"
      ]
    },
    {
      "cell_type": "code",
      "execution_count": null,
      "metadata": {
        "colab": {
          "base_uri": "https://localhost:8080/"
        },
        "id": "mujazedqIjsl",
        "outputId": "db9bb848-d99a-436e-b971-527750e4d60a"
      },
      "outputs": [],
      "source": [
        "2.0 + 2"
      ]
    },
    {
      "cell_type": "code",
      "execution_count": null,
      "metadata": {
        "colab": {
          "base_uri": "https://localhost:8080/"
        },
        "id": "_bLOc9ixIkzs",
        "outputId": "9ac053c0-a762-42fe-dbfc-579214218c00"
      },
      "outputs": [],
      "source": [
        "2 * 5"
      ]
    },
    {
      "cell_type": "code",
      "execution_count": null,
      "metadata": {
        "colab": {
          "base_uri": "https://localhost:8080/"
        },
        "id": "nnLZLiibIlrs",
        "outputId": "f488e0ee-3f7a-430d-bd07-d3a482b543b5"
      },
      "outputs": [],
      "source": [
        "2 * (10 + 2)"
      ]
    },
    {
      "cell_type": "code",
      "execution_count": null,
      "metadata": {
        "colab": {
          "base_uri": "https://localhost:8080/"
        },
        "id": "6R5ne6tmIpd1",
        "outputId": "63dcbdc0-6567-41ed-e8bf-7c148c4566e8"
      },
      "outputs": [],
      "source": [
        "8/2"
      ]
    },
    {
      "cell_type": "code",
      "execution_count": null,
      "metadata": {
        "colab": {
          "base_uri": "https://localhost:8080/"
        },
        "id": "u5J7QqqLIrde",
        "outputId": "e2e79d5b-1233-41d9-c701-f84be9d105df"
      },
      "outputs": [],
      "source": [
        "8//2"
      ]
    },
    {
      "cell_type": "code",
      "execution_count": null,
      "metadata": {
        "colab": {
          "base_uri": "https://localhost:8080/"
        },
        "id": "aqsRwz2QIuBd",
        "outputId": "02b7134f-62e6-45a6-d642-f1eb06938d41"
      },
      "outputs": [],
      "source": [
        "19 % 3"
      ]
    },
    {
      "cell_type": "code",
      "execution_count": null,
      "metadata": {
        "colab": {
          "base_uri": "https://localhost:8080/"
        },
        "id": "MFGyyTTlI0ok",
        "outputId": "fcbcd56b-baac-4511-8335-55a8961c0eb5"
      },
      "outputs": [],
      "source": [
        "100 ** 2"
      ]
    },
    {
      "cell_type": "code",
      "execution_count": null,
      "metadata": {
        "id": "5p7eeqLnI6HU"
      },
      "outputs": [],
      "source": [
        "width = 10\n",
        "length = 20\n",
        "height = 15"
      ]
    },
    {
      "cell_type": "code",
      "execution_count": null,
      "metadata": {
        "colab": {
          "base_uri": "https://localhost:8080/"
        },
        "id": "zBMO69X0JTDV",
        "outputId": "2101219c-6878-454b-ab0f-c17c92af966a"
      },
      "outputs": [],
      "source": [
        "cube_volume = width*length*height\n",
        "\n",
        "print(cube_volume)"
      ]
    },
    {
      "attachments": {},
      "cell_type": "markdown",
      "metadata": {
        "id": "B7ctlTcq0zQt"
      },
      "source": [
        "# **Pratice 2**\n",
        "<details>\n",
        "    <summary><strong><u>Basic operations</u></strong></summary>\n",
        "\n",
        "1) Write a program that **adds** two numbers.\n",
        "\n",
        "<details>\n",
        "    <summary>&#128161;</summary>\n",
        "  \n",
        "  \n",
        "    v1 =...\n",
        "\n",
        "    v2 =...\n",
        "\n",
        "    print v1+v2\n",
        "  \n",
        "</details>\n",
        "\n",
        "2) Write a program that **subtracts** two numbers:\n",
        "\n",
        "<details>\n",
        "    <summary>&#128161;</summary>\n",
        "  \n",
        "  \n",
        "    v1 =...\n",
        "\n",
        "    v2 =...\n",
        "\n",
        "    print v1 -v2\n",
        "  \n",
        "</details>\n",
        "\n",
        "3) Write a program that **multiplies** two numbers:\n",
        "\n",
        "<details>\n",
        "    <summary>&#128161;</summary>\n",
        "  \n",
        "    v1 =...\n",
        "\n",
        "    v2 =...\n",
        "\n",
        "    print v1*v2\n",
        "  \n",
        "</details>\n",
        "\n",
        "4) Write a program that **divides** two numbers\n",
        "\n",
        "<details>\n",
        "    <summary>&#128161;</summary>\n",
        " \n",
        "  \n",
        "    v1 =...\n",
        "\n",
        "    v2 =...\n",
        "\n",
        "    print v1/v2\n",
        "  \n",
        "</details>\n",
        "\n",
        "5) Write a program that uses **parentheses** to ensure the correct order of operations\n",
        "\n",
        "<details>\n",
        "    <summary>&#128161;</summary>\n",
        "    \n",
        "    v1 = 10\n",
        "    v2 = 5\n",
        "    v3 = 2\n",
        "    v4 = v1+v2 * v3\n",
        "    print(v4)\n",
        "\n",
        "</details>"
      ]
    },
    {
      "attachments": {},
      "cell_type": "markdown",
      "metadata": {
        "id": "tP3NQgEW1Dsn"
      },
      "source": [
        "### **String Manipulation**\n",
        "\n",
        "<details>\n",
        "    <summary><strong><u>More about string manipilation</u></strong></summary>\n",
        "String manipulation refers to the process of manipulating and modifying strings in Python. Strings are one of the most commonly used data types in Python, and they represent a sequence of characters enclosed within single or double quotation marks.\n",
        "</details>"
      ]
    },
    {
      "cell_type": "code",
      "execution_count": null,
      "metadata": {
        "colab": {
          "base_uri": "https://localhost:8080/",
          "height": 36
        },
        "id": "n1KNrcpZXqcj",
        "outputId": "c88eaf4e-397d-49d1-ea59-94f08c3c8c23"
      },
      "outputs": [],
      "source": [
        "'machine learning'"
      ]
    },
    {
      "cell_type": "code",
      "execution_count": null,
      "metadata": {
        "colab": {
          "base_uri": "https://localhost:8080/",
          "height": 36
        },
        "id": "wjUEfF9tXtvr",
        "outputId": "067147ca-7ed2-4e77-8ffd-d184a21ec36f"
      },
      "outputs": [],
      "source": [
        "'machine' + 'learning'"
      ]
    },
    {
      "cell_type": "code",
      "execution_count": null,
      "metadata": {
        "colab": {
          "base_uri": "https://localhost:8080/",
          "height": 36
        },
        "id": "bPmOGdoaXv_O",
        "outputId": "2d1ad4d2-f28b-4a4b-da6d-2eec08b1c619"
      },
      "outputs": [],
      "source": [
        "'machine' + ' ' + 'learning'"
      ]
    },
    {
      "cell_type": "code",
      "execution_count": null,
      "metadata": {
        "colab": {
          "base_uri": "https://localhost:8080/",
          "height": 36
        },
        "id": "Ty372jVuXzdO",
        "outputId": "939fc9c6-d165-4f2e-87e6-1c45657166bc"
      },
      "outputs": [],
      "source": [
        "ml = 'machine learning'\n",
        "\n",
        "ml[0]"
      ]
    },
    {
      "cell_type": "code",
      "execution_count": null,
      "metadata": {
        "colab": {
          "base_uri": "https://localhost:8080/",
          "height": 36
        },
        "id": "5YIDOmArX-J-",
        "outputId": "c3ed3449-2d8f-49d5-86c8-ebac4377c4b8"
      },
      "outputs": [],
      "source": [
        "ml[-1]"
      ]
    },
    {
      "cell_type": "code",
      "execution_count": null,
      "metadata": {
        "colab": {
          "base_uri": "https://localhost:8080/",
          "height": 36
        },
        "id": "tg4Y5DrrX_0G",
        "outputId": "fdf05dab-85fc-4028-c73d-2634c0f4a937"
      },
      "outputs": [],
      "source": [
        "ml[0:7]"
      ]
    },
    {
      "cell_type": "code",
      "execution_count": null,
      "metadata": {
        "colab": {
          "base_uri": "https://localhost:8080/",
          "height": 36
        },
        "id": "eSQjLOIcYGzm",
        "outputId": "7ad82139-d5d5-44f2-88a5-7e2c88a69531"
      },
      "outputs": [],
      "source": [
        "ml[:-9]"
      ]
    },
    {
      "cell_type": "code",
      "execution_count": null,
      "metadata": {
        "colab": {
          "base_uri": "https://localhost:8080/"
        },
        "id": "SM0B1c4fYOuu",
        "outputId": "46898c24-468a-4417-e500-105424757f15"
      },
      "outputs": [],
      "source": [
        "string = 'learning'\n",
        "\n",
        "print(f'machine {string}')"
      ]
    },
    {
      "cell_type": "code",
      "execution_count": null,
      "metadata": {
        "colab": {
          "base_uri": "https://localhost:8080/"
        },
        "id": "Q_-uioWAYtvt",
        "outputId": "7fcae3e7-2a3b-49f6-bffa-ceab0c5b209a"
      },
      "outputs": [],
      "source": [
        "print('machine {}'.format(string))"
      ]
    },
    {
      "cell_type": "code",
      "execution_count": null,
      "metadata": {
        "colab": {
          "base_uri": "https://localhost:8080/",
          "height": 36
        },
        "id": "LVrG7LVOYfMu",
        "outputId": "7fca8d68-f6f5-480a-f404-d56a20f339df"
      },
      "outputs": [],
      "source": [
        "string.upper()"
      ]
    },
    {
      "cell_type": "code",
      "execution_count": null,
      "metadata": {
        "colab": {
          "base_uri": "https://localhost:8080/",
          "height": 36
        },
        "id": "PMLHmk1GYqS-",
        "outputId": "83a06458-a859-4179-b6d7-bc84e2609e8a"
      },
      "outputs": [],
      "source": [
        "string.lower()"
      ]
    },
    {
      "attachments": {},
      "cell_type": "markdown",
      "metadata": {
        "id": "m0YCbDtG1H4j"
      },
      "source": [
        "# **Practice 3**\n",
        "<details>\n",
        "    <summary>Strings manipulation</summary>\n",
        "\n",
        "1) Write a program that prints your name and a welcome message.\n",
        "\n",
        "<details>\n",
        "    <summary>&#128161;</summary>\n",
        "  \n",
        "    name =...\n",
        "\n",
        "    print hello... welcome...\n",
        "\n",
        "</details>\n",
        "\n",
        "3) Write a program that prints the length of a string.\n",
        "\n",
        "<details>\n",
        "    <summary>&#128161;</summary>\n",
        " \n",
        "  \n",
        "    string =...\n",
        "\n",
        "    len(...)\n",
        "  \n",
        "</details>\n",
        "\n",
        "4) Write a program that prints the first character of a given string.\n",
        "\n",
        "<details>\n",
        "    <summary>&#128161;</summary>\n",
        "  \n",
        "  \n",
        "    string = ...\n",
        "\n",
        "    print(string[...])\n",
        "  \n",
        "</details>\n",
        "\n",
        "5) Write a program that converts a given string to uppercase.\n",
        "\n",
        "<details>\n",
        "    <summary>&#128161;</summary>\n",
        "  \n",
        "    string = ...\n",
        "\n",
        "    ...upper()\n",
        "\n",
        "  \n",
        "</details>\n",
        "\n",
        "6) Write a program that converts a given string to lowercase.\n",
        "\n",
        "<details>\n",
        "    <summary>&#128161;</summary>\n",
        "  \n",
        "  \n",
        "    string = ...\n",
        "\n",
        "    ...lower()\n",
        "  \n",
        "</details>"
      ]
    },
    {
      "attachments": {},
      "cell_type": "markdown",
      "metadata": {
        "id": "R4KHtxweY3ji"
      },
      "source": [
        "### **Data structures:**\n",
        "\n",
        "<details>\n",
        "<summary><strong>List:</summary></strong> store multiple items in a single variable **Ordered, changeable and allow duplicate values!**\n",
        "</details>\n",
        "<details>\n",
        "<summary><strong>Tuple:</summary></strong>store multiple items in a single variable. **Ordered and unchangeable and allow duplicate values!**\n",
        "</details>\n",
        "<details>\n",
        "<summary><strong>Dictionary:</summary></strong> store **data values in keys**, it means, **value pairs**! As of Python version 3.7, dictionaries are **oredered**. Also are changeable but no allow duplicate values!\n",
        "</details>"
      ]
    },
    {
      "cell_type": "code",
      "execution_count": null,
      "metadata": {
        "id": "xWaXSWekZTD8"
      },
      "outputs": [],
      "source": [
        "numbers_list = [1,2,3,4,5]\n",
        "\n",
        "str_list = ['hello', 'world']\n",
        "\n",
        "items_list = ['machine', 4, 'learning', 10, True]\n",
        "\n",
        "lists_list = [[1,2,3], [6,8,10]]"
      ]
    },
    {
      "cell_type": "code",
      "execution_count": null,
      "metadata": {
        "colab": {
          "base_uri": "https://localhost:8080/"
        },
        "id": "oZ4u-kE8akOu",
        "outputId": "2df925f1-7ee0-48b8-dec6-cf54da9eea22"
      },
      "outputs": [],
      "source": [
        "numbers_list[0]"
      ]
    },
    {
      "cell_type": "code",
      "execution_count": null,
      "metadata": {
        "colab": {
          "base_uri": "https://localhost:8080/"
        },
        "id": "29akDu5Qa2nK",
        "outputId": "dc61c689-2738-460f-9827-fe88a8d8fc41"
      },
      "outputs": [],
      "source": [
        "lists_list[0][0]"
      ]
    },
    {
      "cell_type": "code",
      "execution_count": null,
      "metadata": {
        "colab": {
          "base_uri": "https://localhost:8080/"
        },
        "id": "eHvwwhLga52Y",
        "outputId": "971090bb-561f-4ef8-dbcf-86d76cb68045"
      },
      "outputs": [],
      "source": [
        "4 in numbers_list"
      ]
    },
    {
      "cell_type": "code",
      "execution_count": null,
      "metadata": {
        "colab": {
          "base_uri": "https://localhost:8080/"
        },
        "id": "5KHXITAIbN-x",
        "outputId": "074fdb23-bf7c-4cf7-95d3-43c3caa7d539"
      },
      "outputs": [],
      "source": [
        "10 not in numbers_list"
      ]
    },
    {
      "cell_type": "code",
      "execution_count": null,
      "metadata": {
        "colab": {
          "base_uri": "https://localhost:8080/"
        },
        "id": "CE-xSTozb6JO",
        "outputId": "c8c979ea-25bc-4923-b1c6-f2b82788e636"
      },
      "outputs": [],
      "source": [
        "numbers_list.pop(3)\n",
        "\n",
        "numbers_list\n"
      ]
    },
    {
      "cell_type": "code",
      "execution_count": null,
      "metadata": {
        "colab": {
          "base_uri": "https://localhost:8080/"
        },
        "id": "fqchMv5qb_dQ",
        "outputId": "595e7baa-63ee-4696-ca98-e55325b2b5cc"
      },
      "outputs": [],
      "source": [
        "numbers_list.append(4)\n",
        "\n",
        "numbers_list"
      ]
    },
    {
      "cell_type": "code",
      "execution_count": null,
      "metadata": {
        "colab": {
          "base_uri": "https://localhost:8080/"
        },
        "id": "xD4D49cCcQOp",
        "outputId": "1dade967-d4da-4772-f8a9-84aeba3310a1"
      },
      "outputs": [],
      "source": [
        "numbers_list.sort()\n",
        "\n",
        "numbers_list"
      ]
    },
    {
      "cell_type": "code",
      "execution_count": null,
      "metadata": {
        "id": "EghRcwMrciga"
      },
      "outputs": [],
      "source": [
        "t = (1, 2, 4, 5)"
      ]
    },
    {
      "cell_type": "code",
      "execution_count": null,
      "metadata": {
        "colab": {
          "base_uri": "https://localhost:8080/"
        },
        "id": "gqh52C3ecyDi",
        "outputId": "630a8ddc-b1c3-4ac9-8cd7-6273fd2f4ffa"
      },
      "outputs": [],
      "source": [
        "t[0]"
      ]
    },
    {
      "cell_type": "code",
      "execution_count": null,
      "metadata": {
        "colab": {
          "base_uri": "https://localhost:8080/"
        },
        "id": "7M4m5fficzKi",
        "outputId": "d59b1216-880f-43b4-b270-455092864c74"
      },
      "outputs": [],
      "source": [
        "2 in t"
      ]
    },
    {
      "cell_type": "code",
      "execution_count": null,
      "metadata": {
        "colab": {
          "base_uri": "https://localhost:8080/"
        },
        "id": "h-T8opqrc2wj",
        "outputId": "28c95c11-930f-412d-9c44-2a6d67c43f12"
      },
      "outputs": [],
      "source": [
        "len(t)"
      ]
    },
    {
      "cell_type": "code",
      "execution_count": null,
      "metadata": {
        "id": "RCSB2FE5c_Hc"
      },
      "outputs": [],
      "source": [
        "geology = {\n",
        "    'rocktype': 'itabirito',\n",
        "    'color': 'grey',\n",
        "    'fe_gl':58,\n",
        "    'sio2':10\n",
        "        }"
      ]
    },
    {
      "cell_type": "code",
      "execution_count": null,
      "metadata": {
        "colab": {
          "base_uri": "https://localhost:8080/",
          "height": 36
        },
        "id": "LfQ0pCGOdalu",
        "outputId": "e8357687-fde2-4ad8-f698-a8b9ec898a86"
      },
      "outputs": [],
      "source": [
        "geology['rocktype']"
      ]
    },
    {
      "cell_type": "code",
      "execution_count": null,
      "metadata": {
        "colab": {
          "base_uri": "https://localhost:8080/"
        },
        "id": "i_KsmXmcdull",
        "outputId": "3f8e0b9a-b746-48ce-b339-2acabbc505cc"
      },
      "outputs": [],
      "source": [
        "geology['fe_gl']"
      ]
    },
    {
      "cell_type": "code",
      "execution_count": null,
      "metadata": {
        "id": "Vxc_a9sxdwWd"
      },
      "outputs": [],
      "source": [
        "geology['min_esteril'] = 'minerio'"
      ]
    },
    {
      "cell_type": "code",
      "execution_count": null,
      "metadata": {
        "colab": {
          "base_uri": "https://localhost:8080/"
        },
        "id": "1qHnP5fld1Sv",
        "outputId": "1db1b5da-430f-4b5f-ee47-276f7b930953"
      },
      "outputs": [],
      "source": [
        "geology"
      ]
    },
    {
      "cell_type": "code",
      "execution_count": null,
      "metadata": {
        "colab": {
          "base_uri": "https://localhost:8080/"
        },
        "id": "z3Q4i3Bvd25F",
        "outputId": "3df4c302-987c-41c0-f952-069dc9cd6702"
      },
      "outputs": [],
      "source": [
        "geology.keys()"
      ]
    },
    {
      "cell_type": "code",
      "execution_count": null,
      "metadata": {
        "colab": {
          "base_uri": "https://localhost:8080/"
        },
        "id": "ZliRDc33d8OO",
        "outputId": "81c8769f-40c6-49d9-f4c8-79cfd40d773b"
      },
      "outputs": [],
      "source": [
        "geology.values()"
      ]
    },
    {
      "cell_type": "code",
      "execution_count": null,
      "metadata": {
        "colab": {
          "base_uri": "https://localhost:8080/"
        },
        "id": "QSlJ-18vd_lU",
        "outputId": "f28236e8-0ee8-440c-ff10-af982af66e2e"
      },
      "outputs": [],
      "source": [
        "geology.items()"
      ]
    },
    {
      "attachments": {},
      "cell_type": "markdown",
      "metadata": {
        "id": "p9dQ7-EC1jrN"
      },
      "source": [
        "# **Practice 4**\n",
        "<details>\n",
        "    <summary>Data structure</summary> \n",
        "\n",
        "1) Create a list with **5 numbers** and print them:\n",
        "\n",
        "<details>\n",
        "    <summary>>&#128161;</summary>\n",
        "  \n",
        "    list = [...]\n",
        "\n",
        "    print()\n",
        "  \n",
        "</details>\n",
        "\n",
        "2) Create a **tuple** of strings and print them:\n",
        "\n",
        "<details>\n",
        "    <summary>&#128161;</summary>\n",
        "  \n",
        "    tuple = ()\n",
        "    \n",
        "    print...\n",
        "    \n",
        "</details>\n",
        "\n",
        "3) Create a **set** of numbers and print them:\n",
        "\n",
        "<details>\n",
        "    <summary>&#128161;</summary>\n",
        "  \n",
        "    num_set = { }\n",
        "\n",
        "\n",
        "    print(...)\n",
        "\n",
        "  \n",
        "</details>\n",
        "\n",
        "4) Create a **dictionary** with keys and values and print them:\n",
        "\n",
        "<details>\n",
        "    <summary>&#128161;</summary>\n",
        "  \n",
        "    dict = {\"key1\": 3, \"key2\": 6...}\n",
        "\n",
        "    print...\n",
        "  \n",
        "</details>\n",
        "\n",
        "5) Add an element to a list:\n",
        "\n",
        "<details>\n",
        "    <summary>&#128161;</summary>\n",
        "  \n",
        "    list = [...]\n",
        "\n",
        "    list.ap...(..)\n",
        "\n",
        "    print(list)\n",
        "  \n",
        "</details>\n",
        "\n",
        "5) Remove an element from a list:\n",
        "\n",
        "<details>\n",
        "    <summary>&#128161;</summary>\n",
        "  \n",
        "    list = [...]\n",
        "\n",
        "    list.pop...(..)\n",
        "\n",
        "    print(list)\n",
        "  \n",
        "</details>\n",
        "\n",
        "6) Sort list elements in ascending order:\n",
        "\n",
        "<details>\n",
        "    <summary>&#128161;</summary>\n",
        "  \n",
        "    list = [10, 8, 20, 32, 11, 29]\n",
        "\n",
        "    list.sort()\n",
        "\n",
        "    print(...)\n",
        "  \n",
        "</details>"
      ]
    },
    {
      "cell_type": "markdown",
      "metadata": {
        "id": "Ek1-iL_S1mJ7"
      },
      "source": [
        "#1)"
      ]
    },
    {
      "cell_type": "code",
      "execution_count": null,
      "metadata": {
        "id": "Ire0xfTu1lKi"
      },
      "outputs": [],
      "source": []
    },
    {
      "cell_type": "markdown",
      "metadata": {
        "id": "ncx3Dx011nle"
      },
      "source": [
        "#2)"
      ]
    },
    {
      "cell_type": "code",
      "execution_count": null,
      "metadata": {
        "id": "0K4DDVo01lRZ"
      },
      "outputs": [],
      "source": []
    },
    {
      "cell_type": "markdown",
      "metadata": {
        "id": "Dz47TTjC1obh"
      },
      "source": [
        "#3)"
      ]
    },
    {
      "cell_type": "code",
      "execution_count": null,
      "metadata": {
        "id": "9V5ifJ3-1lYR"
      },
      "outputs": [],
      "source": []
    },
    {
      "cell_type": "markdown",
      "metadata": {
        "id": "OTcLtRQ21pNK"
      },
      "source": [
        "#4)"
      ]
    },
    {
      "cell_type": "code",
      "execution_count": null,
      "metadata": {
        "id": "T-oou1Ri1lg7"
      },
      "outputs": [],
      "source": []
    },
    {
      "cell_type": "markdown",
      "metadata": {
        "id": "7EJnu1Bx1q8r"
      },
      "source": [
        "#5)"
      ]
    },
    {
      "cell_type": "code",
      "execution_count": null,
      "metadata": {
        "id": "XvD1AyVf1loI"
      },
      "outputs": [],
      "source": []
    },
    {
      "cell_type": "markdown",
      "metadata": {
        "id": "Vxs6TfAs1sBJ"
      },
      "source": [
        "#6)"
      ]
    },
    {
      "cell_type": "code",
      "execution_count": null,
      "metadata": {
        "id": "jWS-lR4g1lxp"
      },
      "outputs": [],
      "source": []
    },
    {
      "attachments": {},
      "cell_type": "markdown",
      "metadata": {
        "id": "eyzvIVJteOoY"
      },
      "source": [
        "### **Flow control in python:**\n",
        "  \n",
        "\n",
        "<details>\n",
        "<summary><strong><u>If...Else: </u></strong> </summary>Execute a set of commands if given a logical condition(mathematics conditions, booleans)\n",
        "</details>\n",
        "\n",
        "<details>\n",
        "<summary><strong><u>While: </u></strong></summary>Execute a set of commands as long as a condition is true.\n",
        "</details>\n",
        "    \n",
        "<details>\n",
        "<summary><strong><u>For: </u></strong></summary>Iterate over a sequence or a data strucuture (list, tuple, dictionary, ...)\n",
        "</details>\n",
        "    \n",
        "</details>\n",
        "\n"
      ]
    },
    {
      "cell_type": "code",
      "execution_count": null,
      "metadata": {
        "colab": {
          "base_uri": "https://localhost:8080/"
        },
        "id": "togXBPDSe_3n",
        "outputId": "6e259de6-338c-4c22-c7ed-7f3a7f94cdbd"
      },
      "outputs": [],
      "source": [
        "booleano = True\n",
        "\n",
        "if booleano:\n",
        "  print(\"Se a condição a verdadeira o comando será executado!\")"
      ]
    },
    {
      "cell_type": "code",
      "execution_count": null,
      "metadata": {
        "colab": {
          "base_uri": "https://localhost:8080/"
        },
        "id": "PYgPydGBgCli",
        "outputId": "de8d73e8-8597-4a74-9e55-b1c64e1bca20"
      },
      "outputs": [],
      "source": [
        "x = 10\n",
        "\n",
        "if x > 0:\n",
        "    print('número positivo')\n",
        "else:\n",
        "    print('número negativo')"
      ]
    },
    {
      "cell_type": "code",
      "execution_count": null,
      "metadata": {
        "colab": {
          "base_uri": "https://localhost:8080/"
        },
        "id": "XbPNFGALgvMU",
        "outputId": "817728cc-a324-4d99-b37b-69f054b2e9fc"
      },
      "outputs": [],
      "source": [
        "a = 1\n",
        "\n",
        "while a < 5:\n",
        "  print('Executando..')\n",
        "  a += 1"
      ]
    },
    {
      "cell_type": "code",
      "execution_count": null,
      "metadata": {
        "colab": {
          "base_uri": "https://localhost:8080/"
        },
        "id": "lzy85WdTk4Xx",
        "outputId": "a3e20dc5-0a12-4116-bd57-57fc9b7c55e8"
      },
      "outputs": [],
      "source": [
        "for i in range(10):\n",
        "  print(i)"
      ]
    },
    {
      "cell_type": "code",
      "execution_count": null,
      "metadata": {
        "colab": {
          "base_uri": "https://localhost:8080/"
        },
        "id": "zxCYhhtIlQ2Y",
        "outputId": "2600563c-e6b3-45eb-8177-c8252b7729b4"
      },
      "outputs": [],
      "source": [
        "a = 1\n",
        "for i in range(6):\n",
        "    a = a + 1\n",
        "    print(a)"
      ]
    },
    {
      "cell_type": "code",
      "execution_count": null,
      "metadata": {
        "colab": {
          "base_uri": "https://localhost:8080/"
        },
        "id": "c90MuUsplcUB",
        "outputId": "d790efbb-1ede-4521-83b5-d05423336233"
      },
      "outputs": [],
      "source": [
        "counter = 0\n",
        "while counter < 5:\n",
        "    print('Executando...')\n",
        "    counter = counter + 1\n",
        "    print(counter)\n",
        "print('Fim!')"
      ]
    },
    {
      "cell_type": "code",
      "execution_count": null,
      "metadata": {
        "colab": {
          "base_uri": "https://localhost:8080/"
        },
        "id": "zfAdPIUlirjp",
        "outputId": "40826129-1d88-4713-afac-a2b415172bac"
      },
      "outputs": [],
      "source": [
        "for i in numbers_list:\n",
        "  print(i)"
      ]
    },
    {
      "cell_type": "code",
      "execution_count": null,
      "metadata": {
        "id": "nlQI39cbiiTe"
      },
      "outputs": [],
      "source": [
        "dicionario = {\n",
        "    'chave1':1,\n",
        "    'chave2':2,\n",
        "}"
      ]
    },
    {
      "cell_type": "code",
      "execution_count": null,
      "metadata": {
        "colab": {
          "base_uri": "https://localhost:8080/"
        },
        "id": "H3MLMhLtiq-n",
        "outputId": "77799a86-15ff-4028-86c6-c7173b764c2b"
      },
      "outputs": [],
      "source": [
        "for k in dicionario:\n",
        "    print(k)"
      ]
    },
    {
      "cell_type": "code",
      "execution_count": null,
      "metadata": {
        "colab": {
          "base_uri": "https://localhost:8080/"
        },
        "id": "4oJ5y1ltiw3e",
        "outputId": "3154dbba-3325-4aa3-ccba-637dcdc1ed67"
      },
      "outputs": [],
      "source": [
        "for i in (1, 10, 20, 45, 67, 76, 78, 90):\n",
        "    if i % 5 == 0:\n",
        "        print(i)"
      ]
    },
    {
      "cell_type": "code",
      "execution_count": null,
      "metadata": {
        "colab": {
          "base_uri": "https://localhost:8080/"
        },
        "id": "Zbaz5kuCqIr7",
        "outputId": "ad3a5137-d547-42bc-c93e-a3d68465e57a"
      },
      "outputs": [],
      "source": [
        "l = []\n",
        "for i in range(5):\n",
        "    l.append(i)\n",
        "print(l)"
      ]
    },
    {
      "cell_type": "code",
      "execution_count": null,
      "metadata": {
        "colab": {
          "base_uri": "https://localhost:8080/"
        },
        "id": "ojjsbjuHqJNp",
        "outputId": "6afa83c4-317c-496e-e661-3323657d88b3"
      },
      "outputs": [],
      "source": [
        "l = [i for i in range(5)]\n",
        "\n",
        "print(l)"
      ]
    },
    {
      "attachments": {},
      "cell_type": "markdown",
      "metadata": {
        "id": "MOa5KMXF2FXm"
      },
      "source": [
        "# **Practice 5**\n",
        "\n",
        "<details>\n",
        "    <summary>If, else, While and For</summary>\n",
        "\n",
        "1) Check if a given number is positive or negative:\n",
        "<details>\n",
        "    <summary>&#128161;</summary>\n",
        "  \n",
        "    num =...\n",
        "    if num > ...:\n",
        "    print(\"The number is positive.\")\n",
        "    elif num < ...:\n",
        "    print(\"The number is negative.\")\n",
        "    else:\n",
        "    print(\"The number is zero.\")\n",
        "  \n",
        "</details>\n",
        "\n",
        "2) Print any phrase 10 times using a while loop:\n",
        "\n",
        "<details>\n",
        "    <summary>&#128161;</summary>\n",
        "  \n",
        "    i = ...\n",
        "    while i <= ...:\n",
        "    print(...)\n",
        "    i += 1\n",
        "                 \n",
        "</details>\n",
        "\n",
        "3) Print the numbers from 1 to 10 using a while loop:\n",
        "\n",
        "<details>\n",
        "    <summary>&#128161;</summary>\n",
        "  \n",
        "    i = 1\n",
        "    while i < 10:\n",
        "    print(...)\n",
        "    i += 1\n",
        "  \n",
        "</details>   \n",
        "\n",
        "4) Print the numbers from 1 to 10 using a for loop:\n",
        "\n",
        "<details>\n",
        "    <summary>&#128161;</summary>\n",
        "  \n",
        "    for i in range(...):\n",
        "    print(i)\n",
        "\n",
        "</details>\n",
        "\n",
        "    \n"
      ]
    },
    {
      "cell_type": "code",
      "execution_count": null,
      "metadata": {
        "id": "H2MczEtS2mgH"
      },
      "outputs": [],
      "source": []
    },
    {
      "attachments": {},
      "cell_type": "markdown",
      "metadata": {
        "id": "H0syv2eGi-9Q"
      },
      "source": [
        "### **Python functions:**\n",
        "\n",
        "\n",
        "<details> \n",
        "<summary><strong>A function is a block of code which only runs when it is called</strong>. You can pass data, known as parameters, into a function. A function can return data as a result.</summary>\n",
        "\n",
        "<details>\n",
        "<summary><strong><u>def:</u> </strong> </summary>To call a function, use the function name and call parameters on parenthesis (arguments). Information can be passed into functions as arguments, inside the parentheses.\n",
        "</details>\n",
        "\n",
        "<details>\n",
        "<summary><strong><u>lambda: </u></strong> </summary>A lambda function can take any number of arguments, but can only have one expression. The expression is executed and the result is returned.\n",
        "</details>\n",
        "</details>\n"
      ]
    },
    {
      "cell_type": "code",
      "execution_count": null,
      "metadata": {
        "id": "B0TkA4QUkQCW"
      },
      "outputs": [],
      "source": [
        "def soma(a, b):\n",
        "    return a + b"
      ]
    },
    {
      "cell_type": "code",
      "execution_count": null,
      "metadata": {
        "colab": {
          "base_uri": "https://localhost:8080/"
        },
        "id": "yjjQVVKRkZPK",
        "outputId": "8e6ac33b-db94-41c8-a0e0-36ffd43219bb"
      },
      "outputs": [],
      "source": [
        "soma(1,2)"
      ]
    },
    {
      "cell_type": "code",
      "execution_count": null,
      "metadata": {
        "id": "WLV5zMwYkSMO"
      },
      "outputs": [],
      "source": [
        "def volume(x, y, z):\n",
        "    return x*y*z"
      ]
    },
    {
      "cell_type": "code",
      "execution_count": null,
      "metadata": {
        "colab": {
          "base_uri": "https://localhost:8080/"
        },
        "id": "WhNtvZ49kbqY",
        "outputId": "76309cb4-e6ea-4ef1-b700-144df38c3f1c"
      },
      "outputs": [],
      "source": [
        "volume(2,2,2)"
      ]
    },
    {
      "cell_type": "code",
      "execution_count": null,
      "metadata": {
        "colab": {
          "base_uri": "https://localhost:8080/"
        },
        "id": "tq0at1gZi3wk",
        "outputId": "17677fa9-6813-4a8a-d63e-a210bfbc3da1"
      },
      "outputs": [],
      "source": [
        "soma = lambda a, b : a + b\n",
        "print(soma(2,4))"
      ]
    },
    {
      "cell_type": "code",
      "execution_count": null,
      "metadata": {
        "colab": {
          "base_uri": "https://localhost:8080/"
        },
        "id": "lc9KnR6QkNyb",
        "outputId": "650118df-22c4-459c-f9d4-e5f179ca55b2"
      },
      "outputs": [],
      "source": [
        "volume = lambda x, y, z : x*y*z\n",
        "print(volume(2,2,2))"
      ]
    },
    {
      "attachments": {},
      "cell_type": "markdown",
      "metadata": {
        "id": "p5ZkE3y12z7K"
      },
      "source": [
        "# **Practice 6**\n",
        "\n",
        "\n",
        "<details>\n",
        "    <summary> Functions </summary>\n",
        "\n",
        "### **def**\n",
        "\n",
        "1) Write a function that takes two arguments and returns their sum;\n",
        "\n",
        "<details>\n",
        "    <summary>&#128161;</summary>\n",
        "  \n",
        "    def add_numbers(...):\n",
        "    return ...\n",
        "  \n",
        "</details>\n",
        "\n",
        "2) Write a function that calculates the volume of a cube;\n",
        "<details>\n",
        "    <summary>&#128161;</summary>\n",
        "  \n",
        "    def cube_volume(x):\n",
        "    volume = x .. 3\n",
        "    return volume\n",
        "  \n",
        "</details>\n",
        "\n",
        "\n",
        "\n",
        "### **Lambda**\n",
        "\n",
        "3) Write a lambda function that returns the square of a number\n",
        "\n",
        "<details>\n",
        "    <summary>&#128161;</summary>\n",
        "  \n",
        "    square = lambda x: ...\n",
        "    result = square(...)\n",
        "    print(result)\n",
        "  \n",
        "</details>\n",
        "\n",
        "4) Write a lambda function that returns the product of two numbers\n",
        "\n",
        "<details>\n",
        "    <summary>&#128161;</summary>\n",
        "  \n",
        "    product = lambda x, y: ...\n",
        "    result = product(..., ...)\n",
        "    print(result)\n",
        "  \n",
        "</details>"
      ]
    },
    {
      "attachments": {},
      "cell_type": "markdown",
      "metadata": {
        "id": "EdGu2RpWp7tR"
      },
      "source": [
        "### **Modules**\n",
        "\n",
        "<details>\n",
        "<summary>More about modules</summary>\n",
        "In Python, a module is a file containing Python definitions and statements. The file name is the module name with the suffix .py. For example, a module named \"example_module.py\" contains Python code that can be imported into another Python script or module using the import statement.\n",
        "</details>"
      ]
    },
    {
      "cell_type": "code",
      "execution_count": null,
      "metadata": {
        "id": "oi1lMFfWqBLF"
      },
      "outputs": [],
      "source": [
        "import datetime"
      ]
    },
    {
      "cell_type": "code",
      "execution_count": null,
      "metadata": {
        "colab": {
          "base_uri": "https://localhost:8080/"
        },
        "id": "GqR4VFsLqg7A",
        "outputId": "748d874c-06b6-4977-9c59-b41cf6b65338"
      },
      "outputs": [],
      "source": [
        "today = datetime.date.today()\n",
        "\n",
        "today"
      ]
    },
    {
      "cell_type": "code",
      "execution_count": null,
      "metadata": {
        "id": "kYz70QCQqibn"
      },
      "outputs": [],
      "source": [
        "my_birthday = datetime.date(today.year, 7, 11)"
      ]
    },
    {
      "cell_type": "code",
      "execution_count": null,
      "metadata": {
        "colab": {
          "base_uri": "https://localhost:8080/"
        },
        "id": "KwcgQuLPqnFH",
        "outputId": "7509833b-00df-4cec-ac5d-7f266cfa1f5a"
      },
      "outputs": [],
      "source": [
        "time_to_birthday = my_birthday - today\n",
        "\n",
        "time_to_birthday"
      ]
    },
    {
      "cell_type": "code",
      "execution_count": null,
      "metadata": {
        "id": "QlVl_PVVqr9o"
      },
      "outputs": [],
      "source": [
        "import math"
      ]
    },
    {
      "cell_type": "code",
      "execution_count": null,
      "metadata": {
        "colab": {
          "base_uri": "https://localhost:8080/"
        },
        "id": "nB0YshM9qwpo",
        "outputId": "607a8c55-3da1-4061-ce39-a979682151ac"
      },
      "outputs": [],
      "source": [
        "math.pi"
      ]
    },
    {
      "cell_type": "code",
      "execution_count": null,
      "metadata": {
        "colab": {
          "base_uri": "https://localhost:8080/"
        },
        "id": "d7G9DY4Wqxwg",
        "outputId": "84fd82b5-d4fd-42e1-df42-003e0e55abc5"
      },
      "outputs": [],
      "source": [
        "math.nan"
      ]
    },
    {
      "cell_type": "code",
      "execution_count": null,
      "metadata": {
        "colab": {
          "base_uri": "https://localhost:8080/"
        },
        "id": "m8gfQJV_qzNg",
        "outputId": "30fb2fc7-1644-460f-bcd0-10c9f741de7c"
      },
      "outputs": [],
      "source": [
        "math.exp(10)"
      ]
    },
    {
      "cell_type": "code",
      "execution_count": null,
      "metadata": {
        "colab": {
          "base_uri": "https://localhost:8080/"
        },
        "id": "ykCSmYaEq1y3",
        "outputId": "9592ab01-73af-4af8-c71d-3a34a74fb76e"
      },
      "outputs": [],
      "source": [
        "math.log(10)"
      ]
    },
    {
      "cell_type": "code",
      "execution_count": null,
      "metadata": {
        "id": "Mvga1W5bzYqC"
      },
      "outputs": [],
      "source": [
        "import numpy as np"
      ]
    },
    {
      "cell_type": "code",
      "execution_count": null,
      "metadata": {
        "id": "OOz6weOzzYqC"
      },
      "outputs": [],
      "source": [
        "a = np.array([[1,2,3,4,5],[6,7,8,9,10]])"
      ]
    },
    {
      "cell_type": "code",
      "execution_count": null,
      "metadata": {
        "id": "5_6xl8tqzYqC"
      },
      "outputs": [],
      "source": [
        "b = np.array([1,2,3,4,5,6,7,8,9])"
      ]
    },
    {
      "cell_type": "code",
      "execution_count": null,
      "metadata": {
        "id": "5UaJ4H7RzYqC",
        "outputId": "bbbfb021-031c-42bb-bb89-dc8b86616742"
      },
      "outputs": [],
      "source": [
        "a.size"
      ]
    },
    {
      "cell_type": "code",
      "execution_count": null,
      "metadata": {
        "id": "MsW6GtryzYqC",
        "outputId": "d2251cdf-4737-4dc7-82bb-9ad12d9a1185"
      },
      "outputs": [],
      "source": [
        "b.size"
      ]
    },
    {
      "cell_type": "code",
      "execution_count": null,
      "metadata": {
        "id": "2Ed0nb3kzYqC",
        "outputId": "699a69d5-5ad4-4de5-940f-bba0c577c38e"
      },
      "outputs": [],
      "source": [
        "a.ndim"
      ]
    },
    {
      "cell_type": "code",
      "execution_count": null,
      "metadata": {
        "id": "TLZiRjI_zYqC",
        "outputId": "48da57e5-e27c-4ac0-86e8-36d0809e3d92"
      },
      "outputs": [],
      "source": [
        "b.ndim"
      ]
    },
    {
      "cell_type": "code",
      "execution_count": null,
      "metadata": {
        "id": "lB-6iuEJzYqC",
        "outputId": "183e4ebf-3d2a-4fce-aa8a-8aacc95ede64"
      },
      "outputs": [],
      "source": [
        "a.shape\n"
      ]
    },
    {
      "cell_type": "code",
      "execution_count": null,
      "metadata": {
        "id": "5Z7LNYWizYqD",
        "outputId": "d88c65b6-773d-4f64-93a6-0d0a5d485227"
      },
      "outputs": [],
      "source": [
        "b.shape"
      ]
    },
    {
      "cell_type": "code",
      "execution_count": null,
      "metadata": {
        "id": "IP-bE_I2zYqD",
        "outputId": "5d7be2b3-4fdd-4254-cea2-b0d5f7bc63e5"
      },
      "outputs": [],
      "source": [
        "a[0]"
      ]
    },
    {
      "cell_type": "code",
      "execution_count": null,
      "metadata": {
        "id": "zGmMmHnqzYqD",
        "outputId": "dd17c32a-dc42-4016-8d42-a49411ea27da"
      },
      "outputs": [],
      "source": [
        "a[0][2]"
      ]
    },
    {
      "cell_type": "code",
      "execution_count": null,
      "metadata": {
        "id": "ncO3egUWzYqD",
        "outputId": "11478738-9759-48be-8f0c-b78d871e5a78"
      },
      "outputs": [],
      "source": [
        "b[0:3]"
      ]
    },
    {
      "cell_type": "code",
      "execution_count": null,
      "metadata": {
        "id": "z7CG06EbzYqD",
        "outputId": "184c007b-bc26-4bc6-f12b-a7437e2ef842"
      },
      "outputs": [],
      "source": [
        "a[1:,:]"
      ]
    },
    {
      "cell_type": "code",
      "execution_count": null,
      "metadata": {
        "id": "6uaBZAIozYqD"
      },
      "outputs": [],
      "source": [
        "c = np.array([1,2,3,4,5,6,7,8,9,10])"
      ]
    },
    {
      "cell_type": "code",
      "execution_count": null,
      "metadata": {
        "id": "HwWk-ettzYqD",
        "outputId": "a56352fd-0731-46dc-ecbd-2cc8f99e7d51"
      },
      "outputs": [],
      "source": [
        "r = c.reshape(5,2)\n",
        "\n",
        "r"
      ]
    },
    {
      "cell_type": "code",
      "execution_count": null,
      "metadata": {
        "id": "BIs-IbPazYqD",
        "outputId": "086f8641-ae35-42f5-a182-b1dda5430975"
      },
      "outputs": [],
      "source": [
        "print(c.mean())\n",
        "\n",
        "print(c.std())\n",
        "\n",
        "print(c.sum())\n",
        "\n",
        "print(c.cumsum())"
      ]
    },
    {
      "cell_type": "code",
      "execution_count": null,
      "metadata": {
        "id": "MK4AxsZEzYqD",
        "outputId": "e7bc3c93-e7fa-4446-b7fc-d0beaff5b7fd"
      },
      "outputs": [],
      "source": [
        "np.where(c>4)"
      ]
    },
    {
      "cell_type": "code",
      "execution_count": null,
      "metadata": {
        "id": "RMCUp5RwzYqD",
        "outputId": "85ccd877-9039-430b-bbf1-121d1e37937b"
      },
      "outputs": [],
      "source": [
        "np.where(c>4, 0, 1)"
      ]
    },
    {
      "cell_type": "code",
      "execution_count": null,
      "metadata": {
        "id": "LiB3tth6zYqE"
      },
      "outputs": [],
      "source": [
        "a = np.array([1,1,1,2,2,2])"
      ]
    },
    {
      "cell_type": "code",
      "execution_count": null,
      "metadata": {
        "id": "LunKlSb6zYqE",
        "outputId": "11449e09-0a17-4dcf-dd96-a117de48f896"
      },
      "outputs": [],
      "source": [
        "np.unique(a)"
      ]
    },
    {
      "cell_type": "code",
      "execution_count": null,
      "metadata": {
        "id": "0sn8__NFzYqE"
      },
      "outputs": [],
      "source": [
        "b = np.array([2,1,6,7,5])"
      ]
    },
    {
      "cell_type": "code",
      "execution_count": null,
      "metadata": {
        "id": "aRdn6rW3zYqF",
        "outputId": "c6319ad4-c43a-49c5-c401-0c253d8ba7ef"
      },
      "outputs": [],
      "source": [
        "np.sort(b)"
      ]
    },
    {
      "attachments": {},
      "cell_type": "markdown",
      "metadata": {
        "id": "mQkjNFmGzYqF"
      },
      "source": [
        "\n",
        "<details>\n",
        "<summary><strong>numpy.argmin() and numpy.argmax()</summary></strong> are NumPy functions that return the index (or indices) of the smallest (for argmin) or largest (for argmax) element in an array. For example, if you have an array a = [3, 1, 4, 1, 5, 9, 2, 6, 5, 3, 5], numpy.argmin(a) would return 1, which is the index of the smallest element (1), and numpy.argmax(a) would return 5, which is the index of the largest element (9).\n",
        "\n"
      ]
    },
    {
      "cell_type": "code",
      "execution_count": null,
      "metadata": {
        "id": "Fblb-3I9zYqF",
        "outputId": "fc78d353-27b7-4e26-c69b-3f3ae9287c53"
      },
      "outputs": [],
      "source": [
        "np.argmin(b)"
      ]
    },
    {
      "cell_type": "code",
      "execution_count": null,
      "metadata": {
        "id": "tFf0bl8azYqF",
        "outputId": "968436f7-69de-40fe-8914-04c7a1bcf9e0"
      },
      "outputs": [],
      "source": [
        "np.argmax(b)"
      ]
    },
    {
      "cell_type": "code",
      "execution_count": null,
      "metadata": {
        "id": "AVjQwn1_zYqF",
        "outputId": "f4e6738d-e8e0-48d6-d74c-0ca37d9c5431"
      },
      "outputs": [],
      "source": [
        "np.argsort(b)"
      ]
    },
    {
      "cell_type": "code",
      "execution_count": null,
      "metadata": {
        "colab": {
          "base_uri": "https://localhost:8080/"
        },
        "id": "z49kvEor46zJ",
        "outputId": "1eba6a60-dbe3-4295-8789-18b990fc9148"
      },
      "outputs": [],
      "source": [
        "np.arange(1,20,2)"
      ]
    },
    {
      "attachments": {},
      "cell_type": "markdown",
      "metadata": {
        "id": "bGIfcPcV5GtP"
      },
      "source": [
        "# **Practice 7**\n",
        "\n",
        "<details>\n",
        "    <summary>Module basics </summary>\n",
        "\n",
        "### **Math**\n",
        "\n",
        "1) Basic exercise using the math module. Write a program that prompts the user to provide the radius of a circle and then calculates and prints the diameter, circumference, and area of the circle using the math module:\n",
        "\n",
        "<details>\n",
        "    <summary>&#128161;</summary>\n",
        "  \n",
        "    import math...\n",
        "    pi = math.pi\n",
        "    diameter = 2.R\n",
        "    circumference = 2.pi.R\n",
        "    area = pi.R²\n",
        "\n",
        "    print(\"Diameter:\", diameter)\n",
        "    print(\"Circumference:\", circumference)\n",
        "    print(\"Area:\", area)\n",
        "  \n",
        "</details>\n",
        "\n",
        "### **Numpy**\n",
        "\n",
        "3) Basic exercise using the NumPy module. Create a sequence of numbers using np.arange() then calculate the mean, standard deviation and maximum/minimum of this sequence.\n",
        "\n",
        "<details>\n",
        "    <summary>&#128161;</summary>\n",
        "\n",
        "    # creates a sequence of numbers using numpy.arange()\n",
        "    sequence = np.arange(....)\n",
        "\n",
        "    # calculates the mean, standard deviation, and maximum of the sequence\n",
        "    mean = np.mean...\n",
        "    std_dev = np.std...\n",
        "    max_val = np.max...\n",
        "    # prints the results\n",
        "    print(\"Mean:\", mean)\n",
        "    print(\"Standard deviation:\", std_dev)\n",
        "    print(\"Maximum value:\", max_val)\n",
        "\n",
        "  \n",
        "</details>\n",
        "\n",
        "4) Uses the np.where() function to find the indices of elements that are greater than the mean. Then assing for each index a value for values greater and less than the mean.\n",
        "\n",
        "<details>\n",
        "    <summary>&#128161;</summary>\n",
        "    \n",
        "    indices = np.where(...)\n",
        "    values = np.where(...)\n",
        "\n",
        "  \n",
        "</details>"
      ]
    },
    {
      "attachments": {},
      "cell_type": "markdown",
      "metadata": {},
      "source": [
        "<center>\n",
        "<img src = \"data:image/png;base64,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\"></center>"
      ]
    },
    {
      "cell_type": "markdown",
      "metadata": {},
      "source": []
    },
    {
      "cell_type": "markdown",
      "metadata": {},
      "source": []
    }
  ],
  "metadata": {
    "colab": {
      "provenance": []
    },
    "kernelspec": {
      "display_name": "Python 3",
      "language": "python",
      "name": "python3"
    },
    "language_info": {
      "codemirror_mode": {
        "name": "ipython",
        "version": 3
      },
      "file_extension": ".py",
      "mimetype": "text/x-python",
      "name": "python",
      "nbconvert_exporter": "python",
      "pygments_lexer": "ipython3",
      "version": "3.10.10"
    },
    "vscode": {
      "interpreter": {
        "hash": "eed5d0e98674c91e5b6a352f0a08e3131dd647db755fe385a4350c9735e61ebb"
      }
    }
  },
  "nbformat": 4,
  "nbformat_minor": 0
}
