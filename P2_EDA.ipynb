{
  "cells": [
    {
      "attachments": {},
      "cell_type": "markdown",
      "metadata": {},
      "source": [
        "<center><img src = \"https://www.geoilenergy.com/images/software/index/geovariances_logo.png\" width=\"20%\"></center>"
      ]
    },
    {
      "attachments": {},
      "cell_type": "markdown",
      "metadata": {
        "id": "LZO7YlwhHKvS"
      },
      "source": [
        "# **Introduction to Exploratory Data Analysis with Pandas, Matplotlib and Seaborn!**\n",
        "\n",
        "\n",
        "## **Course content:**\n",
        "\n",
        "1.   Pandas: import, manipulate, visualize and describe your data\n",
        "2.   Visualize your data with different plots using Geovariances plotting! \n"
      ]
    },
    {
      "attachments": {},
      "cell_type": "markdown",
      "metadata": {
        "id": "iEkPQ5F7WU1q"
      },
      "source": [
        "## Downloading data and plotting scripts\n",
        "\n",
        "The `curl` command downloads the repository data used for the course. If you are on Google Colaboratory session, you will also need to download the plotting scripts from Geovariances.\n"
      ]
    },
    {
      "cell_type": "code",
      "execution_count": null,
      "metadata": {
        "colab": {
          "base_uri": "https://localhost:8080/"
        },
        "id": "fczIB1RYHKvT",
        "outputId": "ae967a99-c047-4f9b-cc18-65bfc146031c"
      },
      "outputs": [],
      "source": [
        "# Downloads dataset from GitHub\n",
        "!curl -o phosphate_assay_sampled_geomet.csv https://raw.githubusercontent.com/gv-americas/ml_course_americas/main/phosphate_assay_sampled_geomet.csv\n",
        "\n",
        "# If you are in a Google Colab session, make sure to also download the GeoVariances module for plotting!\n",
        "# !curl -o plotting_gv.py https://raw.githubusercontent.com/gv-americas/ml_course_americas/main/plotting_gv.py"
      ]
    },
    {
      "attachments": {},
      "cell_type": "markdown",
      "metadata": {
        "id": "7CFnvY_1XjkI"
      },
      "source": [
        "### **Importing four libraries:**\n",
        "\n",
        "<details>\n",
        "<summary><strong>libraries</strong></summary>\n",
        "\n",
        "**Pandas:** used for data manipulation and analysis.\n",
        "\n",
        "**Numpy:** Used for scientific computing and working with arrays.\n",
        "\n",
        "**Matplotlib:** Used for data visualization and creating plots.\n",
        "\n",
        "**Plotting_gv:** A custom plotting library created by GV Americas, which contains additional plotting functions and custom styles.\n",
        "\n",
        "</details>"
      ]
    },
    {
      "cell_type": "code",
      "execution_count": null,
      "metadata": {
        "id": "1l_vvOmcQ7Wd"
      },
      "outputs": [],
      "source": [
        "import pandas as pd\n",
        "import numpy as np\n",
        "import matplotlib.pyplot as plt\n",
        "import plotting_gv as gv\n"
      ]
    },
    {
      "attachments": {},
      "cell_type": "markdown",
      "metadata": {
        "id": "G2YAtWBYX02o"
      },
      "source": [
        "### **Pandas**\n",
        "\n",
        "<details>\n",
        "    <summary><strong>Reading data with Pandas</strong></summary>is a popular way to load data from various file formats such as CSV, Excel, SQL databases, and many others. Pandas is a Python library that provides powerful tools for data manipulation and analysis.\n",
        "</details>"
      ]
    },
    {
      "cell_type": "code",
      "execution_count": null,
      "metadata": {
        "id": "r0-xrZRyHKvT"
      },
      "outputs": [],
      "source": [
        "data = pd.read_csv(\"phosphate_assay_sampled_geomet.csv\")\n"
      ]
    },
    {
      "attachments": {},
      "cell_type": "markdown",
      "metadata": {
        "id": "e9tsRnW3YH5e"
      },
      "source": [
        "### **Recognizing data:**\n",
        "\n",
        "<details>\n",
        "<summary><strong>Display first few rows of our dataframe</strong></summary>with Pandas refers to the process of exploring and understanding the data that you have loaded into a Pandas DataFrame. Once you have loaded the data using one of the Pandas read methods (e.g. read_csv(), read_excel(), you can use various Pandas functions and methods to recognize and understand the structure and content of the data"
      ]
    },
    {
      "cell_type": "code",
      "execution_count": null,
      "metadata": {
        "colab": {
          "base_uri": "https://localhost:8080/",
          "height": 206
        },
        "id": "AQqjs8vSHKvT",
        "outputId": "1f636c45-7686-4f2e-8a75-bc753184bc4a"
      },
      "outputs": [],
      "source": [
        "data.head()\n"
      ]
    },
    {
      "attachments": {},
      "cell_type": "markdown",
      "metadata": {
        "id": "aF9fpCPbYZ0i"
      },
      "source": [
        "### **Printing dataset information and columns**"
      ]
    },
    {
      "cell_type": "code",
      "execution_count": null,
      "metadata": {
        "colab": {
          "base_uri": "https://localhost:8080/"
        },
        "id": "WydvT2mgHKvU",
        "outputId": "fb89b34f-3f64-4c45-bb16-d0732d32bdbc"
      },
      "outputs": [],
      "source": [
        "print(\"Dataset information:\\n\")\n",
        "data.info()\n",
        "data.columns\n"
      ]
    },
    {
      "attachments": {},
      "cell_type": "markdown",
      "metadata": {
        "id": "4G2K5q7uYgXZ"
      },
      "source": [
        "### **Declaring to filter data**"
      ]
    },
    {
      "cell_type": "code",
      "execution_count": null,
      "metadata": {
        "id": "EtzKKfLQHKvU"
      },
      "outputs": [],
      "source": [
        "variables = [\"AL2O3\", \"BAO\", \"CAO\", \"FE2O3\", \"MGO\", \"NB2O5\", \"P2O5\", \"SIO2\", \"TIO2\"]\n",
        "\n",
        "lito_var = \"ALT\"\n",
        "\n",
        "geomet = [\"Reagente\", \"Recuperacao\"]\n",
        "\n",
        "x, y, z = data[\"X\"], data[\"Y\"], data[\"Z\"]\n"
      ]
    },
    {
      "attachments": {},
      "cell_type": "markdown",
      "metadata": {
        "id": "_cSHCXmOYoC8"
      },
      "source": [
        "### **Number of rows x Number of columns**"
      ]
    },
    {
      "cell_type": "code",
      "execution_count": null,
      "metadata": {
        "colab": {
          "base_uri": "https://localhost:8080/"
        },
        "id": "GUvQtaNeHKvU",
        "outputId": "30fedfb7-443b-427c-bccd-56aaadf0cbfd"
      },
      "outputs": [],
      "source": [
        "print(f\"Number of rows: {data.shape[0]}\")\n",
        "print(f\"Number of columns: {data.shape[1]}\")\n"
      ]
    },
    {
      "attachments": {},
      "cell_type": "markdown",
      "metadata": {
        "id": "PRC87cJoYuCu"
      },
      "source": [
        "### **Counting drillholes**"
      ]
    },
    {
      "cell_type": "code",
      "execution_count": null,
      "metadata": {
        "colab": {
          "base_uri": "https://localhost:8080/"
        },
        "id": "IrjOGoygHKvU",
        "outputId": "951d7da4-344f-4570-c77d-75ebf90b3f1d"
      },
      "outputs": [],
      "source": [
        "ddh = len(np.unique(data[\"Name\"]))\n",
        "print(f\"Contagem total de furos: {ddh}\")\n"
      ]
    },
    {
      "attachments": {},
      "cell_type": "markdown",
      "metadata": {
        "id": "wChSWYgCYxcJ"
      },
      "source": [
        "### **Lithologies: ALT variable**"
      ]
    },
    {
      "cell_type": "code",
      "execution_count": null,
      "metadata": {
        "colab": {
          "base_uri": "https://localhost:8080/"
        },
        "id": "5QaLfuefHKvV",
        "outputId": "67ffb060-81a6-4e95-ccf6-bcbb85cac2b0"
      },
      "outputs": [],
      "source": [
        "lito = np.unique(data[\"ALT\"])\n",
        "\n",
        "print(lito)\n"
      ]
    },
    {
      "attachments": {},
      "cell_type": "markdown",
      "metadata": {
        "id": "Zbn304OxZEwQ"
      },
      "source": [
        "### **Counting lithologies categories with Count Plot**"
      ]
    },
    {
      "cell_type": "code",
      "execution_count": null,
      "metadata": {
        "colab": {
          "base_uri": "https://localhost:8080/",
          "height": 512
        },
        "id": "VMXEGSi3HKvV",
        "outputId": "45bfd30b-8ca8-4f7d-aea7-a0a7c18fc9c2"
      },
      "outputs": [],
      "source": [
        "gv.count_cat(cat=data[\"ALT\"], color=\"#116981\")\n"
      ]
    },
    {
      "attachments": {},
      "cell_type": "markdown",
      "metadata": {
        "id": "wkEYAmTnZKju"
      },
      "source": [
        "### **Describing basic statistics for each variable**"
      ]
    },
    {
      "cell_type": "code",
      "execution_count": null,
      "metadata": {
        "colab": {
          "base_uri": "https://localhost:8080/",
          "height": 337
        },
        "id": "yhBNlfXaHKvV",
        "outputId": "21112759-9d02-4ab8-da4e-1371dac7833a"
      },
      "outputs": [],
      "source": [
        "print(\"Data statistics:\\n\")\n",
        "data.describe().round(2)\n"
      ]
    },
    {
      "attachments": {},
      "cell_type": "markdown",
      "metadata": {
        "id": "jCnTv6ycZSc7"
      },
      "source": [
        "### **Printing NaN Values with Pandas**"
      ]
    },
    {
      "cell_type": "code",
      "execution_count": null,
      "metadata": {
        "colab": {
          "base_uri": "https://localhost:8080/"
        },
        "id": "cVivjStBHKvV",
        "outputId": "388021d7-0f85-47c2-81e3-b7ec391d2a9c"
      },
      "outputs": [],
      "source": [
        "print(f\"NaN Values for each column:\")\n",
        "\n",
        "print(data.isnull().sum())\n"
      ]
    },
    {
      "attachments": {},
      "cell_type": "markdown",
      "metadata": {
        "id": "wzeZcyxhZYkG"
      },
      "source": [
        "### **Plotting Histogram**"
      ]
    },
    {
      "cell_type": "code",
      "execution_count": null,
      "metadata": {
        "colab": {
          "base_uri": "https://localhost:8080/",
          "height": 513
        },
        "id": "wgelex9sHKvV",
        "outputId": "df6197f0-e1a4-4268-9ce9-0e576d62fb3d"
      },
      "outputs": [],
      "source": [
        "gv.histogram(\n",
        "    data[\"P2O5\"], title=\"Histogram for $P_2O_5$\", bins=20, color=\"#116981\", cum=False\n",
        ")\n"
      ]
    },
    {
      "attachments": {},
      "cell_type": "markdown",
      "metadata": {
        "id": "IIPaOlESZq8k"
      },
      "source": [
        "### **Plotting Scatterplot**"
      ]
    },
    {
      "cell_type": "code",
      "execution_count": null,
      "metadata": {
        "colab": {
          "base_uri": "https://localhost:8080/",
          "height": 515
        },
        "id": "AgNWTLKeHKvV",
        "outputId": "b2f0273c-0a84-4c01-9da8-189375b2b901"
      },
      "outputs": [],
      "source": [
        "gv.scatterplot(data, \"P2O5\", \"CAO\", lineregress=False)\n"
      ]
    },
    {
      "attachments": {},
      "cell_type": "markdown",
      "metadata": {
        "id": "eVLYEecWZzIh"
      },
      "source": [
        "### **Plotting Scattermatrix and Correlations**"
      ]
    },
    {
      "cell_type": "code",
      "execution_count": null,
      "metadata": {
        "colab": {
          "base_uri": "https://localhost:8080/",
          "height": 1000
        },
        "id": "DYFhNTa4HKvV",
        "outputId": "31d93a0f-7f9d-4799-ee7b-d1ee88de28fe"
      },
      "outputs": [],
      "source": [
        "gv.scatter_matrix(data[variables], figsize=(20, 20))\n"
      ]
    },
    {
      "attachments": {},
      "cell_type": "markdown",
      "metadata": {
        "id": "UWBkT6vyZ5A5"
      },
      "source": [
        "### **Plotting Correlation Matrix**"
      ]
    },
    {
      "cell_type": "code",
      "execution_count": null,
      "metadata": {
        "colab": {
          "base_uri": "https://localhost:8080/",
          "height": 927
        },
        "id": "p787y_V0HKvW",
        "outputId": "0ae2c1c3-62cd-4cb3-a6e0-3915bd6a7184"
      },
      "outputs": [],
      "source": [
        "gv.correlation_matrix(data[variables], (10, 10), method=\"pearson\")\n"
      ]
    },
    {
      "attachments": {},
      "cell_type": "markdown",
      "metadata": {
        "id": "z-KJ8I6tag6D"
      },
      "source": [
        "### **Plotting Boxplots per category: understanding all distributions**"
      ]
    },
    {
      "cell_type": "code",
      "execution_count": null,
      "metadata": {
        "colab": {
          "base_uri": "https://localhost:8080/",
          "height": 1000
        },
        "id": "sey23V1RHKvW",
        "outputId": "64ac9fad-a4b8-43b2-f741-2d5fbe3c1324"
      },
      "outputs": [],
      "source": [
        "gv.boxplots(data[variables], variables, data[\"ALT\"])\n"
      ]
    },
    {
      "attachments": {},
      "cell_type": "markdown",
      "metadata": {
        "id": "kEadkXiEa46i"
      },
      "source": [
        "### **Flagging outliers of a specific variable**"
      ]
    },
    {
      "cell_type": "code",
      "execution_count": null,
      "metadata": {
        "colab": {
          "base_uri": "https://localhost:8080/",
          "height": 460
        },
        "id": "lkCWfeIsHKvW",
        "outputId": "18601279-d4ca-4c70-a63a-96a87e608ec3"
      },
      "outputs": [],
      "source": [
        "gv.flag_outliers(data, \"P2O5\", remove_outliers=True)\n"
      ]
    },
    {
      "attachments": {},
      "cell_type": "markdown",
      "metadata": {
        "id": "Rr247q-ebNey"
      },
      "source": [
        "### **Location Map**"
      ]
    },
    {
      "cell_type": "code",
      "execution_count": null,
      "metadata": {
        "colab": {
          "base_uri": "https://localhost:8080/",
          "height": 589
        },
        "id": "EfoYPs8qHKvW",
        "outputId": "a04657a9-bb11-4a76-e77c-e866d2961412"
      },
      "outputs": [],
      "source": [
        "gv.locmap(\n",
        "    data[\"X\"],\n",
        "    data[\"Y\"],\n",
        "    data[\"P2O5\"],\n",
        "    cat=False,\n",
        "    figsize=(20, 13),\n",
        "    title=\"Location map $P_2O_5$\",\n",
        ")\n"
      ]
    },
    {
      "attachments": {},
      "cell_type": "markdown",
      "metadata": {
        "id": "XwKhX_EXbRPX"
      },
      "source": [
        "### **Cross Section**"
      ]
    },
    {
      "cell_type": "code",
      "execution_count": null,
      "metadata": {
        "colab": {
          "base_uri": "https://localhost:8080/",
          "height": 230
        },
        "id": "LgBjPnVsHKvW",
        "outputId": "2025cbe5-3d81-4cac-b384-46dd15aa106e"
      },
      "outputs": [],
      "source": [
        "gv.locmap(\n",
        "    data[\"X\"],\n",
        "    data[\"Z\"],\n",
        "    data[\"P2O5\"],\n",
        "    cat=False,\n",
        "    figsize=(30, 20),\n",
        "    title=\"Cross section location map $P_2O_5$\",\n",
        ")\n"
      ]
    },
    {
      "attachments": {},
      "cell_type": "markdown",
      "metadata": {
        "id": "udUlzLUrbT-i"
      },
      "source": [
        "### **Creating cut-offs domains**"
      ]
    },
    {
      "cell_type": "code",
      "execution_count": null,
      "metadata": {
        "id": "6sqHn4s8HKvW"
      },
      "outputs": [],
      "source": [
        "data[\"ORE\"] = np.where(data[\"P2O5\"] >= 6, \"Rich\", \"Poor\")\n"
      ]
    },
    {
      "attachments": {},
      "cell_type": "markdown",
      "metadata": {
        "id": "eYtmhmw5bYgY"
      },
      "source": [
        "### **Visualize Rich and Poor domains**"
      ]
    },
    {
      "cell_type": "code",
      "execution_count": null,
      "metadata": {
        "colab": {
          "base_uri": "https://localhost:8080/",
          "height": 229
        },
        "id": "wFOPukHBHKvW",
        "outputId": "9b95c07f-f869-4ae1-fbb9-a8ce6cd45db9"
      },
      "outputs": [],
      "source": [
        "gv.locmap(\n",
        "    data[\"X\"],\n",
        "    data[\"Z\"],\n",
        "    data[\"ORE\"],\n",
        "    cat=True,\n",
        "    figsize=(30, 10),\n",
        "    title=\"Categorical location map for $P_2O_5$\",\n",
        ")\n"
      ]
    },
    {
      "cell_type": "code",
      "execution_count": null,
      "metadata": {
        "colab": {
          "base_uri": "https://localhost:8080/",
          "height": 677
        },
        "id": "mpgjWi7zHKvW",
        "outputId": "89b345ab-7a13-4a4a-aea1-b6a1d62aca68"
      },
      "outputs": [],
      "source": [
        "gv.tdscatter(data[\"X\"], data[\"Y\"], data[\"Z\"], data[\"ORE\"], zex=1, s=3, azim=80, elev=20)\n"
      ]
    },
    {
      "attachments": {},
      "cell_type": "markdown",
      "metadata": {
        "id": "GAm7kccGtJBj"
      },
      "source": [
        "### **Practice P2**\n",
        "\n",
        "<details>\n",
        "    <summary><strong><u>Histogram</u></strong></summary>\n",
        "1) Generate different histograms to analyze the distributions of the main variables. Analyze and comment on the results. \n",
        "\n",
        "<details>\n",
        "    <summary>&#128161;</summary>\n",
        "  \n",
        "gv.histogram(\"parameters here\")\n",
        "  \n",
        "</details>\n",
        "\n",
        "\n",
        "\n"
      ]
    },
    {
      "cell_type": "code",
      "execution_count": null,
      "metadata": {
        "id": "0W55uXyTZSul"
      },
      "outputs": [],
      "source": [
        "# code here\n"
      ]
    },
    {
      "attachments": {},
      "cell_type": "markdown",
      "metadata": {
        "id": "D-pFUjmaY8gy"
      },
      "source": [
        "<details>\n",
        "    <summary><strong>Sccater plot</strong></summary>\n",
        "2) Generate scatter plots and a new scatter plot matrix to understand the dispersion and correlations between variables. Also, use the correlation matrix.\n",
        "\n",
        "<details>\n",
        "    <summary>&#128161;</summary>\n",
        "  \n",
        "gv.scatterplot(), gv.scatter_matrix(), and gv.correlation_matrix()\n",
        "  \n",
        "\n",
        "\n",
        "**Note:** declare new variables for the scatter plot matrix and for the correlation matrix. For this, you can declare a new variable with the chemical and metallurgical variables of interest. Use in this new step the geometallurgical variables.\n",
        "</details>\n"
      ]
    },
    {
      "cell_type": "code",
      "execution_count": null,
      "metadata": {
        "id": "kYynqSuuZU-m"
      },
      "outputs": [],
      "source": [
        "# code here\n"
      ]
    },
    {
      "attachments": {},
      "cell_type": "markdown",
      "metadata": {
        "id": "KGLI_FZkx-I0"
      },
      "source": [
        "<details>\n",
        "    <summary><strong>Boxplots</strong></summary>\n",
        "3) Along with the analysis of the boxplots, generate different flags for outliers of other variables through the correct function and analyze the results.\n",
        "\n",
        "<details>\n",
        "    <summary>&#128161;</summary>\n",
        "\n",
        "gv.flag_outliers(parameters here)\n",
        "</details>\n"
      ]
    },
    {
      "cell_type": "code",
      "execution_count": null,
      "metadata": {
        "id": "Ys4NG8QhZciL"
      },
      "outputs": [],
      "source": [
        "# code here\n"
      ]
    },
    {
      "attachments": {},
      "cell_type": "markdown",
      "metadata": {
        "id": "QhsO8Bc0ZW6U"
      },
      "source": [
        "<details>\n",
        "    <summary><strong>Numpy</strong></summary>\n",
        "4) Make a new domain division with other cut-off grades of your interest using other variables.\n",
        "\n",
        "<details>\n",
        "    <summary>&#128161;</summary>\n",
        "np.where(parameters here)"
      ]
    },
    {
      "cell_type": "code",
      "execution_count": null,
      "metadata": {
        "id": "NxylpB5BZcnx"
      },
      "outputs": [],
      "source": [
        "# code here\n"
      ]
    },
    {
      "attachments": {},
      "cell_type": "markdown",
      "metadata": {
        "id": "MoKkOmB6ZZlH"
      },
      "source": [
        "<details>\n",
        "    <summary><strong>Results</strong></summary>\n",
        "5) Visualize the results obtained with a location map, a horizontal section, and a three-dimensional plot.\n",
        "\n",
        "<details>\n",
        "    <summary>&#128161;</summary>\n",
        "gv.locmap and gv.tdscatter\n"
      ]
    },
    {
      "cell_type": "code",
      "execution_count": null,
      "metadata": {
        "id": "0BmMJa-DZdtX"
      },
      "outputs": [],
      "source": [
        "# code here\n"
      ]
    },
    {
      "attachments": {},
      "cell_type": "markdown",
      "metadata": {},
      "source": [
        "<center>\n",
        "<img src = \"data:image/png;base64,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\"></center>"
      ]
    },
    {
      "cell_type": "markdown",
      "metadata": {},
      "source": []
    }
  ],
  "metadata": {
    "colab": {
      "provenance": []
    },
    "kernelspec": {
      "display_name": ".venv",
      "language": "python",
      "name": "python3"
    },
    "language_info": {
      "codemirror_mode": {
        "name": "ipython",
        "version": 3
      },
      "file_extension": ".py",
      "mimetype": "text/x-python",
      "name": "python",
      "nbconvert_exporter": "python",
      "pygments_lexer": "ipython3",
      "version": "3.10.10"
    },
    "orig_nbformat": 4,
    "vscode": {
      "interpreter": {
        "hash": "3b693c35aaa3f440c2e2dc6c27786710da90ea3e1d973858722b914326c9afee"
      }
    }
  },
  "nbformat": 4,
  "nbformat_minor": 0
}
