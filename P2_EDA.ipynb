{
  "cells": [
    {
      "attachments": {},
      "cell_type": "markdown",
      "metadata": {
        "id": "LZO7YlwhHKvS"
      },
      "source": [
        "## **Introduction to Exploratory Data Analysis with Pandas, Matplotlib and Seaborn!**\n",
        "\n",
        "\n",
        "## Course content:\n",
        "\n",
        "1.   Pandas: import, manipulate, visualize and describe your data\n",
        "2.   Visualize your data with different plots using Geovariances plotting! \n"
      ]
    },
    {
      "attachments": {},
      "cell_type": "markdown",
      "metadata": {
        "id": "iEkPQ5F7WU1q"
      },
      "source": [
        "## Downloading data and plotting scripts\n",
        "\n",
        "The `curl` command downloads the repository data used for the course. If you are on Google Colaboratory session, you will also need to download the plotting scripts from Geovariances.\n"
      ]
    },
    {
      "cell_type": "code",
      "execution_count": null,
      "metadata": {
        "colab": {
          "base_uri": "https://localhost:8080/"
        },
        "id": "fczIB1RYHKvT",
        "outputId": "ae967a99-c047-4f9b-cc18-65bfc146031c"
      },
      "outputs": [],
      "source": [
        "# Downloads dataset from GitHub\n",
        "!curl -o phosphate_assay_sampled_geomet.csv https://raw.githubusercontent.com/gv-americas/ml_course_americas/main/phosphate_assay_sampled_geomet.csv\n",
        "\n",
        "# If you are in a Google Colab session, make sure to also download the GeoVariances module for plotting!\n",
        "# !curl -o plotting_gv.py https://raw.githubusercontent.com/gv-americas/ml_course_americas/main/plotting_gv.py"
      ]
    },
    {
      "cell_type": "markdown",
      "metadata": {
        "id": "7CFnvY_1XjkI"
      },
      "source": [
        "## Importing four libraries:\n",
        "\n",
        "**Pandas**: used for data manipulation and analysis.\n",
        "\n",
        "**Numpy**: used for scientific computing and working with arrays.\n",
        "\n",
        "**Matplotlib**: used for data visualization and creating plots.\n",
        "\n",
        "**Plotting_gv**: a custom plotting library created by GV Americas, which contains additional plotting functions and custom styles."
      ]
    },
    {
      "cell_type": "code",
      "execution_count": null,
      "metadata": {
        "id": "1l_vvOmcQ7Wd"
      },
      "outputs": [],
      "source": [
        "import pandas as pd\n",
        "import numpy as np\n",
        "import matplotlib.pyplot as plt\n",
        "import plotting_gv as gv\n"
      ]
    },
    {
      "attachments": {},
      "cell_type": "markdown",
      "metadata": {
        "id": "G2YAtWBYX02o"
      },
      "source": [
        "## Reading data with Pandas"
      ]
    },
    {
      "cell_type": "code",
      "execution_count": null,
      "metadata": {
        "id": "r0-xrZRyHKvT"
      },
      "outputs": [],
      "source": [
        "data = pd.read_csv(\"phosphate_assay_sampled_geomet.csv\")\n"
      ]
    },
    {
      "attachments": {},
      "cell_type": "markdown",
      "metadata": {
        "id": "e9tsRnW3YH5e"
      },
      "source": [
        "## Recognizing data: display first few rows of our dataframe"
      ]
    },
    {
      "cell_type": "code",
      "execution_count": null,
      "metadata": {
        "colab": {
          "base_uri": "https://localhost:8080/",
          "height": 206
        },
        "id": "AQqjs8vSHKvT",
        "outputId": "1f636c45-7686-4f2e-8a75-bc753184bc4a"
      },
      "outputs": [],
      "source": [
        "data.head()\n"
      ]
    },
    {
      "attachments": {},
      "cell_type": "markdown",
      "metadata": {
        "id": "aF9fpCPbYZ0i"
      },
      "source": [
        "## Printing dataset information and columns"
      ]
    },
    {
      "cell_type": "code",
      "execution_count": null,
      "metadata": {
        "colab": {
          "base_uri": "https://localhost:8080/"
        },
        "id": "WydvT2mgHKvU",
        "outputId": "fb89b34f-3f64-4c45-bb16-d0732d32bdbc"
      },
      "outputs": [],
      "source": [
        "print(\"Dataset information:\\n\")\n",
        "data.info()\n",
        "data.columns\n"
      ]
    },
    {
      "attachments": {},
      "cell_type": "markdown",
      "metadata": {
        "id": "4G2K5q7uYgXZ"
      },
      "source": [
        "## Declaring to filter data"
      ]
    },
    {
      "cell_type": "code",
      "execution_count": null,
      "metadata": {
        "id": "EtzKKfLQHKvU"
      },
      "outputs": [],
      "source": [
        "variables = [\"AL2O3\", \"BAO\", \"CAO\", \"FE2O3\", \"MGO\", \"NB2O5\", \"P2O5\", \"SIO2\", \"TIO2\"]\n",
        "\n",
        "lito_var = \"ALT\"\n",
        "\n",
        "geomet = [\"Consumo_coletor_(g/t)\", \"MASSA_T\"]\n",
        "\n",
        "x, y, z = data[\"X\"], data[\"Y\"], data[\"Z\"]\n"
      ]
    },
    {
      "attachments": {},
      "cell_type": "markdown",
      "metadata": {
        "id": "_cSHCXmOYoC8"
      },
      "source": [
        "## Number of rows x Number of columns"
      ]
    },
    {
      "cell_type": "code",
      "execution_count": null,
      "metadata": {
        "colab": {
          "base_uri": "https://localhost:8080/"
        },
        "id": "GUvQtaNeHKvU",
        "outputId": "30fedfb7-443b-427c-bccd-56aaadf0cbfd"
      },
      "outputs": [],
      "source": [
        "print(f\"Number of rows: {data.shape[0]}\")\n",
        "print(f\"Number of columns: {data.shape[1]}\")\n"
      ]
    },
    {
      "attachments": {},
      "cell_type": "markdown",
      "metadata": {
        "id": "PRC87cJoYuCu"
      },
      "source": [
        "## Counting drillholes"
      ]
    },
    {
      "cell_type": "code",
      "execution_count": null,
      "metadata": {
        "colab": {
          "base_uri": "https://localhost:8080/"
        },
        "id": "IrjOGoygHKvU",
        "outputId": "951d7da4-344f-4570-c77d-75ebf90b3f1d"
      },
      "outputs": [],
      "source": [
        "ddh = len(np.unique(data[\"Name\"]))\n",
        "print(f\"Contagem total de furos: {ddh}\")\n"
      ]
    },
    {
      "attachments": {},
      "cell_type": "markdown",
      "metadata": {
        "id": "wChSWYgCYxcJ"
      },
      "source": [
        "## Lithologies: ALT variable"
      ]
    },
    {
      "cell_type": "code",
      "execution_count": null,
      "metadata": {
        "colab": {
          "base_uri": "https://localhost:8080/"
        },
        "id": "5QaLfuefHKvV",
        "outputId": "67ffb060-81a6-4e95-ccf6-bcbb85cac2b0"
      },
      "outputs": [],
      "source": [
        "lito = np.unique(data[\"ALT\"])\n",
        "\n",
        "print(lito)\n"
      ]
    },
    {
      "attachments": {},
      "cell_type": "markdown",
      "metadata": {
        "id": "Zbn304OxZEwQ"
      },
      "source": [
        "## Counting lithologies categories with Count Plot"
      ]
    },
    {
      "cell_type": "code",
      "execution_count": null,
      "metadata": {
        "colab": {
          "base_uri": "https://localhost:8080/",
          "height": 512
        },
        "id": "VMXEGSi3HKvV",
        "outputId": "45bfd30b-8ca8-4f7d-aea7-a0a7c18fc9c2"
      },
      "outputs": [],
      "source": [
        "gv.count_cat(cat=data[\"ALT\"], color=\"#116981\")\n"
      ]
    },
    {
      "attachments": {},
      "cell_type": "markdown",
      "metadata": {
        "id": "wkEYAmTnZKju"
      },
      "source": [
        "## Describing basic statistics for each variable"
      ]
    },
    {
      "cell_type": "code",
      "execution_count": null,
      "metadata": {
        "colab": {
          "base_uri": "https://localhost:8080/",
          "height": 337
        },
        "id": "yhBNlfXaHKvV",
        "outputId": "21112759-9d02-4ab8-da4e-1371dac7833a"
      },
      "outputs": [],
      "source": [
        "print(\"Data statistics:\\n\")\n",
        "data.describe().round(2)\n"
      ]
    },
    {
      "attachments": {},
      "cell_type": "markdown",
      "metadata": {
        "id": "jCnTv6ycZSc7"
      },
      "source": [
        "## Printing NaN Values with Pandas"
      ]
    },
    {
      "cell_type": "code",
      "execution_count": null,
      "metadata": {
        "colab": {
          "base_uri": "https://localhost:8080/"
        },
        "id": "cVivjStBHKvV",
        "outputId": "388021d7-0f85-47c2-81e3-b7ec391d2a9c"
      },
      "outputs": [],
      "source": [
        "print(f\"NaN Values for each column:\")\n",
        "\n",
        "print(data.isnull().sum())\n"
      ]
    },
    {
      "attachments": {},
      "cell_type": "markdown",
      "metadata": {
        "id": "wzeZcyxhZYkG"
      },
      "source": [
        "## Plotting Histogram"
      ]
    },
    {
      "cell_type": "code",
      "execution_count": null,
      "metadata": {
        "colab": {
          "base_uri": "https://localhost:8080/",
          "height": 513
        },
        "id": "wgelex9sHKvV",
        "outputId": "df6197f0-e1a4-4268-9ce9-0e576d62fb3d"
      },
      "outputs": [],
      "source": [
        "gv.histogram(\n",
        "    data[\"P2O5\"], title=\"Histogram for $P_2O_5$\", bins=20, color=\"#116981\", cum=False\n",
        ")\n"
      ]
    },
    {
      "attachments": {},
      "cell_type": "markdown",
      "metadata": {
        "id": "IIPaOlESZq8k"
      },
      "source": [
        "## Plotting Scatterplot"
      ]
    },
    {
      "cell_type": "code",
      "execution_count": null,
      "metadata": {
        "colab": {
          "base_uri": "https://localhost:8080/",
          "height": 515
        },
        "id": "AgNWTLKeHKvV",
        "outputId": "b2f0273c-0a84-4c01-9da8-189375b2b901"
      },
      "outputs": [],
      "source": [
        "gv.scatterplot(data, \"P2O5\", \"CAO\", lineregress=False)\n"
      ]
    },
    {
      "attachments": {},
      "cell_type": "markdown",
      "metadata": {
        "id": "eVLYEecWZzIh"
      },
      "source": [
        "## Plotting Scattermatrix and Correlations"
      ]
    },
    {
      "cell_type": "code",
      "execution_count": null,
      "metadata": {
        "colab": {
          "base_uri": "https://localhost:8080/",
          "height": 1000
        },
        "id": "DYFhNTa4HKvV",
        "outputId": "31d93a0f-7f9d-4799-ee7b-d1ee88de28fe"
      },
      "outputs": [],
      "source": [
        "gv.scatter_matrix(data[variables], figsize=(20, 20))\n"
      ]
    },
    {
      "attachments": {},
      "cell_type": "markdown",
      "metadata": {
        "id": "UWBkT6vyZ5A5"
      },
      "source": [
        "## Plotting Correlation Matrix"
      ]
    },
    {
      "cell_type": "code",
      "execution_count": null,
      "metadata": {
        "colab": {
          "base_uri": "https://localhost:8080/",
          "height": 927
        },
        "id": "p787y_V0HKvW",
        "outputId": "0ae2c1c3-62cd-4cb3-a6e0-3915bd6a7184"
      },
      "outputs": [],
      "source": [
        "gv.correlation_matrix(data[variables], (10, 10), method=\"pearson\")\n"
      ]
    },
    {
      "attachments": {},
      "cell_type": "markdown",
      "metadata": {
        "id": "z-KJ8I6tag6D"
      },
      "source": [
        "## Plotting Boxplots per category: understanding all distributions"
      ]
    },
    {
      "cell_type": "code",
      "execution_count": null,
      "metadata": {
        "colab": {
          "base_uri": "https://localhost:8080/",
          "height": 1000
        },
        "id": "sey23V1RHKvW",
        "outputId": "64ac9fad-a4b8-43b2-f741-2d5fbe3c1324"
      },
      "outputs": [],
      "source": [
        "gv.boxplots(data[variables], variables, data[\"ALT\"])\n"
      ]
    },
    {
      "attachments": {},
      "cell_type": "markdown",
      "metadata": {
        "id": "kEadkXiEa46i"
      },
      "source": [
        "## Flagging outliers of a specific variable"
      ]
    },
    {
      "cell_type": "code",
      "execution_count": null,
      "metadata": {
        "colab": {
          "base_uri": "https://localhost:8080/",
          "height": 460
        },
        "id": "lkCWfeIsHKvW",
        "outputId": "18601279-d4ca-4c70-a63a-96a87e608ec3"
      },
      "outputs": [],
      "source": [
        "gv.flag_outliers(data, \"P2O5\", remove_outliers=True)\n"
      ]
    },
    {
      "attachments": {},
      "cell_type": "markdown",
      "metadata": {
        "id": "Rr247q-ebNey"
      },
      "source": [
        "## Location Map "
      ]
    },
    {
      "cell_type": "code",
      "execution_count": null,
      "metadata": {
        "colab": {
          "base_uri": "https://localhost:8080/",
          "height": 589
        },
        "id": "EfoYPs8qHKvW",
        "outputId": "a04657a9-bb11-4a76-e77c-e866d2961412"
      },
      "outputs": [],
      "source": [
        "gv.locmap(\n",
        "    data[\"X\"],\n",
        "    data[\"Y\"],\n",
        "    data[\"P2O5\"],\n",
        "    cat=False,\n",
        "    figsize=(20, 13),\n",
        "    title=\"Location map $P_2O_5$\",\n",
        ")\n"
      ]
    },
    {
      "attachments": {},
      "cell_type": "markdown",
      "metadata": {
        "id": "XwKhX_EXbRPX"
      },
      "source": [
        "## Cross Section"
      ]
    },
    {
      "cell_type": "code",
      "execution_count": null,
      "metadata": {
        "colab": {
          "base_uri": "https://localhost:8080/",
          "height": 230
        },
        "id": "LgBjPnVsHKvW",
        "outputId": "2025cbe5-3d81-4cac-b384-46dd15aa106e"
      },
      "outputs": [],
      "source": [
        "gv.locmap(\n",
        "    data[\"X\"],\n",
        "    data[\"Z\"],\n",
        "    data[\"P2O5\"],\n",
        "    cat=False,\n",
        "    figsize=(30, 20),\n",
        "    title=\"Cross section location map $P_2O_5$\",\n",
        ")\n"
      ]
    },
    {
      "attachments": {},
      "cell_type": "markdown",
      "metadata": {
        "id": "udUlzLUrbT-i"
      },
      "source": [
        "## Creating cut-offs domains"
      ]
    },
    {
      "cell_type": "code",
      "execution_count": null,
      "metadata": {
        "id": "6sqHn4s8HKvW"
      },
      "outputs": [],
      "source": [
        "data[\"ORE\"] = np.where(data[\"P2O5\"] >= 6, \"Rich\", \"Poor\")\n"
      ]
    },
    {
      "attachments": {},
      "cell_type": "markdown",
      "metadata": {
        "id": "eYtmhmw5bYgY"
      },
      "source": [
        "## Visualize Rich and Poor domains"
      ]
    },
    {
      "cell_type": "code",
      "execution_count": null,
      "metadata": {
        "colab": {
          "base_uri": "https://localhost:8080/",
          "height": 229
        },
        "id": "wFOPukHBHKvW",
        "outputId": "9b95c07f-f869-4ae1-fbb9-a8ce6cd45db9"
      },
      "outputs": [],
      "source": [
        "gv.locmap(\n",
        "    data[\"X\"],\n",
        "    data[\"Z\"],\n",
        "    data[\"ORE\"],\n",
        "    cat=True,\n",
        "    figsize=(30, 10),\n",
        "    title=\"Categorical location map for $P_2O_5$\",\n",
        ")\n"
      ]
    },
    {
      "cell_type": "code",
      "execution_count": null,
      "metadata": {
        "colab": {
          "base_uri": "https://localhost:8080/",
          "height": 677
        },
        "id": "mpgjWi7zHKvW",
        "outputId": "89b345ab-7a13-4a4a-aea1-b6a1d62aca68"
      },
      "outputs": [],
      "source": [
        "gv.tdscatter(data[\"X\"], data[\"Y\"], data[\"Z\"], data[\"ORE\"], zex=1, s=3, azim=80, elev=20)\n"
      ]
    },
    {
      "cell_type": "markdown",
      "metadata": {
        "id": "GAm7kccGtJBj"
      },
      "source": [
        "## Practice\n",
        "\n",
        "Generate different histograms to analyze the distributions of the main variables. Analyze and comment on the results. Use the function **gv.histogram()** to generate the results\n",
        "\n",
        "\n",
        "\n"
      ]
    },
    {
      "cell_type": "code",
      "execution_count": null,
      "metadata": {
        "id": "0W55uXyTZSul"
      },
      "outputs": [],
      "source": [
        "## code\n"
      ]
    },
    {
      "cell_type": "markdown",
      "metadata": {
        "id": "D-pFUjmaY8gy"
      },
      "source": [
        "Generate scatter plots and a new scatter plot matrix to understand the dispersion and correlations between variables. Also, use the correlation matrix. To do this, use the functions **gv.scatterplot(), gv.scatter_matrix(), and gv.correlation_matrix()**.\n",
        "\n",
        "Note: declare new variables for the scatter plot matrix and for the correlation matrix. For this, you can declare a new variable with the chemical and metallurgical variables of interest. Use in this new step the geometallurgical variables.\n",
        "\n"
      ]
    },
    {
      "cell_type": "code",
      "execution_count": null,
      "metadata": {
        "id": "kYynqSuuZU-m"
      },
      "outputs": [],
      "source": [
        "## code\n"
      ]
    },
    {
      "cell_type": "markdown",
      "metadata": {
        "id": "KGLI_FZkx-I0"
      },
      "source": [
        "Along with the analysis of the boxplots, generate different flags for outliers of other variables through the function **gv.flag_outliers()** and analyze the results.\n",
        "\n",
        "\n",
        "\n",
        "\n",
        "\n"
      ]
    },
    {
      "cell_type": "code",
      "execution_count": null,
      "metadata": {
        "id": "Ys4NG8QhZciL"
      },
      "outputs": [],
      "source": [
        "## code\n"
      ]
    },
    {
      "cell_type": "markdown",
      "metadata": {
        "id": "QhsO8Bc0ZW6U"
      },
      "source": [
        "Make a new domain division with other cut-off grades of your interest using other variables. Use the **np.where()** function."
      ]
    },
    {
      "cell_type": "code",
      "execution_count": null,
      "metadata": {
        "id": "NxylpB5BZcnx"
      },
      "outputs": [],
      "source": [
        "## code\n"
      ]
    },
    {
      "cell_type": "markdown",
      "metadata": {
        "id": "MoKkOmB6ZZlH"
      },
      "source": [
        "Visualize the results obtained with a location map, a horizontal section, and a three-dimensional plot with **gv.locmap and gv.tdscatter**."
      ]
    },
    {
      "cell_type": "code",
      "execution_count": null,
      "metadata": {
        "id": "0BmMJa-DZdtX"
      },
      "outputs": [],
      "source": [
        "## code\n"
      ]
    }
  ],
  "metadata": {
    "colab": {
      "provenance": []
    },
    "kernelspec": {
      "display_name": ".venv",
      "language": "python",
      "name": "python3"
    },
    "language_info": {
      "codemirror_mode": {
        "name": "ipython",
        "version": 3
      },
      "file_extension": ".py",
      "mimetype": "text/x-python",
      "name": "python",
      "nbconvert_exporter": "python",
      "pygments_lexer": "ipython3",
      "version": "3.10.10"
    },
    "orig_nbformat": 4,
    "vscode": {
      "interpreter": {
        "hash": "3b693c35aaa3f440c2e2dc6c27786710da90ea3e1d973858722b914326c9afee"
      }
    }
  },
  "nbformat": 4,
  "nbformat_minor": 0
}
