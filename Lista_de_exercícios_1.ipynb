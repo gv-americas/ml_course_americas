{
  "nbformat": 4,
  "nbformat_minor": 0,
  "metadata": {
    "colab": {
      "provenance": []
    },
    "kernelspec": {
      "name": "python3",
      "display_name": "Python 3"
    },
    "language_info": {
      "name": "python"
    }
  },
  "cells": [
    {
      "cell_type": "markdown",
      "source": [
        "# Lista De Exercícios\n",
        "Esta é uma lista com exercícios sobre os topicos abordados. Os exercícios estão divididos em categorias e procuram obedecer a mesma ordem em que foram passados.\n",
        "\n",
        "- Python basics: sintax, properties, indetation and data types;\n",
        "-  Operations in Python;\n",
        "-  Data structures: lists, tuples and dictionaries;\n",
        "-  Flow control: if...else, while loops, for loops and list comprehension;\n",
        "-  Python functions: returning data as a result;\n",
        "-  Lambda functions: small anonymous function."
      ],
      "metadata": {
        "id": "iEm7pk4Xc9_P"
      }
    },
    {
      "cell_type": "markdown",
      "source": [
        "# Exercicio 1\n",
        "**Sintaxe:** Crie um programa que imprima uma frase ou palavra escrita por você\n",
        "<details>\n",
        "  <summary><strong> Dica </strong></summary>\n",
        "  \n",
        "  Utilize \"print\"\n",
        "  \n",
        "</details>"
      ],
      "metadata": {
        "id": "Q9LwRPiKdzG9"
      }
    },
    {
      "cell_type": "code",
      "source": [
        "#Digite sua resposta aqui"
      ],
      "metadata": {
        "id": "jC2u0uOpfEoz"
      },
      "execution_count": 1,
      "outputs": []
    },
    {
      "cell_type": "markdown",
      "source": [
        "# Exercício 2\n",
        "**Variáveis:** Crie 3 variáveis (uma com um valor inteiro, outra de ponto flutuante e a ultima com um texto) e imprima os valores na tela\n",
        "<details>\n",
        "  <summary><strong> Dica </strong></summary>\n",
        "  \n",
        "v1 = ...\n",
        "\n",
        "v2 = ...\n",
        "\n",
        "v3 = ...\n",
        "  \n",
        "</details>\n",
        "\n",
        "\n"
      ],
      "metadata": {
        "id": "Mvxd43uQgSe3"
      }
    },
    {
      "cell_type": "code",
      "source": [
        "#Digite sua resposta aqui"
      ],
      "metadata": {
        "id": "ThW0FycXgEqf"
      },
      "execution_count": 2,
      "outputs": []
    },
    {
      "cell_type": "markdown",
      "source": [
        "# Exercício 3\n",
        "**Tipos de variáveis:** Confirme que os tipos de variáveis criadas no exercício anterior estão corretas.\n",
        "<details>\n",
        "  <summary><strong> Dica </strong></summary>\n",
        "\n",
        "v1... \"int\"\n",
        "\n",
        "v2... \"float\"\n",
        "\n",
        "v3... \"str\"\n",
        "\n",
        "Utilize \"type\"\n",
        "  \n",
        "</details>"
      ],
      "metadata": {
        "id": "dhK6ChGlgS_r"
      }
    },
    {
      "cell_type": "code",
      "source": [
        "#Digite sua resposta aqui"
      ],
      "metadata": {
        "id": "bFc7-_5NgTVi"
      },
      "execution_count": null,
      "outputs": []
    },
    {
      "cell_type": "markdown",
      "source": [
        "# Exercício 4\n",
        "**Variáveis inteiras e soma:** Crie duas variáveis inteiras e atribua valores diferentes a elas. Em seguida, imprima a soma das duas variáveis na *tela*\n",
        "<details>\n",
        "  <summary><strong> Dica </strong></summary>\n",
        "  \n",
        "v1 =...\n",
        "\n",
        "v2 =...\n",
        "\n",
        "print v1+v2\n",
        "  \n",
        "</details>"
      ],
      "metadata": {
        "id": "AI85YAPFgS5g"
      }
    },
    {
      "cell_type": "code",
      "source": [
        "#Digite sua resposta aqui"
      ],
      "metadata": {
        "id": "o_qrJsYsgTax"
      },
      "execution_count": null,
      "outputs": []
    },
    {
      "cell_type": "markdown",
      "source": [],
      "metadata": {
        "id": "X-qtVkjSgS8S"
      }
    },
    {
      "cell_type": "code",
      "source": [],
      "metadata": {
        "id": "V_g6Xr2NgTYJ"
      },
      "execution_count": null,
      "outputs": []
    },
    {
      "cell_type": "markdown",
      "source": [],
      "metadata": {
        "id": "-QqJjGpXoIuv"
      }
    },
    {
      "cell_type": "code",
      "source": [],
      "metadata": {
        "id": "PipH-5-sgTeQ"
      },
      "execution_count": null,
      "outputs": []
    }
  ]
}